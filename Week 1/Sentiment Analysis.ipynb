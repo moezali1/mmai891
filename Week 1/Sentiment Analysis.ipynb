{
 "cells": [
  {
   "cell_type": "code",
   "execution_count": 1,
   "metadata": {},
   "outputs": [],
   "source": [
    "# Resort: Moon Palace Cancun\n",
    "# Data Scrapped using: apify.com\n",
    "# Dataset: dataset_expedia-hotels-com-reviews-scraper_2024.csv"
   ]
  },
  {
   "cell_type": "code",
   "execution_count": 2,
   "metadata": {},
   "outputs": [],
   "source": [
    "import pandas as pd\n",
    "from nltk.sentiment.vader import SentimentIntensityAnalyzer\n",
    "from textblob import TextBlob\n",
    "import nltk\n",
    "import matplotlib.pyplot as plt"
   ]
  },
  {
   "cell_type": "code",
   "execution_count": 3,
   "metadata": {},
   "outputs": [
    {
     "name": "stderr",
     "output_type": "stream",
     "text": [
      "[nltk_data] Downloading package vader_lexicon to\n",
      "[nltk_data]     C:\\Users\\owner\\AppData\\Roaming\\nltk_data...\n",
      "[nltk_data]   Package vader_lexicon is already up-to-date!\n"
     ]
    },
    {
     "data": {
      "text/plain": [
       "True"
      ]
     },
     "execution_count": 3,
     "metadata": {},
     "output_type": "execute_result"
    }
   ],
   "source": [
    "# Ensure you have the necessary NLTK data\n",
    "nltk.download('vader_lexicon')"
   ]
  },
  {
   "cell_type": "code",
   "execution_count": 4,
   "metadata": {},
   "outputs": [
    {
     "data": {
      "text/html": [
       "<div>\n",
       "<style scoped>\n",
       "    .dataframe tbody tr th:only-of-type {\n",
       "        vertical-align: middle;\n",
       "    }\n",
       "\n",
       "    .dataframe tbody tr th {\n",
       "        vertical-align: top;\n",
       "    }\n",
       "\n",
       "    .dataframe thead th {\n",
       "        text-align: right;\n",
       "    }\n",
       "</style>\n",
       "<table border=\"1\" class=\"dataframe\">\n",
       "  <thead>\n",
       "    <tr style=\"text-align: right;\">\n",
       "      <th></th>\n",
       "      <th>__typename</th>\n",
       "      <th>brandType</th>\n",
       "      <th>contentDirectFeedbackPromptId</th>\n",
       "      <th>customData/doWeEndorseIt</th>\n",
       "      <th>customData/hotel</th>\n",
       "      <th>hotelId</th>\n",
       "      <th>id</th>\n",
       "      <th>impressionAnalytics</th>\n",
       "      <th>impressionAnalytics/__typename</th>\n",
       "      <th>impressionAnalytics/event</th>\n",
       "      <th>...</th>\n",
       "      <th>translationInfo/loadingTranslationText</th>\n",
       "      <th>translationInfo/seeOriginalText</th>\n",
       "      <th>translationInfo/targetLocale</th>\n",
       "      <th>translationInfo/translatedBy/__typename</th>\n",
       "      <th>translationInfo/translatedBy/description</th>\n",
       "      <th>translationInfo/translationCallToActionLabel</th>\n",
       "      <th>travelers/0</th>\n",
       "      <th>travelers/1</th>\n",
       "      <th>travelers/2</th>\n",
       "      <th>travelers/3</th>\n",
       "    </tr>\n",
       "  </thead>\n",
       "  <tbody>\n",
       "    <tr>\n",
       "      <th>0</th>\n",
       "      <td>PropertyReview</td>\n",
       "      <td>Expedia</td>\n",
       "      <td>NaN</td>\n",
       "      <td>no opinion</td>\n",
       "      <td>Prague Hotel Krystal</td>\n",
       "      <td>428588</td>\n",
       "      <td>66b63b958397934320ad7f75</td>\n",
       "      <td>NaN</td>\n",
       "      <td>NaN</td>\n",
       "      <td>NaN</td>\n",
       "      <td>...</td>\n",
       "      <td>NaN</td>\n",
       "      <td>NaN</td>\n",
       "      <td>NaN</td>\n",
       "      <td>NaN</td>\n",
       "      <td>NaN</td>\n",
       "      <td>NaN</td>\n",
       "      <td>Traveled with family and small children</td>\n",
       "      <td>Traveled with family</td>\n",
       "      <td>NaN</td>\n",
       "      <td>NaN</td>\n",
       "    </tr>\n",
       "    <tr>\n",
       "      <th>1</th>\n",
       "      <td>PropertyReview</td>\n",
       "      <td>Expedia</td>\n",
       "      <td>NaN</td>\n",
       "      <td>no opinion</td>\n",
       "      <td>Prague Hotel Krystal</td>\n",
       "      <td>428588</td>\n",
       "      <td>66b503566a7cfe1353bdb91e</td>\n",
       "      <td>NaN</td>\n",
       "      <td>NaN</td>\n",
       "      <td>NaN</td>\n",
       "      <td>...</td>\n",
       "      <td>NaN</td>\n",
       "      <td>NaN</td>\n",
       "      <td>NaN</td>\n",
       "      <td>NaN</td>\n",
       "      <td>NaN</td>\n",
       "      <td>NaN</td>\n",
       "      <td>Traveled with family</td>\n",
       "      <td>NaN</td>\n",
       "      <td>NaN</td>\n",
       "      <td>NaN</td>\n",
       "    </tr>\n",
       "    <tr>\n",
       "      <th>2</th>\n",
       "      <td>PropertyReview</td>\n",
       "      <td>Expedia</td>\n",
       "      <td>NaN</td>\n",
       "      <td>no opinion</td>\n",
       "      <td>Prague Hotel Krystal</td>\n",
       "      <td>428588</td>\n",
       "      <td>66b4d8d6e6073643fd1b9cdc</td>\n",
       "      <td>NaN</td>\n",
       "      <td>NaN</td>\n",
       "      <td>NaN</td>\n",
       "      <td>...</td>\n",
       "      <td>NaN</td>\n",
       "      <td>NaN</td>\n",
       "      <td>NaN</td>\n",
       "      <td>NaN</td>\n",
       "      <td>NaN</td>\n",
       "      <td>NaN</td>\n",
       "      <td>Traveled with family and small children</td>\n",
       "      <td>NaN</td>\n",
       "      <td>NaN</td>\n",
       "      <td>NaN</td>\n",
       "    </tr>\n",
       "    <tr>\n",
       "      <th>3</th>\n",
       "      <td>PropertyReview</td>\n",
       "      <td>Expedia</td>\n",
       "      <td>NaN</td>\n",
       "      <td>no opinion</td>\n",
       "      <td>Prague Hotel Krystal</td>\n",
       "      <td>428588</td>\n",
       "      <td>66b3c0f33677b72a4489b05f</td>\n",
       "      <td>NaN</td>\n",
       "      <td>NaN</td>\n",
       "      <td>NaN</td>\n",
       "      <td>...</td>\n",
       "      <td>NaN</td>\n",
       "      <td>NaN</td>\n",
       "      <td>NaN</td>\n",
       "      <td>NaN</td>\n",
       "      <td>NaN</td>\n",
       "      <td>NaN</td>\n",
       "      <td>Traveled with family and small children</td>\n",
       "      <td>NaN</td>\n",
       "      <td>NaN</td>\n",
       "      <td>NaN</td>\n",
       "    </tr>\n",
       "    <tr>\n",
       "      <th>4</th>\n",
       "      <td>PropertyReview</td>\n",
       "      <td>Expedia</td>\n",
       "      <td>NaN</td>\n",
       "      <td>no opinion</td>\n",
       "      <td>Prague Hotel Krystal</td>\n",
       "      <td>428588</td>\n",
       "      <td>66b36f292fa7b179c05b6637</td>\n",
       "      <td>NaN</td>\n",
       "      <td>ClientSideImpressionEventAnalytics</td>\n",
       "      <td>Scroll reviews</td>\n",
       "      <td>...</td>\n",
       "      <td>NaN</td>\n",
       "      <td>NaN</td>\n",
       "      <td>NaN</td>\n",
       "      <td>NaN</td>\n",
       "      <td>NaN</td>\n",
       "      <td>NaN</td>\n",
       "      <td>NaN</td>\n",
       "      <td>NaN</td>\n",
       "      <td>NaN</td>\n",
       "      <td>NaN</td>\n",
       "    </tr>\n",
       "  </tbody>\n",
       "</table>\n",
       "<p>5 rows × 120 columns</p>\n",
       "</div>"
      ],
      "text/plain": [
       "       __typename brandType  contentDirectFeedbackPromptId  \\\n",
       "0  PropertyReview   Expedia                            NaN   \n",
       "1  PropertyReview   Expedia                            NaN   \n",
       "2  PropertyReview   Expedia                            NaN   \n",
       "3  PropertyReview   Expedia                            NaN   \n",
       "4  PropertyReview   Expedia                            NaN   \n",
       "\n",
       "  customData/doWeEndorseIt      customData/hotel  hotelId  \\\n",
       "0               no opinion  Prague Hotel Krystal   428588   \n",
       "1               no opinion  Prague Hotel Krystal   428588   \n",
       "2               no opinion  Prague Hotel Krystal   428588   \n",
       "3               no opinion  Prague Hotel Krystal   428588   \n",
       "4               no opinion  Prague Hotel Krystal   428588   \n",
       "\n",
       "                         id  impressionAnalytics  \\\n",
       "0  66b63b958397934320ad7f75                  NaN   \n",
       "1  66b503566a7cfe1353bdb91e                  NaN   \n",
       "2  66b4d8d6e6073643fd1b9cdc                  NaN   \n",
       "3  66b3c0f33677b72a4489b05f                  NaN   \n",
       "4  66b36f292fa7b179c05b6637                  NaN   \n",
       "\n",
       "       impressionAnalytics/__typename impressionAnalytics/event  ...  \\\n",
       "0                                 NaN                       NaN  ...   \n",
       "1                                 NaN                       NaN  ...   \n",
       "2                                 NaN                       NaN  ...   \n",
       "3                                 NaN                       NaN  ...   \n",
       "4  ClientSideImpressionEventAnalytics            Scroll reviews  ...   \n",
       "\n",
       "  translationInfo/loadingTranslationText translationInfo/seeOriginalText  \\\n",
       "0                                    NaN                             NaN   \n",
       "1                                    NaN                             NaN   \n",
       "2                                    NaN                             NaN   \n",
       "3                                    NaN                             NaN   \n",
       "4                                    NaN                             NaN   \n",
       "\n",
       "  translationInfo/targetLocale translationInfo/translatedBy/__typename  \\\n",
       "0                          NaN                                     NaN   \n",
       "1                          NaN                                     NaN   \n",
       "2                          NaN                                     NaN   \n",
       "3                          NaN                                     NaN   \n",
       "4                          NaN                                     NaN   \n",
       "\n",
       "  translationInfo/translatedBy/description  \\\n",
       "0                                      NaN   \n",
       "1                                      NaN   \n",
       "2                                      NaN   \n",
       "3                                      NaN   \n",
       "4                                      NaN   \n",
       "\n",
       "  translationInfo/translationCallToActionLabel  \\\n",
       "0                                          NaN   \n",
       "1                                          NaN   \n",
       "2                                          NaN   \n",
       "3                                          NaN   \n",
       "4                                          NaN   \n",
       "\n",
       "                               travelers/0           travelers/1 travelers/2  \\\n",
       "0  Traveled with family and small children  Traveled with family         NaN   \n",
       "1                     Traveled with family                   NaN         NaN   \n",
       "2  Traveled with family and small children                   NaN         NaN   \n",
       "3  Traveled with family and small children                   NaN         NaN   \n",
       "4                                      NaN                   NaN         NaN   \n",
       "\n",
       "  travelers/3  \n",
       "0         NaN  \n",
       "1         NaN  \n",
       "2         NaN  \n",
       "3         NaN  \n",
       "4         NaN  \n",
       "\n",
       "[5 rows x 120 columns]"
      ]
     },
     "execution_count": 4,
     "metadata": {},
     "output_type": "execute_result"
    }
   ],
   "source": [
    "# Read data\n",
    "data = pd.read_csv('dataset_expedia-hotels-com-reviews-scraper_2024.csv')\n",
    "data.head()"
   ]
  },
  {
   "cell_type": "code",
   "execution_count": 5,
   "metadata": {},
   "outputs": [
    {
     "data": {
      "text/plain": [
       "(2412, 120)"
      ]
     },
     "execution_count": 5,
     "metadata": {},
     "output_type": "execute_result"
    }
   ],
   "source": [
    "data.shape"
   ]
  },
  {
   "cell_type": "markdown",
   "metadata": {},
   "source": [
    "# Sentiment Analysis using NLTK Vader"
   ]
  },
  {
   "cell_type": "code",
   "execution_count": 6,
   "metadata": {},
   "outputs": [],
   "source": [
    "def clean_reviews(df, min_length=10):\n",
    "    # Drop NaN values and strip whitespace\n",
    "    cleaned_reviews = df['text'].dropna().apply(lambda x: x.strip())\n",
    "    \n",
    "    # Filter out reviews that are too short or contain garbage text\n",
    "    cleaned_reviews = cleaned_reviews[cleaned_reviews.apply(lambda x: len(x) >= min_length)]\n",
    "    \n",
    "    return cleaned_reviews.tolist()\n",
    "\n",
    "\n",
    "# Clean the reviews\n",
    "cleaned_reviews = clean_reviews(data)"
   ]
  },
  {
   "cell_type": "code",
   "execution_count": 7,
   "metadata": {},
   "outputs": [
    {
     "data": {
      "text/plain": [
       "['The property was too large for my liking. The food was okay some days and not great at all some days. Definitely the food needs a upgrade especially the Italian food. The pool area was beautiful, but the pools had mold. Pools need to be cleaned better. and the Beach lets talk about the beach. Its horrible it has tons of sea weed. If you are going to this hotel for the beach forget it. reroute yourself else were. I would give this hotel a 3 out of 5. Maybe next time I would prefer the Grand. Its newer.',\n",
       " 'The stuff are very friendly,Food is excellent it has variety of food and restaurants.swimming pool is good it doesn’t have a good beach in fact we couldn’t use beach due to dirty so we spent more time on swim pool',\n",
       " 'Too big, no organized transportation and short staffed (get ready to wait for everything you do)',\n",
       " 'That they were really pushy when it comes to selling their other resorts. For example their day pass. They kept calling the room to see why we didn’t want to go',\n",
       " 'It was good experience, definitely worth it!']"
      ]
     },
     "execution_count": 7,
     "metadata": {},
     "output_type": "execute_result"
    }
   ],
   "source": [
    "cleaned_reviews[:5]"
   ]
  },
  {
   "cell_type": "code",
   "execution_count": 8,
   "metadata": {},
   "outputs": [
    {
     "name": "stdout",
     "output_type": "stream",
     "text": [
      "Sentiment\n",
      "positive    1249\n",
      "negative     315\n",
      "Name: count, dtype: int64\n"
     ]
    },
    {
     "data": {
      "image/png": "[encoded data removed]",
      "text/plain": [
       "<Figure size 600x400 with 1 Axes>"
      ]
     },
     "metadata": {},
     "output_type": "display_data"
    }
   ],
   "source": [
    "# Initialize VADER sentiment analyzer\n",
    "vader_analyzer = SentimentIntensityAnalyzer()\n",
    "\n",
    "# Analyze sentiment using VADER\n",
    "vader_sentiments = []\n",
    "for review in cleaned_reviews:\n",
    "    score = vader_analyzer.polarity_scores(review)\n",
    "    sentiment = 'positive' if score['compound'] >= 0 else 'negative'\n",
    "    vader_sentiments.append(sentiment)\n",
    "\n",
    "# Create a DataFrame to store the results\n",
    "vader_df = pd.DataFrame({'Review': cleaned_reviews, 'Sentiment': vader_sentiments})\n",
    "\n",
    "# Display sentiment counts\n",
    "print(vader_df['Sentiment'].value_counts())\n",
    "\n",
    "# Visualization\n",
    "vader_df['Sentiment'].value_counts().plot(kind='bar', figsize=(6, 4), color='lightgreen')\n",
    "plt.title('VADER Sentiment Analysis Results')\n",
    "plt.xlabel('Sentiment')\n",
    "plt.ylabel('Number of Reviews')\n",
    "plt.xticks(rotation=0)\n",
    "plt.show()"
   ]
  },
  {
   "cell_type": "markdown",
   "metadata": {},
   "source": [
    "# Sentiment Analysis using TextBlob"
   ]
  },
  {
   "cell_type": "code",
   "execution_count": 9,
   "metadata": {},
   "outputs": [
    {
     "name": "stdout",
     "output_type": "stream",
     "text": [
      "Sentiment\n",
      "positive    1345\n",
      "negative     219\n",
      "Name: count, dtype: int64\n"
     ]
    },
    {
     "data": {
      "image/png": "[encoded data removed]",
      "text/plain": [
       "<Figure size 600x400 with 1 Axes>"
      ]
     },
     "metadata": {},
     "output_type": "display_data"
    }
   ],
   "source": [
    "from textblob import TextBlob\n",
    "\n",
    "# Analyze sentiment using TextBlob\n",
    "textblob_sentiments = []\n",
    "for review in cleaned_reviews:\n",
    "    analysis = TextBlob(review)\n",
    "    sentiment = 'positive' if analysis.sentiment.polarity >= 0 else 'negative'\n",
    "    textblob_sentiments.append(sentiment)\n",
    "\n",
    "# Create a DataFrame to store the results\n",
    "textblob_df = pd.DataFrame({'Review': cleaned_reviews, 'Sentiment': textblob_sentiments})\n",
    "\n",
    "# Display sentiment counts\n",
    "print(textblob_df['Sentiment'].value_counts())\n",
    "\n",
    "# Visualization\n",
    "textblob_df['Sentiment'].value_counts().plot(kind='bar', figsize=(6, 4), color='skyblue')\n",
    "plt.title('TextBlob Sentiment Analysis Results')\n",
    "plt.xlabel('Sentiment')\n",
    "plt.ylabel('Number of Reviews')\n",
    "plt.xticks(rotation=0)\n",
    "plt.show()"
   ]
  },
  {
   "cell_type": "markdown",
   "metadata": {},
   "source": [
    "# Sentiment Analysis using BERT (Transformers)"
   ]
  },
  {
   "cell_type": "code",
   "execution_count": 10,
   "metadata": {},
   "outputs": [],
   "source": [
    "# Week 3 / 4"
   ]
  },
  {
   "cell_type": "code",
   "execution_count": null,
   "metadata": {},
   "outputs": [],
   "source": []
  }
 ],
 "metadata": {
  "kernelspec": {
   "display_name": "mmai891",
   "language": "python",
   "name": "python3"
  },
  "language_info": {
   "codemirror_mode": {
    "name": "ipython",
    "version": 3
   },
   "file_extension": ".py",
   "mimetype": "text/x-python",
   "name": "python",
   "nbconvert_exporter": "python",
   "pygments_lexer": "ipython3",
   "version": "3.11.9"
  }
 },
 "nbformat": 4,
 "nbformat_minor": 2
}
