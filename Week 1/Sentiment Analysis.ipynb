{
 "cells": [
  {
   "cell_type": "code",
   "execution_count": 1,
   "metadata": {},
   "outputs": [],
   "source": [
    "# Resort: Moon Palace Cancun\n",
    "# Data Scrapped using: apify.com\n",
    "# Dataset: dataset_expedia-hotels-com-reviews-scraper_2024.csv"
   ]
  },
  {
   "cell_type": "code",
   "execution_count": 1,
   "metadata": {},
   "outputs": [
    {
     "ename": "ModuleNotFoundError",
     "evalue": "No module named 'nltk'",
     "output_type": "error",
     "traceback": [
      "\u001b[1;31m---------------------------------------------------------------------------\u001b[0m",
      "\u001b[1;31mModuleNotFoundError\u001b[0m                       Traceback (most recent call last)",
      "Cell \u001b[1;32mIn[1], line 2\u001b[0m\n\u001b[0;32m      1\u001b[0m \u001b[38;5;28;01mimport\u001b[39;00m \u001b[38;5;21;01mpandas\u001b[39;00m \u001b[38;5;28;01mas\u001b[39;00m \u001b[38;5;21;01mpd\u001b[39;00m\n\u001b[1;32m----> 2\u001b[0m \u001b[38;5;28;01mfrom\u001b[39;00m \u001b[38;5;21;01mnltk\u001b[39;00m\u001b[38;5;21;01m.\u001b[39;00m\u001b[38;5;21;01msentiment\u001b[39;00m\u001b[38;5;21;01m.\u001b[39;00m\u001b[38;5;21;01mvader\u001b[39;00m \u001b[38;5;28;01mimport\u001b[39;00m SentimentIntensityAnalyzer\n\u001b[0;32m      3\u001b[0m \u001b[38;5;28;01mfrom\u001b[39;00m \u001b[38;5;21;01mtextblob\u001b[39;00m \u001b[38;5;28;01mimport\u001b[39;00m TextBlob\n\u001b[0;32m      4\u001b[0m \u001b[38;5;28;01mimport\u001b[39;00m \u001b[38;5;21;01mnltk\u001b[39;00m\n",
      "\u001b[1;31mModuleNotFoundError\u001b[0m: No module named 'nltk'"
     ]
    }
   ],
   "source": [
    "import pandas as pd\n",
    "from nltk.sentiment.vader import SentimentIntensityAnalyzer\n",
    "from textblob import TextBlob\n",
    "import nltk\n",
    "import matplotlib.pyplot as plt"
   ]
  },
  {
   "cell_type": "code",
   "execution_count": null,
   "metadata": {},
   "outputs": [],
   "source": [
    "# Ensure you have the necessary NLTK data\n",
    "nltk.download('vader_lexicon')"
   ]
  },
  {
   "cell_type": "code",
   "execution_count": null,
   "metadata": {},
   "outputs": [],
   "source": [
    "# Read data\n",
    "data = pd.read_csv('dataset_expedia-hotels-com-reviews-scraper_2024.csv')\n",
    "data.head()"
   ]
  },
  {
   "cell_type": "code",
   "execution_count": null,
   "metadata": {},
   "outputs": [],
   "source": [
    "data.shape"
   ]
  },
  {
   "cell_type": "markdown",
   "metadata": {},
   "source": [
    "# Sentiment Analysis using NLTK Vader"
   ]
  },
  {
   "cell_type": "code",
   "execution_count": 6,
   "metadata": {},
   "outputs": [],
   "source": [
    "def clean_reviews(df, min_length=10):\n",
    "    # Drop NaN values and strip whitespace\n",
    "    cleaned_reviews = df['text'].dropna().apply(lambda x: x.strip())\n",
    "    \n",
    "    # Filter out reviews that are too short or contain garbage text\n",
    "    cleaned_reviews = cleaned_reviews[cleaned_reviews.apply(lambda x: len(x) >= min_length)]\n",
    "    \n",
    "    return cleaned_reviews.tolist()\n",
    "\n",
    "\n",
    "# Clean the reviews\n",
    "cleaned_reviews = clean_reviews(data)"
   ]
  },
  {
   "cell_type": "code",
   "execution_count": null,
   "metadata": {},
   "outputs": [],
   "source": [
    "cleaned_reviews[:5]"
   ]
  },
  {
   "cell_type": "code",
   "execution_count": null,
   "metadata": {},
   "outputs": [],
   "source": [
    "# Initialize VADER sentiment analyzer\n",
    "vader_analyzer = SentimentIntensityAnalyzer()\n",
    "\n",
    "# Analyze sentiment using VADER\n",
    "vader_sentiments = []\n",
    "for review in cleaned_reviews:\n",
    "    score = vader_analyzer.polarity_scores(review)\n",
    "    sentiment = 'positive' if score['compound'] >= 0 else 'negative'\n",
    "    vader_sentiments.append(sentiment)\n",
    "\n",
    "# Create a DataFrame to store the results\n",
    "vader_df = pd.DataFrame({'Review': cleaned_reviews, 'Sentiment': vader_sentiments})\n",
    "\n",
    "# Display sentiment counts\n",
    "print(vader_df['Sentiment'].value_counts())\n",
    "\n",
    "# Visualization\n",
    "vader_df['Sentiment'].value_counts().plot(kind='bar', figsize=(6, 4), color='lightgreen')\n",
    "plt.title('VADER Sentiment Analysis Results')\n",
    "plt.xlabel('Sentiment')\n",
    "plt.ylabel('Number of Reviews')\n",
    "plt.xticks(rotation=0)\n",
    "plt.show()"
   ]
  },
  {
   "cell_type": "markdown",
   "metadata": {},
   "source": [
    "# Sentiment Analysis using TextBlob"
   ]
  },
  {
   "cell_type": "code",
   "execution_count": null,
   "metadata": {},
   "outputs": [],
   "source": [
    "from textblob import TextBlob\n",
    "\n",
    "# Analyze sentiment using TextBlob\n",
    "textblob_sentiments = []\n",
    "for review in cleaned_reviews:\n",
    "    analysis = TextBlob(review)\n",
    "    sentiment = 'positive' if analysis.sentiment.polarity >= 0 else 'negative'\n",
    "    textblob_sentiments.append(sentiment)\n",
    "\n",
    "# Create a DataFrame to store the results\n",
    "textblob_df = pd.DataFrame({'Review': cleaned_reviews, 'Sentiment': textblob_sentiments})\n",
    "\n",
    "# Display sentiment counts\n",
    "print(textblob_df['Sentiment'].value_counts())\n",
    "\n",
    "# Visualization\n",
    "textblob_df['Sentiment'].value_counts().plot(kind='bar', figsize=(6, 4), color='skyblue')\n",
    "plt.title('TextBlob Sentiment Analysis Results')\n",
    "plt.xlabel('Sentiment')\n",
    "plt.ylabel('Number of Reviews')\n",
    "plt.xticks(rotation=0)\n",
    "plt.show()"
   ]
  },
  {
   "cell_type": "markdown",
   "metadata": {},
   "source": [
    "# Sentiment Analysis using BERT (Transformers)"
   ]
  },
  {
   "cell_type": "code",
   "execution_count": 10,
   "metadata": {},
   "outputs": [],
   "source": [
    "# Week 3 / 4"
   ]
  },
  {
   "cell_type": "code",
   "execution_count": null,
   "metadata": {},
   "outputs": [],
   "source": []
  }
 ],
 "metadata": {
  "kernelspec": {
   "display_name": "mmai891",
   "language": "python",
   "name": "python3"
  },
  "language_info": {
   "codemirror_mode": {
    "name": "ipython",
    "version": 3
   },
   "file_extension": ".py",
   "mimetype": "text/x-python",
   "name": "python",
   "nbconvert_exporter": "python",
   "pygments_lexer": "ipython3",
   "version": "3.11.10"
  }
 },
 "nbformat": 4,
 "nbformat_minor": 2
}
