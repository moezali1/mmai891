{
 "cells": [
  {
   "cell_type": "code",
   "execution_count": 1,
   "metadata": {},
   "outputs": [],
   "source": [
    "from openai import OpenAI"
   ]
  },
  {
   "cell_type": "code",
   "execution_count": 2,
   "metadata": {},
   "outputs": [],
   "source": [
    "import os\n",
    "os.environ[\"OPENAI_API_KEY\"] = \" \""
   ]
  },
  {
   "cell_type": "markdown",
   "metadata": {},
   "source": [
    "# Text Generation API"
   ]
  },
  {
   "cell_type": "code",
   "execution_count": 8,
   "metadata": {},
   "outputs": [
    {
     "name": "stdout",
     "output_type": "stream",
     "text": [
      "ChatCompletionMessage(content=\"In the land where code and logic weave,\\nLies a tale that many might perceive.\\nA story spun in a programmer's verse,\\nThe wondrous world where functions traverse.\\n\\nBehold recursion, a magical art,\\nWhere a function plays a most curious part.\\nIt calls itself, oh what a spree,\\nTo solve a problem recursively.\\n\\nLike a mirror reflecting depths unknown,\\nEach call digs deeper, like a stepping stone.\\nIt cracks the problem into smaller shares,\\nUntil the base case, like light, appears.\\n\\nImagine you wish to count the sheep,\\nYet some go wandering, multiplying deep.\\nOne function calls another, then another still,\\n'til the simplest task it can easily fulfill.\\n\\nHere’s a classic, the Factorial tale,\\nWhere numbers grow in an exponential scale.\\nFive times four, then three, two, one,\\nA journey inward until it’s done.\\n\\nOr traverse a tree, with branches wide,\\nThe function climbs, then seeks inside.\\nFor every leaf and node it sees,\\nRecursion whispers on the breeze.\\n\\nBut heed the call with guarded care,\\nInfinite loops can lead to despair.\\nWithout a stopping point to mark the end,\\nFunctions might spiral, impossible to fend.\\n\\nSo when you delve in this recursion lore,\\nRemember the base case, the final shore.\\nFor in that base case, simplicity reigns,\\nAnd from the depths, your solution gains.\\n\\nSo let your code with elegance flow,\\nEmbrace recursion, and let ideas grow.\\nIn this logic's dance, so fluid, so pure,\\nA recursive path marks problems’ cure.\", refusal=None, role='assistant', function_call=None, tool_calls=None)\n"
     ]
    }
   ],
   "source": [
    "client = OpenAI()\n",
    "\n",
    "completion = client.chat.completions.create(\n",
    "  model=\"gpt-4o\",\n",
    "  messages=[\n",
    "    {\"role\": \"system\", \"content\": \"You are a poetic assistant, skilled in explaining complex programming concepts with creative flair.\"},\n",
    "    {\"role\": \"user\", \"content\": \"Compose a poem that explains the concept of recursion in programming.\"}\n",
    "  ]\n",
    ")\n",
    "\n",
    "print(completion.choices[0].message)"
   ]
  },
  {
   "cell_type": "code",
   "execution_count": 9,
   "metadata": {},
   "outputs": [
    {
     "name": "stdout",
     "output_type": "stream",
     "text": [
      "In the land where code and logic weave,\n",
      "Lies a tale that many might perceive.\n",
      "A story spun in a programmer's verse,\n",
      "The wondrous world where functions traverse.\n",
      "\n",
      "Behold recursion, a magical art,\n",
      "Where a function plays a most curious part.\n",
      "It calls itself, oh what a spree,\n",
      "To solve a problem recursively.\n",
      "\n",
      "Like a mirror reflecting depths unknown,\n",
      "Each call digs deeper, like a stepping stone.\n",
      "It cracks the problem into smaller shares,\n",
      "Until the base case, like light, appears.\n",
      "\n",
      "Imagine you wish to count the sheep,\n",
      "Yet some go wandering, multiplying deep.\n",
      "One function calls another, then another still,\n",
      "'til the simplest task it can easily fulfill.\n",
      "\n",
      "Here’s a classic, the Factorial tale,\n",
      "Where numbers grow in an exponential scale.\n",
      "Five times four, then three, two, one,\n",
      "A journey inward until it’s done.\n",
      "\n",
      "Or traverse a tree, with branches wide,\n",
      "The function climbs, then seeks inside.\n",
      "For every leaf and node it sees,\n",
      "Recursion whispers on the breeze.\n",
      "\n",
      "But heed the call with guarded care,\n",
      "Infinite loops can lead to despair.\n",
      "Without a stopping point to mark the end,\n",
      "Functions might spiral, impossible to fend.\n",
      "\n",
      "So when you delve in this recursion lore,\n",
      "Remember the base case, the final shore.\n",
      "For in that base case, simplicity reigns,\n",
      "And from the depths, your solution gains.\n",
      "\n",
      "So let your code with elegance flow,\n",
      "Embrace recursion, and let ideas grow.\n",
      "In this logic's dance, so fluid, so pure,\n",
      "A recursive path marks problems’ cure.\n"
     ]
    }
   ],
   "source": [
    "# for clean output access `content`\n",
    "print(completion.choices[0].message.content)"
   ]
  },
  {
   "cell_type": "code",
   "execution_count": 10,
   "metadata": {},
   "outputs": [
    {
     "name": "stdout",
     "output_type": "stream",
     "text": [
      "ChatCompletionMessage(content='In a realm where logic blooms and thrives,  \\nThere lies a magic where the code derives,  \\nA dance of functions, both near and far,  \\nThis wondrous tale is recursion’s star.  \\n\\nPicture a mirror, reflecting a face,  \\nEach glance returns you in an endless trace.  \\nWith a call that whispers, “Look here, then look deep,  \\nSolve the puzzle, don’t wake from your sleep.”  \\n\\nA problem presented in layers, it seems,  \\nLike onions unpeeling, or fractal dreams,  \\nYou take the first step, and a step you create,  \\nTo break down the task, let’s not hesitate.  \\n\\n“Ah, but what’s the base?” the wise coder ponders,  \\n“A stopping point,” they muse, as the function wanders.  \\nFor if we go deeper without egress bright,  \\nWe’ll carve a strange loop that consumes the night.  \\n\\nSo structure your function with care and with grace,  \\nDefine a condition, a merciful place,  \\nWhere it dares to halt, where it chooses to cease,  \\nTo grant a return, a moment of peace.  \\n\\nIn this elegant spiral, the patterns emerge,  \\nEach call leads another, like waves that converge.  \\nWith the heart of a lion, the mind of a sage,  \\nRecursion unfolds its magnificent page.  \\n\\nNow behold an example, a tale to unfold,  \\nThe mighty Fibonacci, a sequence retold.  \\nFor each number’s birth is an echo and call,  \\nThe sum of the two that have come before all.  \\n\\nSo here lies recursion, both simple and grand,  \\nA narwhal through data, a dancer unplanned.  \\nWith elegance woven in functions we weave,  \\nIn the realm of the code, this magic we believe.  ', refusal=None, role='assistant', function_call=None, tool_calls=None)\n"
     ]
    }
   ],
   "source": [
    "client = OpenAI()\n",
    "\n",
    "completion = client.chat.completions.create(\n",
    "  model=\"gpt-4o-mini\",\n",
    "  messages=[\n",
    "    {\"role\": \"system\", \"content\": \"You are a poetic assistant, skilled in explaining complex programming concepts with creative flair.\"},\n",
    "    {\"role\": \"user\", \"content\": \"Compose a poem that explains the concept of recursion in programming.\"}\n",
    "  ]\n",
    ")\n",
    "\n",
    "print(completion.choices[0].message)"
   ]
  },
  {
   "cell_type": "code",
   "execution_count": 11,
   "metadata": {},
   "outputs": [
    {
     "name": "stdout",
     "output_type": "stream",
     "text": [
      "In a realm where logic blooms and thrives,  \n",
      "There lies a magic where the code derives,  \n",
      "A dance of functions, both near and far,  \n",
      "This wondrous tale is recursion’s star.  \n",
      "\n",
      "Picture a mirror, reflecting a face,  \n",
      "Each glance returns you in an endless trace.  \n",
      "With a call that whispers, “Look here, then look deep,  \n",
      "Solve the puzzle, don’t wake from your sleep.”  \n",
      "\n",
      "A problem presented in layers, it seems,  \n",
      "Like onions unpeeling, or fractal dreams,  \n",
      "You take the first step, and a step you create,  \n",
      "To break down the task, let’s not hesitate.  \n",
      "\n",
      "“Ah, but what’s the base?” the wise coder ponders,  \n",
      "“A stopping point,” they muse, as the function wanders.  \n",
      "For if we go deeper without egress bright,  \n",
      "We’ll carve a strange loop that consumes the night.  \n",
      "\n",
      "So structure your function with care and with grace,  \n",
      "Define a condition, a merciful place,  \n",
      "Where it dares to halt, where it chooses to cease,  \n",
      "To grant a return, a moment of peace.  \n",
      "\n",
      "In this elegant spiral, the patterns emerge,  \n",
      "Each call leads another, like waves that converge.  \n",
      "With the heart of a lion, the mind of a sage,  \n",
      "Recursion unfolds its magnificent page.  \n",
      "\n",
      "Now behold an example, a tale to unfold,  \n",
      "The mighty Fibonacci, a sequence retold.  \n",
      "For each number’s birth is an echo and call,  \n",
      "The sum of the two that have come before all.  \n",
      "\n",
      "So here lies recursion, both simple and grand,  \n",
      "A narwhal through data, a dancer unplanned.  \n",
      "With elegance woven in functions we weave,  \n",
      "In the realm of the code, this magic we believe.  \n"
     ]
    }
   ],
   "source": [
    "# for clean output access `content`\n",
    "print(completion.choices[0].message.content)"
   ]
  },
  {
   "cell_type": "markdown",
   "metadata": {},
   "source": [
    "# Image Generation API\n"
   ]
  },
  {
   "cell_type": "code",
   "execution_count": 12,
   "metadata": {},
   "outputs": [
    {
     "data": {
      "text/plain": [
       "'https://oaidalleapiprodscus.blob.core.windows.net/private/org-Wf88g4nXyqpFlPdLIEUo3wZ5/user-FFpU1cz5UFdb0H0VuknlF4Ji/img-ubvU7lIOH9XI5LvuIg5pZ30F.png?st=2024-09-07T10%3A47%3A43Z&se=2024-09-07T12%3A47%3A43Z&sp=r&sv=2024-08-04&sr=b&rscd=inline&rsct=image/png&skoid=d505667d-d6c1-4a0a-bac7-5c84a87759f8&sktid=a48cca56-e6da-484e-a814-9c849652bcb3&skt=2024-09-06T22%3A06%3A24Z&ske=2024-09-07T22%3A06%3A24Z&sks=b&skv=2024-08-04&sig=m1oQKj6/Wqw38yfknOj7jebs6NHvkwTTT69Fh4wo8Ks%3D'"
      ]
     },
     "execution_count": 12,
     "metadata": {},
     "output_type": "execute_result"
    }
   ],
   "source": [
    "client = OpenAI()\n",
    "\n",
    "response = client.images.generate(\n",
    "  model=\"dall-e-3\",\n",
    "  prompt=\"man sitting on bench sad looking into darkness, line illustration by Herge, dark aesthetic\",\n",
    "  size=\"1024x1024\",\n",
    "  quality=\"standard\",\n",
    "  n=1,\n",
    ")\n",
    "\n",
    "image_url = response.data[0].url\n",
    "image_url"
   ]
  },
  {
   "cell_type": "markdown",
   "metadata": {},
   "source": [
    "# GPT Vision API\n"
   ]
  },
  {
   "cell_type": "code",
   "execution_count": 14,
   "metadata": {},
   "outputs": [
    {
     "name": "stdout",
     "output_type": "stream",
     "text": [
      "Choice(finish_reason='stop', index=0, logprobs=None, message=ChatCompletionMessage(content='This image depicts a scenic landscape with a wooden boardwalk or path extending through a field with tall green grass, leading toward the horizon. The sky is mostly clear with a few scattered clouds, creating a serene and peaceful atmosphere. There are trees and shrubs in the background, adding to the natural beauty of the scene.', refusal=None, role='assistant', function_call=None, tool_calls=None))\n"
     ]
    }
   ],
   "source": [
    "client = OpenAI()\n",
    "\n",
    "response = client.chat.completions.create(\n",
    "  model=\"gpt-4o\",\n",
    "  messages=[\n",
    "    {\n",
    "      \"role\": \"user\",\n",
    "      \"content\": [\n",
    "        {\"type\": \"text\", \"text\": \"What’s in this image?\"},\n",
    "        {\n",
    "          \"type\": \"image_url\",\n",
    "          \"image_url\": {\n",
    "            \"url\": \"https://upload.wikimedia.org/wikipedia/commons/thumb/d/dd/Gfp-wisconsin-madison-the-nature-boardwalk.jpg/2560px-Gfp-wisconsin-madison-the-nature-boardwalk.jpg\",\n",
    "          },\n",
    "        },\n",
    "      ],\n",
    "    }\n",
    "  ],\n",
    "  max_tokens=300,\n",
    ")\n",
    "\n",
    "print(response.choices[0])"
   ]
  },
  {
   "cell_type": "code",
   "execution_count": null,
   "metadata": {},
   "outputs": [],
   "source": []
  },
  {
   "cell_type": "code",
   "execution_count": null,
   "metadata": {},
   "outputs": [],
   "source": []
  }
 ],
 "metadata": {
  "kernelspec": {
   "display_name": "mma865",
   "language": "python",
   "name": "python3"
  },
  "language_info": {
   "codemirror_mode": {
    "name": "ipython",
    "version": 3
   },
   "file_extension": ".py",
   "mimetype": "text/x-python",
   "name": "python",
   "nbconvert_exporter": "python",
   "pygments_lexer": "ipython3",
   "version": "3.11.9"
  }
 },
 "nbformat": 4,
 "nbformat_minor": 2
}
