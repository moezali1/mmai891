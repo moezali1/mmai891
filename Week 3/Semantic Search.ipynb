{
 "cells": [
  {
   "cell_type": "code",
   "execution_count": 20,
   "metadata": {},
   "outputs": [],
   "source": [
    "OPENAI_API_KEY = \" \""
   ]
  },
  {
   "cell_type": "code",
   "execution_count": 14,
   "metadata": {},
   "outputs": [
    {
     "name": "stderr",
     "output_type": "stream",
     "text": [
      "[nltk_data] Downloading package punkt to\n",
      "[nltk_data]     C:\\Users\\owner\\AppData\\Roaming\\nltk_data...\n",
      "[nltk_data]   Package punkt is already up-to-date!\n",
      "[nltk_data] Downloading package stopwords to\n",
      "[nltk_data]     C:\\Users\\owner\\AppData\\Roaming\\nltk_data...\n",
      "[nltk_data]   Package stopwords is already up-to-date!\n"
     ]
    },
    {
     "data": {
      "text/plain": [
       "[{'question': 'Where can I buy a laptop for work?',\n",
       "  'answer': 'You can browse our collection of business laptops under the Electronics section.'},\n",
       " {'question': 'I need a computer for office use. Any suggestions?',\n",
       "  'answer': 'Check out our laptops designed for productivity in the Electronics section.'},\n",
       " {'question': 'Do you sell gaming headsets?',\n",
       "  'answer': 'Yes, we have a variety of gaming headsets in our Accessories category.'},\n",
       " {'question': 'Looking for headphones for gaming.',\n",
       "  'answer': 'We offer high-quality gaming headsets in the Accessories category.'},\n",
       " {'question': 'Best smartphones under $500?',\n",
       "  'answer': 'Check out our affordable smartphones in the Mobile Phones section, filtered by price.'},\n",
       " {'question': 'Phones available below $500?',\n",
       "  'answer': 'Explore our Mobile Phones section for budget-friendly options under $500.'},\n",
       " {'question': 'Do you sell kitchen appliances like blenders?',\n",
       "  'answer': 'Yes, our Kitchen Appliances section has a range of blenders and more.'},\n",
       " {'question': 'I need a blender for smoothies.',\n",
       "  'answer': 'Check out our collection of blenders in the Kitchen Appliances section.'},\n",
       " {'question': 'Do you have leather sofas?',\n",
       "  'answer': 'Yes, we have a range of leather sofas in the Furniture section.'},\n",
       " {'question': 'Looking for a leather couch.',\n",
       "  'answer': 'Our Furniture section features various leather couches for your living room.'},\n",
       " {'question': 'Where can I find winter coats for kids?',\n",
       "  'answer': \"Browse our Kids' Clothing section for a variety of winter coats.\"},\n",
       " {'question': \"Do you sell children's winter jackets?\",\n",
       "  'answer': \"Yes, check out our Kids' Clothing section for warm and stylish winter jackets.\"},\n",
       " {'question': 'I need a smartwatch compatible with Android.',\n",
       "  'answer': 'Explore our Smartwatches section for options compatible with Android devices.'},\n",
       " {'question': 'Smartwatches for Android phones?',\n",
       "  'answer': 'We have a variety of smartwatches compatible with Android in our Wearables section.'},\n",
       " {'question': 'Can I get free shipping on orders?',\n",
       "  'answer': 'We offer free shipping on orders over $50 in select categories.'},\n",
       " {'question': 'Do you have free delivery options?',\n",
       "  'answer': 'Yes, free delivery is available for orders exceeding $50.'},\n",
       " {'question': 'Are there any discounts on shoes?',\n",
       "  'answer': 'Check out our Footwear section for the latest discounts and deals.'},\n",
       " {'question': 'Looking for deals on sneakers.',\n",
       "  'answer': 'Visit our Footwear section for discounts on sneakers and other shoes.'},\n",
       " {'question': 'Do you sell organic skincare products?',\n",
       "  'answer': 'Yes, we have a wide range of organic skincare products in the Beauty section.'},\n",
       " {'question': 'Where can I find natural beauty products?',\n",
       "  'answer': 'Browse our Beauty section for organic and natural skincare products.'},\n",
       " {'question': 'Where can I find office chairs?',\n",
       "  'answer': 'Check out our Furniture section for ergonomic office chairs.'},\n",
       " {'question': 'Looking for ergonomic chairs for work.',\n",
       "  'answer': 'We have a collection of ergonomic office chairs in the Furniture section.'},\n",
       " {'question': 'Do you sell coffee makers?',\n",
       "  'answer': 'Yes, our Kitchen Appliances section includes a variety of coffee makers.'},\n",
       " {'question': 'Need a coffee machine for my kitchen.',\n",
       "  'answer': 'Explore our Kitchen Appliances section for coffee machines and more.'},\n",
       " {'question': 'Do you sell travel backpacks?',\n",
       "  'answer': 'Yes, we offer durable travel backpacks in our Bags section.'},\n",
       " {'question': 'Looking for backpacks for long trips.',\n",
       "  'answer': 'Check out our collection of travel backpacks in the Bags section.'},\n",
       " {'question': 'Do you have home gym equipment?',\n",
       "  'answer': 'Yes, we have a range of home gym equipment in our Fitness section.'},\n",
       " {'question': 'I need weights and dumbbells for home workouts.',\n",
       "  'answer': 'Explore our Fitness section for weights, dumbbells, and other home workout equipment.'},\n",
       " {'question': 'Do you sell pet supplies?',\n",
       "  'answer': 'Yes, check out our Pet Supplies section for food, toys, and accessories.'},\n",
       " {'question': 'Looking for dog food and toys.',\n",
       "  'answer': 'Browse our Pet Supplies section for a variety of dog food and toys.'},\n",
       " {'question': 'Where can I find gaming chairs?',\n",
       "  'answer': 'Explore our Furniture section for comfortable gaming chairs.'},\n",
       " {'question': 'Do you sell chairs for gamers?',\n",
       "  'answer': 'Yes, we have ergonomic gaming chairs in our Furniture section.'},\n",
       " {'question': 'Where can I find noise-canceling headphones?',\n",
       "  'answer': 'Browse our Accessories section for high-quality noise-canceling headphones.'},\n",
       " {'question': 'Looking for headphones that block out noise.',\n",
       "  'answer': 'Check out our Accessories section for noise-canceling headphones.'},\n",
       " {'question': 'Do you sell waterproof jackets?',\n",
       "  'answer': 'Yes, we have a collection of waterproof jackets in our Outdoor Gear section.'},\n",
       " {'question': 'Need a raincoat for hiking.',\n",
       "  'answer': 'Explore our Outdoor Gear section for waterproof jackets and raincoats.'},\n",
       " {'question': 'Where can I buy cooking utensils?',\n",
       "  'answer': 'Check out our Kitchen section for a variety of cooking utensils.'},\n",
       " {'question': 'Do you sell spatulas and kitchen tools?',\n",
       "  'answer': 'Yes, our Kitchen section has a wide range of cooking tools and utensils.'},\n",
       " {'question': 'Where can I find study desks?',\n",
       "  'answer': 'Browse our Furniture section for study desks and tables.'},\n",
       " {'question': 'Do you sell desks for home offices?',\n",
       "  'answer': 'Yes, we have a collection of study desks in our Furniture section.'}]"
      ]
     },
     "execution_count": 14,
     "metadata": {},
     "output_type": "execute_result"
    }
   ],
   "source": [
    "import json\n",
    "import numpy as np\n",
    "from sklearn.feature_extraction.text import TfidfVectorizer\n",
    "from sklearn.metrics.pairwise import cosine_similarity\n",
    "import re\n",
    "import nltk\n",
    "from nltk.corpus import stopwords\n",
    "from nltk.tokenize import word_tokenize\n",
    "from openai import OpenAI\n",
    "import os\n",
    "\n",
    "# Download required NLTK data\n",
    "nltk.download('punkt')\n",
    "nltk.download('stopwords')\n",
    "\n",
    "with open('data.json', 'r') as f:\n",
    "    data = json.load(f)\n",
    "    \n",
    "data"
   ]
  },
  {
   "cell_type": "code",
   "execution_count": 15,
   "metadata": {},
   "outputs": [
    {
     "data": {
      "text/plain": [
       "['Question: Where can I buy a laptop for work? Answer: You can browse our collection of business laptops under the Electronics section.',\n",
       " 'Question: I need a computer for office use. Any suggestions? Answer: Check out our laptops designed for productivity in the Electronics section.',\n",
       " 'Question: Do you sell gaming headsets? Answer: Yes, we have a variety of gaming headsets in our Accessories category.',\n",
       " 'Question: Looking for headphones for gaming. Answer: We offer high-quality gaming headsets in the Accessories category.',\n",
       " 'Question: Best smartphones under $500? Answer: Check out our affordable smartphones in the Mobile Phones section, filtered by price.',\n",
       " 'Question: Phones available below $500? Answer: Explore our Mobile Phones section for budget-friendly options under $500.',\n",
       " 'Question: Do you sell kitchen appliances like blenders? Answer: Yes, our Kitchen Appliances section has a range of blenders and more.',\n",
       " 'Question: I need a blender for smoothies. Answer: Check out our collection of blenders in the Kitchen Appliances section.',\n",
       " 'Question: Do you have leather sofas? Answer: Yes, we have a range of leather sofas in the Furniture section.',\n",
       " 'Question: Looking for a leather couch. Answer: Our Furniture section features various leather couches for your living room.',\n",
       " \"Question: Where can I find winter coats for kids? Answer: Browse our Kids' Clothing section for a variety of winter coats.\",\n",
       " \"Question: Do you sell children's winter jackets? Answer: Yes, check out our Kids' Clothing section for warm and stylish winter jackets.\",\n",
       " 'Question: I need a smartwatch compatible with Android. Answer: Explore our Smartwatches section for options compatible with Android devices.',\n",
       " 'Question: Smartwatches for Android phones? Answer: We have a variety of smartwatches compatible with Android in our Wearables section.',\n",
       " 'Question: Can I get free shipping on orders? Answer: We offer free shipping on orders over $50 in select categories.',\n",
       " 'Question: Do you have free delivery options? Answer: Yes, free delivery is available for orders exceeding $50.',\n",
       " 'Question: Are there any discounts on shoes? Answer: Check out our Footwear section for the latest discounts and deals.',\n",
       " 'Question: Looking for deals on sneakers. Answer: Visit our Footwear section for discounts on sneakers and other shoes.',\n",
       " 'Question: Do you sell organic skincare products? Answer: Yes, we have a wide range of organic skincare products in the Beauty section.',\n",
       " 'Question: Where can I find natural beauty products? Answer: Browse our Beauty section for organic and natural skincare products.',\n",
       " 'Question: Where can I find office chairs? Answer: Check out our Furniture section for ergonomic office chairs.',\n",
       " 'Question: Looking for ergonomic chairs for work. Answer: We have a collection of ergonomic office chairs in the Furniture section.',\n",
       " 'Question: Do you sell coffee makers? Answer: Yes, our Kitchen Appliances section includes a variety of coffee makers.',\n",
       " 'Question: Need a coffee machine for my kitchen. Answer: Explore our Kitchen Appliances section for coffee machines and more.',\n",
       " 'Question: Do you sell travel backpacks? Answer: Yes, we offer durable travel backpacks in our Bags section.',\n",
       " 'Question: Looking for backpacks for long trips. Answer: Check out our collection of travel backpacks in the Bags section.',\n",
       " 'Question: Do you have home gym equipment? Answer: Yes, we have a range of home gym equipment in our Fitness section.',\n",
       " 'Question: I need weights and dumbbells for home workouts. Answer: Explore our Fitness section for weights, dumbbells, and other home workout equipment.',\n",
       " 'Question: Do you sell pet supplies? Answer: Yes, check out our Pet Supplies section for food, toys, and accessories.',\n",
       " 'Question: Looking for dog food and toys. Answer: Browse our Pet Supplies section for a variety of dog food and toys.',\n",
       " 'Question: Where can I find gaming chairs? Answer: Explore our Furniture section for comfortable gaming chairs.',\n",
       " 'Question: Do you sell chairs for gamers? Answer: Yes, we have ergonomic gaming chairs in our Furniture section.',\n",
       " 'Question: Where can I find noise-canceling headphones? Answer: Browse our Accessories section for high-quality noise-canceling headphones.',\n",
       " 'Question: Looking for headphones that block out noise. Answer: Check out our Accessories section for noise-canceling headphones.',\n",
       " 'Question: Do you sell waterproof jackets? Answer: Yes, we have a collection of waterproof jackets in our Outdoor Gear section.',\n",
       " 'Question: Need a raincoat for hiking. Answer: Explore our Outdoor Gear section for waterproof jackets and raincoats.',\n",
       " 'Question: Where can I buy cooking utensils? Answer: Check out our Kitchen section for a variety of cooking utensils.',\n",
       " 'Question: Do you sell spatulas and kitchen tools? Answer: Yes, our Kitchen section has a wide range of cooking tools and utensils.',\n",
       " 'Question: Where can I find study desks? Answer: Browse our Furniture section for study desks and tables.',\n",
       " 'Question: Do you sell desks for home offices? Answer: Yes, we have a collection of study desks in our Furniture section.']"
      ]
     },
     "execution_count": 15,
     "metadata": {},
     "output_type": "execute_result"
    }
   ],
   "source": [
    "data_transformed = [f\"Question: {d['question']} Answer: {d['answer']}\" for d in data]\n",
    "data_transformed"
   ]
  },
  {
   "cell_type": "code",
   "execution_count": 16,
   "metadata": {},
   "outputs": [
    {
     "data": {
      "text/plain": [
       "40"
      ]
     },
     "execution_count": 16,
     "metadata": {},
     "output_type": "execute_result"
    }
   ],
   "source": [
    "len(data_transformed)"
   ]
  },
  {
   "cell_type": "code",
   "execution_count": 17,
   "metadata": {},
   "outputs": [
    {
     "data": {
      "text/plain": [
       "['Question: Where can I buy a laptop for work? Answer: You can browse our collection of business laptops under the Electronics section.',\n",
       " 'Question: I need a computer for office use. Any suggestions? Answer: Check out our laptops designed for productivity in the Electronics section.',\n",
       " 'Question: Do you sell gaming headsets? Answer: Yes, we have a variety of gaming headsets in our Accessories category.',\n",
       " 'Question: Looking for headphones for gaming. Answer: We offer high-quality gaming headsets in the Accessories category.',\n",
       " 'Question: Best smartphones under $500? Answer: Check out our affordable smartphones in the Mobile Phones section, filtered by price.']"
      ]
     },
     "execution_count": 17,
     "metadata": {},
     "output_type": "execute_result"
    }
   ],
   "source": [
    "data_transformed[0:5]\n"
   ]
  },
  {
   "cell_type": "code",
   "execution_count": 27,
   "metadata": {},
   "outputs": [],
   "source": [
    "def preprocess_text(text):\n",
    "    # Convert to lowercase\n",
    "    text = text.lower()\n",
    "    \n",
    "    # Remove special characters and numbers\n",
    "    text = re.sub(r'[^a-zA-Z\\s]', '', text)\n",
    "    \n",
    "    # Tokenize\n",
    "    tokens = word_tokenize(text)\n",
    "    \n",
    "    # Remove stopwords\n",
    "    stop_words = set(stopwords.words('english'))\n",
    "    tokens = [t for t in tokens if t not in stop_words]\n",
    "    \n",
    "    # Join tokens back\n",
    "    return ' '.join(tokens)\n",
    "\n",
    "def search(query, type=\"tf-idf\", top_n=5):\n",
    "    if type == \"tf-idf\":\n",
    "        # Preprocess all texts including query\n",
    "        processed_data = [preprocess_text(text) for text in data_transformed]\n",
    "        processed_query = preprocess_text(query)\n",
    "        \n",
    "        # Create TF-IDF vectors\n",
    "        vectorizer = TfidfVectorizer()\n",
    "        tfidf_matrix = vectorizer.fit_transform(processed_data)\n",
    "        query_vector = vectorizer.transform([processed_query])\n",
    "        \n",
    "        # Calculate cosine similarities\n",
    "        similarities = cosine_similarity(query_vector, tfidf_matrix)[0]\n",
    "        \n",
    "    elif type == \"embedding\":\n",
    "        client = OpenAI(api_key=OPENAI_API_KEY)\n",
    "        \n",
    "        # Get embeddings for all texts\n",
    "        data_embeddings = []\n",
    "        for text in data_transformed:\n",
    "            response = client.embeddings.create(\n",
    "                model=\"text-embedding-ada-002\",\n",
    "                input=text\n",
    "            )\n",
    "            data_embeddings.append(response.data[0].embedding)\n",
    "            \n",
    "        # Get embedding for query\n",
    "        query_embedding = client.embeddings.create(\n",
    "            model=\"text-embedding-ada-002\",\n",
    "            input=query\n",
    "        ).data[0].embedding\n",
    "        \n",
    "        # Calculate cosine similarities\n",
    "        similarities = [\n",
    "            cosine_similarity(\n",
    "                np.array(query_embedding).reshape(1, -1),\n",
    "                np.array(doc_embedding).reshape(1, -1)\n",
    "            )[0][0]\n",
    "            for doc_embedding in data_embeddings\n",
    "        ]\n",
    "    else:\n",
    "        raise ValueError(\"Type must be either 'tf-idf' or 'embedding'\")\n",
    "    \n",
    "    # Get top N matches\n",
    "    top_indices = np.argsort(similarities)[-top_n:][::-1]\n",
    "    \n",
    "    return [(data_transformed[i], similarities[i]) for i in top_indices]\n"
   ]
  },
  {
   "cell_type": "code",
   "execution_count": 28,
   "metadata": {},
   "outputs": [
    {
     "data": {
      "text/plain": [
       "[('Question: Where can I find office chairs? Answer: Check out our Furniture section for ergonomic office chairs.',\n",
       "  0.3114371464281391),\n",
       " ('Question: Where can I buy a laptop for work? Answer: You can browse our collection of business laptops under the Electronics section.',\n",
       "  0.24160377097159058),\n",
       " ('Question: Best smartphones under $500? Answer: Check out our affordable smartphones in the Mobile Phones section, filtered by price.',\n",
       "  0.19275813018380047),\n",
       " ('Question: Looking for ergonomic chairs for work. Answer: We have a collection of ergonomic office chairs in the Furniture section.',\n",
       "  0.14676478357586123),\n",
       " ('Question: I need a computer for office use. Any suggestions? Answer: Check out our laptops designed for productivity in the Electronics section.',\n",
       "  0.1450312499105394),\n",
       " (\"Question: Do you sell children's winter jackets? Answer: Yes, check out our Kids' Clothing section for warm and stylish winter jackets.\",\n",
       "  0.0),\n",
       " ('Question: Are there any discounts on shoes? Answer: Check out our Footwear section for the latest discounts and deals.',\n",
       "  0.0),\n",
       " ('Question: Do you have free delivery options? Answer: Yes, free delivery is available for orders exceeding $50.',\n",
       "  0.0),\n",
       " ('Question: Can I get free shipping on orders? Answer: We offer free shipping on orders over $50 in select categories.',\n",
       "  0.0),\n",
       " ('Question: Smartwatches for Android phones? Answer: We have a variety of smartwatches compatible with Android in our Wearables section.',\n",
       "  0.0)]"
      ]
     },
     "execution_count": 28,
     "metadata": {},
     "output_type": "execute_result"
    }
   ],
   "source": [
    "search(\"best laptop for office?\", type=\"tf-idf\", top_n=10)"
   ]
  },
  {
   "cell_type": "code",
   "execution_count": 29,
   "metadata": {},
   "outputs": [
    {
     "data": {
      "text/plain": [
       "[('Question: I need a computer for office use. Any suggestions? Answer: Check out our laptops designed for productivity in the Electronics section.',\n",
       "  0.8719268259522779),\n",
       " ('Question: Where can I buy a laptop for work? Answer: You can browse our collection of business laptops under the Electronics section.',\n",
       "  0.8394006109677794),\n",
       " ('Question: Where can I find office chairs? Answer: Check out our Furniture section for ergonomic office chairs.',\n",
       "  0.7934396587997761),\n",
       " ('Question: Looking for ergonomic chairs for work. Answer: We have a collection of ergonomic office chairs in the Furniture section.',\n",
       "  0.7891419412694121),\n",
       " ('Question: Do you sell desks for home offices? Answer: Yes, we have a collection of study desks in our Furniture section.',\n",
       "  0.7805182438602386),\n",
       " ('Question: Need a coffee machine for my kitchen. Answer: Explore our Kitchen Appliances section for coffee machines and more.',\n",
       "  0.7708216085042308),\n",
       " ('Question: Where can I find study desks? Answer: Browse our Furniture section for study desks and tables.',\n",
       "  0.7660988563576883),\n",
       " ('Question: Do you sell chairs for gamers? Answer: Yes, we have ergonomic gaming chairs in our Furniture section.',\n",
       "  0.7646556194740967),\n",
       " ('Question: Where can I find gaming chairs? Answer: Explore our Furniture section for comfortable gaming chairs.',\n",
       "  0.7582144453450274),\n",
       " ('Question: Best smartphones under $500? Answer: Check out our affordable smartphones in the Mobile Phones section, filtered by price.',\n",
       "  0.754989099147155)]"
      ]
     },
     "execution_count": 29,
     "metadata": {},
     "output_type": "execute_result"
    }
   ],
   "source": [
    "search(\"best laptop for office?\", type=\"embedding\", top_n=10)"
   ]
  },
  {
   "cell_type": "code",
   "execution_count": 30,
   "metadata": {},
   "outputs": [
    {
     "data": {
      "text/plain": [
       "[(\"Question: Where can I find winter coats for kids? Answer: Browse our Kids' Clothing section for a variety of winter coats.\",\n",
       "  0.5007484606528442),\n",
       " (\"Question: Do you sell children's winter jackets? Answer: Yes, check out our Kids' Clothing section for warm and stylish winter jackets.\",\n",
       "  0.2631241074642894),\n",
       " ('Question: Do you sell desks for home offices? Answer: Yes, we have a collection of study desks in our Furniture section.',\n",
       "  0.0),\n",
       " ('Question: Where can I find study desks? Answer: Browse our Furniture section for study desks and tables.',\n",
       "  0.0),\n",
       " ('Question: Looking for deals on sneakers. Answer: Visit our Footwear section for discounts on sneakers and other shoes.',\n",
       "  0.0),\n",
       " ('Question: Are there any discounts on shoes? Answer: Check out our Footwear section for the latest discounts and deals.',\n",
       "  0.0),\n",
       " ('Question: Do you have free delivery options? Answer: Yes, free delivery is available for orders exceeding $50.',\n",
       "  0.0),\n",
       " ('Question: Can I get free shipping on orders? Answer: We offer free shipping on orders over $50 in select categories.',\n",
       "  0.0),\n",
       " ('Question: Smartwatches for Android phones? Answer: We have a variety of smartwatches compatible with Android in our Wearables section.',\n",
       "  0.0),\n",
       " ('Question: I need a smartwatch compatible with Android. Answer: Explore our Smartwatches section for options compatible with Android devices.',\n",
       "  0.0)]"
      ]
     },
     "execution_count": 30,
     "metadata": {},
     "output_type": "execute_result"
    }
   ],
   "source": [
    "search(\"gift for kids\", type=\"tf-idf\", top_n=10)"
   ]
  },
  {
   "cell_type": "code",
   "execution_count": 31,
   "metadata": {},
   "outputs": [
    {
     "data": {
      "text/plain": [
       "[(\"Question: Do you sell children's winter jackets? Answer: Yes, check out our Kids' Clothing section for warm and stylish winter jackets.\",\n",
       "  0.7915693864079231),\n",
       " (\"Question: Where can I find winter coats for kids? Answer: Browse our Kids' Clothing section for a variety of winter coats.\",\n",
       "  0.7825186226710089),\n",
       " ('Question: Looking for dog food and toys. Answer: Browse our Pet Supplies section for a variety of dog food and toys.',\n",
       "  0.7757764812023916),\n",
       " ('Question: Do you sell pet supplies? Answer: Yes, check out our Pet Supplies section for food, toys, and accessories.',\n",
       "  0.7655160660367665),\n",
       " ('Question: Looking for headphones for gaming. Answer: We offer high-quality gaming headsets in the Accessories category.',\n",
       "  0.7537807968539718),\n",
       " ('Question: Do you sell spatulas and kitchen tools? Answer: Yes, our Kitchen section has a wide range of cooking tools and utensils.',\n",
       "  0.7470222362528278),\n",
       " ('Question: Looking for backpacks for long trips. Answer: Check out our collection of travel backpacks in the Bags section.',\n",
       "  0.7468260017124295),\n",
       " ('Question: Looking for deals on sneakers. Answer: Visit our Footwear section for discounts on sneakers and other shoes.',\n",
       "  0.7460280572027576),\n",
       " ('Question: Looking for headphones that block out noise. Answer: Check out our Accessories section for noise-canceling headphones.',\n",
       "  0.7423782836002395),\n",
       " ('Question: Need a raincoat for hiking. Answer: Explore our Outdoor Gear section for waterproof jackets and raincoats.',\n",
       "  0.7420040466935995)]"
      ]
     },
     "execution_count": 31,
     "metadata": {},
     "output_type": "execute_result"
    }
   ],
   "source": [
    "search(\"gift for kids\", type=\"embedding\", top_n=10)"
   ]
  },
  {
   "cell_type": "code",
   "execution_count": null,
   "metadata": {},
   "outputs": [],
   "source": []
  }
 ],
 "metadata": {
  "kernelspec": {
   "display_name": "mmai891",
   "language": "python",
   "name": "python3"
  },
  "language_info": {
   "codemirror_mode": {
    "name": "ipython",
    "version": 3
   },
   "file_extension": ".py",
   "mimetype": "text/x-python",
   "name": "python",
   "nbconvert_exporter": "python",
   "pygments_lexer": "ipython3",
   "version": "3.11.9"
  }
 },
 "nbformat": 4,
 "nbformat_minor": 2
}
