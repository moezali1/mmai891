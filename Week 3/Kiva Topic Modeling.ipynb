{
 "cells": [
  {
   "cell_type": "code",
   "execution_count": 1,
   "metadata": {},
   "outputs": [],
   "source": [
    "import pandas as pd\n",
    "import gensim\n",
    "import nltk\n",
    "import gensim.corpora as corpora\n",
    "from gensim.models import LdaModel, CoherenceModel, Phrases\n",
    "from gensim.corpora import Dictionary\n",
    "from gensim.utils import simple_preprocess\n",
    "from nltk.corpus import stopwords\n",
    "from nltk.stem import WordNetLemmatizer\n",
    "from nltk import pos_tag\n",
    "from nltk.corpus import wordnet\n",
    "import pyLDAvis.gensim_models as gensimvis\n",
    "import pyLDAvis\n",
    "import re"
   ]
  },
  {
   "cell_type": "code",
   "execution_count": 2,
   "metadata": {},
   "outputs": [
    {
     "name": "stderr",
     "output_type": "stream",
     "text": [
      "[nltk_data] Downloading package averaged_perceptron_tagger_eng to\n",
      "[nltk_data]     C:\\Users\\owner\\AppData\\Roaming\\nltk_data...\n",
      "[nltk_data]   Package averaged_perceptron_tagger_eng is already up-to-\n",
      "[nltk_data]       date!\n",
      "[nltk_data] Downloading package wordnet to\n",
      "[nltk_data]     C:\\Users\\owner\\AppData\\Roaming\\nltk_data...\n",
      "[nltk_data]   Package wordnet is already up-to-date!\n"
     ]
    },
    {
     "data": {
      "text/plain": [
       "True"
      ]
     },
     "execution_count": 2,
     "metadata": {},
     "output_type": "execute_result"
    }
   ],
   "source": [
    "nltk.download('averaged_perceptron_tagger_eng')\n",
    "nltk.download('wordnet')"
   ]
  },
  {
   "cell_type": "code",
   "execution_count": 3,
   "metadata": {},
   "outputs": [],
   "source": [
    "import pandas as pd\n",
    "data = pd.read_csv('kiva_train.csv')"
   ]
  },
  {
   "cell_type": "code",
   "execution_count": 4,
   "metadata": {},
   "outputs": [
    {
     "data": {
      "text/html": [
       "<div>\n",
       "<style scoped>\n",
       "    .dataframe tbody tr th:only-of-type {\n",
       "        vertical-align: middle;\n",
       "    }\n",
       "\n",
       "    .dataframe tbody tr th {\n",
       "        vertical-align: top;\n",
       "    }\n",
       "\n",
       "    .dataframe thead th {\n",
       "        text-align: right;\n",
       "    }\n",
       "</style>\n",
       "<table border=\"1\" class=\"dataframe\">\n",
       "  <thead>\n",
       "    <tr style=\"text-align: right;\">\n",
       "      <th></th>\n",
       "      <th>id</th>\n",
       "      <th>country</th>\n",
       "      <th>en</th>\n",
       "      <th>gender</th>\n",
       "      <th>loan_amount</th>\n",
       "      <th>nonpayment</th>\n",
       "      <th>sector</th>\n",
       "      <th>status</th>\n",
       "    </tr>\n",
       "  </thead>\n",
       "  <tbody>\n",
       "    <tr>\n",
       "      <th>0</th>\n",
       "      <td>1</td>\n",
       "      <td>Ecuador</td>\n",
       "      <td>&lt;h4&gt;Business Description&lt;/h4&gt; \\r\\n &lt;p&gt; Don Mau...</td>\n",
       "      <td>M</td>\n",
       "      <td>825</td>\n",
       "      <td>lender</td>\n",
       "      <td>Food</td>\n",
       "      <td>1</td>\n",
       "    </tr>\n",
       "    <tr>\n",
       "      <th>1</th>\n",
       "      <td>2</td>\n",
       "      <td>Dominican Republic</td>\n",
       "      <td>Rosa Iris is a brilliant entrepreneur who sell...</td>\n",
       "      <td>F</td>\n",
       "      <td>450</td>\n",
       "      <td>partner</td>\n",
       "      <td>Retail</td>\n",
       "      <td>0</td>\n",
       "    </tr>\n",
       "    <tr>\n",
       "      <th>2</th>\n",
       "      <td>3</td>\n",
       "      <td>Kenya</td>\n",
       "      <td>Sirote is married with six children. Two of he...</td>\n",
       "      <td>F</td>\n",
       "      <td>600</td>\n",
       "      <td>lender</td>\n",
       "      <td>Agriculture</td>\n",
       "      <td>1</td>\n",
       "    </tr>\n",
       "    <tr>\n",
       "      <th>3</th>\n",
       "      <td>4</td>\n",
       "      <td>Kenya</td>\n",
       "      <td>David Mwangi Kimani  is 33 years old and marri...</td>\n",
       "      <td>M</td>\n",
       "      <td>650</td>\n",
       "      <td>lender</td>\n",
       "      <td>Food</td>\n",
       "      <td>1</td>\n",
       "    </tr>\n",
       "    <tr>\n",
       "      <th>4</th>\n",
       "      <td>5</td>\n",
       "      <td>Dominican Republic</td>\n",
       "      <td>Nilda is a very persistent woman who has learn...</td>\n",
       "      <td>F</td>\n",
       "      <td>325</td>\n",
       "      <td>partner</td>\n",
       "      <td>Food</td>\n",
       "      <td>0</td>\n",
       "    </tr>\n",
       "  </tbody>\n",
       "</table>\n",
       "</div>"
      ],
      "text/plain": [
       "   id             country                                                 en  \\\n",
       "0   1             Ecuador  <h4>Business Description</h4> \\r\\n <p> Don Mau...   \n",
       "1   2  Dominican Republic  Rosa Iris is a brilliant entrepreneur who sell...   \n",
       "2   3               Kenya  Sirote is married with six children. Two of he...   \n",
       "3   4               Kenya  David Mwangi Kimani  is 33 years old and marri...   \n",
       "4   5  Dominican Republic  Nilda is a very persistent woman who has learn...   \n",
       "\n",
       "  gender  loan_amount nonpayment       sector  status  \n",
       "0      M          825     lender         Food       1  \n",
       "1      F          450    partner       Retail       0  \n",
       "2      F          600     lender  Agriculture       1  \n",
       "3      M          650     lender         Food       1  \n",
       "4      F          325    partner         Food       0  "
      ]
     },
     "execution_count": 4,
     "metadata": {},
     "output_type": "execute_result"
    }
   ],
   "source": [
    "data.head()"
   ]
  },
  {
   "cell_type": "code",
   "execution_count": 5,
   "metadata": {},
   "outputs": [
    {
     "data": {
      "text/plain": [
       "(5454, 8)"
      ]
     },
     "execution_count": 5,
     "metadata": {},
     "output_type": "execute_result"
    }
   ],
   "source": [
    "data.shape"
   ]
  },
  {
   "cell_type": "code",
   "execution_count": 6,
   "metadata": {},
   "outputs": [],
   "source": [
    "# Initialize stopwords and lemmatizer\n",
    "stop_words = stopwords.words('english')\n",
    "lemmatizer = WordNetLemmatizer()\n",
    "\n",
    "# 1. Preprocessing Function (Simplified with Bigram within the function)\n",
    "def preprocess(text):\n",
    "    if not isinstance(text, str):\n",
    "        text = ''\n",
    "    \n",
    "    # Remove special characters and numbers\n",
    "    text = re.sub(r'\\W', ' ', text)\n",
    "    text = re.sub(r'\\s+', ' ', text)\n",
    "    \n",
    "    # Convert to lowercase and tokenize\n",
    "    tokens = simple_preprocess(text.lower(), deacc=True)\n",
    "    \n",
    "    # Lemmatize and remove stopwords\n",
    "    tokens = [lemmatizer.lemmatize(word) for word in tokens if word not in stop_words]\n",
    "    \n",
    "    # Create bigrams\n",
    "    bigram = Phrases([tokens], min_count=5, threshold=100)\n",
    "    tokens = bigram[tokens]\n",
    "    \n",
    "    return tokens"
   ]
  },
  {
   "cell_type": "code",
   "execution_count": 7,
   "metadata": {},
   "outputs": [],
   "source": [
    "# Apply preprocessing\n",
    "data['processed_en'] = data['en'].apply(preprocess)"
   ]
  },
  {
   "cell_type": "code",
   "execution_count": 8,
   "metadata": {},
   "outputs": [
    {
     "name": "stdout",
     "output_type": "stream",
     "text": [
      "<h4>Business Description</h4> \n",
      " <p> Don Mauro co-owns a restaurant alongside his wife; it is located at an excellent location in one of the principal streets of his neighborhood.  The restaurant is open for breakfast, lunch, and dinner and also sells empanadas [corn cakes]. </p>\n",
      "\n",
      "<h4>Loan Use</h4> \n",
      "<p> He will use the loan proceeds to better his restaurant by buying more fixed assets such as: chairs, tables and other furniture as needed. </p>\n",
      "\n",
      "<h4> Personal Information</h4> \n",
      "<p> He is 49 years old, he is married and has three sons, his house is built of cement. His principal goal is to grow his business by reinvesting the revenue obtained. </p>\n",
      "\n",
      "\n",
      "\n",
      "\n",
      " \n",
      "<p> <b>Translated from Spanish by Felipe Salcedo, Kiva Volunteer.</b><p>\n"
     ]
    }
   ],
   "source": [
    "print(data['en'][0])"
   ]
  },
  {
   "cell_type": "code",
   "execution_count": 9,
   "metadata": {},
   "outputs": [
    {
     "name": "stdout",
     "output_type": "stream",
     "text": [
      "['business', 'description', 'mauro', 'co', 'owns', 'restaurant', 'alongside', 'wife', 'located', 'excellent', 'location', 'one', 'principal', 'street', 'neighborhood', 'restaurant', 'open', 'breakfast', 'lunch', 'dinner', 'also', 'sell', 'empanadas', 'corn', 'cake', 'loan', 'use', 'use', 'loan', 'proceeds', 'better', 'restaurant', 'buying', 'fixed', 'asset', 'chair', 'table', 'furniture', 'needed', 'personal', 'information', 'year', 'old', 'married', 'three', 'son', 'house', 'built', 'cement', 'principal', 'goal', 'grow', 'business', 'reinvesting', 'revenue', 'obtained', 'translated', 'spanish', 'felipe', 'salcedo', 'kiva', 'volunteer']\n"
     ]
    }
   ],
   "source": [
    "print(data['processed_en'][0])"
   ]
  },
  {
   "cell_type": "code",
   "execution_count": 10,
   "metadata": {},
   "outputs": [],
   "source": [
    "# Create Dictionary and Corpus\n",
    "dictionary = corpora.Dictionary(data['processed_en'])\n",
    "# Filter out extremes\n",
    "dictionary.filter_extremes(no_below=5, no_above=0.5)\n",
    "corpus = [dictionary.doc2bow(text) for text in data['processed_en']]"
   ]
  },
  {
   "cell_type": "code",
   "execution_count": 11,
   "metadata": {},
   "outputs": [],
   "source": [
    "# Build LDA Model\n",
    "lda_model = LdaModel(corpus=corpus,\n",
    "                     id2word=dictionary,\n",
    "                     num_topics=5, \n",
    "                     random_state=100,\n",
    "                     update_every=1,\n",
    "                     chunksize=4000,\n",
    "                     passes=10,\n",
    "                     alpha='auto',\n",
    "                     eta='auto',\n",
    "                     per_word_topics=True)"
   ]
  },
  {
   "cell_type": "code",
   "execution_count": 12,
   "metadata": {},
   "outputs": [
    {
     "name": "stdout",
     "output_type": "stream",
     "text": [
      "Topic 1:\n",
      "['u', 'school', 'family', 'married', 'able', 'buy', 'two', 'income', 'also', 'stock', 'one', 'purchase', 'pay', 'market', 'need', 'expand', 'fee', 'started', 'shop', 'three', 'requesting', 'time', 'customer', 'increase', 'due']\n",
      "\n",
      "\n",
      "Topic 2:\n",
      "['group', 'community', 'life', 'small', 'hope', 'entrepreneur', 'woman', 'one', 'esperanza', 'buy', 'clothing', 'family', 'husband', 'able', 'support', 'new', 'help', 'selling', 'customer', 'two', 'store', 'good', 'many', 'like', 'product']\n",
      "\n",
      "\n",
      "Topic 3:\n",
      "['rice', 'farmer', 'land', 'baba', 'sector', 'area', 'also', 'crop', 'part', 'bank', 'water', 'program', 'rural', 'communal', 'people', 'mifex', 'many', 'santa', 'month', 'lucia', 'farm', 'finance', 'association', 'production', 'use']\n",
      "\n",
      "\n",
      "Topic 4:\n",
      "['home', 'product', 'work', 'kiva', 'help', 'mifex', 'able', 'store', 'also', 'client', 'buy', 'use', 'husband', 'house', 'volunteer', 'translated', 'spanish', 'family', 'order', 'school', 'information', 'selling', 'started', 'make', 'org']\n",
      "\n",
      "\n",
      "Topic 5:\n",
      "['group', 'member', 'woman', 'buy', 'community', 'de', 'family', 'school', 'good', 'usd', 'one', 'income', 'su', 'church', 'la', 'two', 'also', 'small', 'month', 'clothing', 'active', 'repay', 'married', 'steer', 'husband']\n",
      "\n",
      "\n"
     ]
    }
   ],
   "source": [
    "# 4. Print the 25 most significant terms per topic\n",
    "for i in range(5):\n",
    "    print(f'Topic {i+1}:')\n",
    "    print([term for term, _ in lda_model.show_topic(i, topn=25)])\n",
    "    print('\\n')"
   ]
  },
  {
   "cell_type": "code",
   "execution_count": 13,
   "metadata": {},
   "outputs": [
    {
     "data": {
      "text/html": [
       "\n",
       "<link rel=\"stylesheet\" type=\"text/css\" href=\"https://cdn.jsdelivr.net/gh/bmabey/pyLDAvis@3.4.0/pyLDAvis/js/ldavis.v1.0.0.css\">\n",
       "\n",
       "\n",
       "<div id=\"ldavis_el1451620653250218247400549594\" style=\"background-color:white;\"></div>\n",
       "<script type=\"text/javascript\">\n",
       "\n",
       "var ldavis_el1451620653250218247400549594_data = {\"mdsDat\": {\"x\": [0.08299531107619165, 0.08221066458779654, -0.3227390692541301, 0.059032495767655874, 0.09850059782248605], \"y\": [-0.009699646837792541, 0.024607678527117368, -0.014540672338047232, 0.14884542286523547, -0.14921278221651296], \"topics\": [1, 2, 3, 4, 5], \"cluster\": [1, 1, 1, 1, 1], \"Freq\": [29.126198502374244, 22.866071577262076, 13.10748890904473, 20.493918286104336, 14.406322725214599]}, \"tinfo\": {\"Term\": [\"rice\", \"farmer\", \"group\", \"u\", \"baba\", \"land\", \"woman\", \"sector\", \"member\", \"mifex\", \"crop\", \"bank\", \"esperanza\", \"kiva\", \"program\", \"area\", \"community\", \"home\", \"de\", \"communal\", \"volunteer\", \"usd\", \"translated\", \"water\", \"rural\", \"lucia\", \"santa\", \"information\", \"spanish\", \"org\", \"font\", \"span\", \"cater\", \"nakuru\", \"follows\", \"roman\", \"license\", \"msonormal\", \"junior\", \"breadwinner\", \"kiosk\", \"cereal\", \"acre\", \"bale\", \"pt\", \"kibera\", \"mombasa\", \"susan\", \"eb\", \"john\", \"ebony\", \"dropped\", \"kamau\", \"kongowea\", \"pemci\", \"paul\", \"winner\", \"fee\", \"caroline\", \"malaba\", \"nairobi\", \"ksh\", \"trading\", \"u\", \"slum\", \"shilling\", \"hotel\", \"transport\", \"enable\", \"maize\", \"budget\", \"average\", \"stock\", \"jane\", \"intends\", \"stall\", \"married\", \"school\", \"primary\", \"kenya\", \"lady\", \"milk\", \"mary\", \"class\", \"market\", \"pay\", \"cow\", \"expand\", \"meet\", \"therefore\", \"due\", \"requesting\", \"able\", \"family\", \"high\", \"two\", \"income\", \"buy\", \"shop\", \"usd\", \"need\", \"purchase\", \"also\", \"one\", \"repay\", \"three\", \"started\", \"time\", \"increase\", \"customer\", \"since\", \"thank\", \"international\", \"behalf\", \"excited\", \"republic\", \"representative\", \"dominican\", \"mujeres\", \"represent\", \"disclaimer\", \"unsettled\", \"aware\", \"accept\", \"macoris\", \"kmet\", \"affecting\", \"marie\", \"puerto\", \"nail\", \"ines\", \"peso\", \"extreme\", \"haitian\", \"catalog\", \"skin\", \"dr\", \"favorite\", \"progreso\", \"gasoline\", \"unite\", \"esperanza\", \"colmado\", \"eastern\", \"tv\", \"remains\", \"recent\", \"coordinator\", \"reputation\", \"undergarment\", \"event\", \"situation\", \"salon\", \"lender\", \"someday\", \"entrepreneur\", \"hope\", \"hair\", \"dream\", \"community\", \"clothing\", \"life\", \"beauty\", \"may\", \"risk\", \"small\", \"say\", \"support\", \"group\", \"woman\", \"new\", \"one\", \"many\", \"like\", \"customer\", \"good\", \"store\", \"husband\", \"hard\", \"selling\", \"buy\", \"family\", \"people\", \"help\", \"able\", \"two\", \"make\", \"product\", \"three\", \"time\", \"work\", \"also\", \"baba\", \"communal\", \"lucia\", \"agricola\", \"centro\", \"cacao\", \"salitre\", \"commercialize\", \"em\", \"county\", \"rio\", \"cultivation\", \"flooding\", \"intermediary\", \"cultivate\", \"infrastructure\", \"fertile\", \"absence\", \"evaluating\", \"imperative\", \"guarantor\", \"compiled\", \"watering\", \"edgar\", \"removing\", \"sowed\", \"boleo\", \"dispersed\", \"weed\", \"paddy\", \"productive\", \"participate\", \"intensive\", \"santa\", \"machinery\", \"soil\", \"rice\", \"sector\", \"crop\", \"debt\", \"association\", \"land\", \"river\", \"farmer\", \"finance\", \"seed\", \"rural\", \"often\", \"prepare\", \"production\", \"water\", \"program\", \"bank\", \"area\", \"part\", \"must\", \"farm\", \"credit\", \"also\", \"mifex\", \"people\", \"many\", \"lack\", \"month\", \"access\", \"use\", \"small\", \"capital\", \"www\", \"org\", \"description\", \"http\", \"href\", \"microinsurance\", \"php\", \"app\", \"page\", \"id\", \"seafood\", \"toy\", \"johnson\", \"reed\", \"bazaar\", \"carolina\", \"jos\", \"coffin\", \"kim\", \"tricycle\", \"geraldine\", \"katy\", \"angel\", \"crab\", \"fernando\", \"detail\", \"in\", \"novelty\", \"senora\", \"connor\", \"volunteer\", \"translated\", \"pm\", \"cement\", \"monday\", \"personal\", \"educational\", \"guayaquil\", \"mr\", \"profile\", \"spanish\", \"information\", \"gift\", \"kiva\", \"merchandise\", \"fix\", \"please\", \"home\", \"mifex\", \"improvement\", \"began\", \"offer\", \"made\", \"product\", \"client\", \"work\", \"invest\", \"store\", \"house\", \"help\", \"wife\", \"use\", \"husband\", \"able\", \"order\", \"also\", \"buy\", \"started\", \"family\", \"selling\", \"school\", \"make\", \"need\", \"life\", \"negocio\", \"steer\", \"aos\", \"ack\", \"ella\", \"una\", \"committee\", \"se\", \"su\", \"li\", \"martina\", \"casa\", \"kadet\", \"accountable\", \"prstamo\", \"por\", \"gladys\", \"silver\", \"tiene\", \"desde\", \"josefina\", \"maragwa\", \"esposo\", \"empowering\", \"comprar\", \"hace\", \"incentive\", \"venta\", \"strengthens\", \"peninah\", \"que\", \"mara\", \"sus\", \"en\", \"approved\", \"poder\", \"hijos\", \"para\", \"st\", \"un\", \"esta\", \"catholic\", \"con\", \"church\", \"la\", \"weec\", \"br\", \"group\", \"member\", \"active\", \"del\", \"de\", \"woman\", \"explains\", \"el\", \"e\", \"share\", \"usd\", \"applied\", \"community\", \"lending\", \"good\", \"buy\", \"dairy\", \"repay\", \"family\", \"income\", \"clothing\", \"month\", \"school\", \"one\", \"two\", \"small\", \"also\", \"married\", \"entrepreneur\", \"husband\", \"selling\", \"mother\"], \"Freq\": [2034.0, 1856.0, 3632.0, 2474.0, 1023.0, 1300.0, 2217.0, 979.0, 2217.0, 1447.0, 701.0, 975.0, 859.0, 1443.0, 852.0, 1663.0, 2315.0, 1952.0, 990.0, 501.0, 724.0, 1025.0, 726.0, 848.0, 707.0, 453.0, 504.0, 752.0, 815.0, 536.0, 376.63246446759877, 581.9370467087274, 205.96052878165563, 151.97414782963656, 148.0973302147478, 135.4106562469867, 131.56147800537403, 154.4919210196109, 118.84103809169704, 112.77832915533851, 144.5191170972279, 316.9292157271581, 101.72185861546554, 101.18646596314753, 100.0781379519937, 103.36979808338805, 107.68841138200077, 90.70614917153507, 80.77389695590311, 77.98516639699127, 55.3770082466492, 56.47029901179228, 54.26778451506512, 48.74094905064948, 343.08788170292445, 48.630682375866634, 44.30173533289634, 735.8189317068334, 42.10844947090503, 88.05209463852462, 435.25914255759426, 290.91978995883426, 96.66459004568905, 2348.863799440455, 204.1655670806893, 105.09475399800102, 142.63425763671717, 271.7026393560912, 480.0989848471427, 418.24951240428584, 171.75452433685476, 162.07965796848993, 1038.253979434396, 246.92460815742797, 375.883316471395, 255.72067584428328, 1419.8762348660262, 2313.8608752431705, 461.49303353919055, 578.1389439195267, 261.2472941643522, 552.3745810567933, 370.45052001942213, 221.73031124609153, 775.2244265133609, 787.3046008104066, 543.1762224470077, 746.5613727455648, 465.9815622891162, 343.7639140955236, 592.555777511067, 635.4773976622613, 1402.216319435516, 1494.0314015203137, 557.1785585012695, 1198.5562643940043, 1057.9304833923268, 1312.7683588949965, 644.6809677363684, 581.5340268012045, 761.9651584135944, 792.2204386140673, 1049.3388881285346, 793.8275549448055, 545.1042781222063, 641.3729287171068, 645.5971927970671, 610.9574580299922, 600.8068283979512, 606.5141883660484, 561.4965668977735, 392.8997689254415, 340.19959052074796, 258.14583968275724, 125.75807936737041, 241.83656494420666, 99.0523890211973, 350.5004863046252, 71.2845041100488, 193.83678501012136, 179.75484090065376, 179.75305093136438, 186.72955973835676, 185.81617615763673, 48.1944543151329, 51.396587607219175, 179.34883446517168, 33.34114912022903, 38.51652263893886, 60.392504454173135, 30.40281711841363, 42.437757828041654, 25.078026826522272, 61.55481553273559, 26.13606001731638, 22.68321382434647, 22.10266711815687, 44.26846109541904, 20.934235744940842, 24.327670482747106, 27.166312154139575, 828.0506061438738, 85.23525077660177, 49.74145049430868, 29.34922232085748, 183.49954189067398, 187.00354680625054, 139.84389565530074, 47.351951082940055, 62.83758423847635, 199.79931883299517, 249.44074413868051, 358.0627777823952, 280.52483939829335, 118.45014617862022, 905.3544847342306, 993.250013439702, 252.58906876212885, 333.10958304881456, 1254.6322880709276, 748.4440720943379, 1157.7135607076666, 275.54755581427514, 228.97949560179708, 385.0502056417185, 1142.5890751654213, 400.0300567947169, 640.8851827952216, 1274.8798361926501, 853.2827925533613, 630.9585245361053, 834.3708781147255, 556.8326085640971, 543.9407870288175, 606.6197641585942, 587.414343463147, 589.1777189230869, 659.4404671621062, 427.5851849819965, 609.2398408384237, 807.6492424298827, 746.8219459116553, 508.777851001838, 614.7118865460213, 648.8928478561782, 593.2468183609876, 513.3044519781105, 540.1008523666051, 491.2475980280158, 475.7665311206667, 518.6272605182886, 533.8430710242778, 1022.953295459128, 500.7944369687496, 452.60658217800983, 286.83455767807163, 286.83458559812067, 260.622964363515, 255.62608526766104, 217.13244842255648, 225.35957947159534, 199.25582734643658, 201.28139898388125, 154.6511060086359, 149.09163792472552, 149.6446084558894, 212.863752125586, 149.61428728263732, 131.78902513671744, 126.78048942039138, 122.32541283608734, 121.77052978156453, 121.77044602141743, 122.31442629679204, 102.78715796169482, 100.56800266426558, 98.90036605545042, 98.34424055874555, 96.11554358455857, 96.11522250399467, 96.1152015639579, 96.1150829037495, 219.33281352698512, 155.1351140186832, 104.72873911162975, 472.7969935577633, 317.4677374781148, 128.95292051576044, 1754.4629357053784, 874.0534961913224, 635.7102004768545, 217.5491132743312, 413.10191847727214, 1064.0345205687286, 228.80935281031847, 1452.2353290730027, 415.2987796155469, 330.7127016198084, 520.643972469834, 386.5911618373048, 336.6743859301179, 412.46492255853724, 561.151384731666, 560.9110489495721, 563.099199032548, 767.586029046022, 563.7260599734832, 309.39172369447823, 446.3178703333527, 349.28458775699943, 747.4797407740111, 491.51202578635707, 494.04973488325186, 482.7960565587878, 381.16839031347007, 454.75120490454003, 362.01135578860226, 402.05107930904785, 393.76242643196025, 351.0691535311734, 534.9520600444864, 535.489394203025, 390.9629193707371, 318.3094828014453, 255.89815739289338, 224.42067362503147, 91.29500630601557, 91.29297094935444, 91.28897663011597, 98.22538482372534, 88.33861528704135, 64.05652657029705, 45.73769182564899, 41.44674800160483, 39.126498703478596, 35.40054369630704, 32.172566252718504, 35.84668241731434, 28.956615420607537, 26.79095773612249, 26.24180977819697, 25.697365513145165, 49.4405212523115, 31.484705737140775, 24.608452427800334, 24.61382456890726, 25.13490588611823, 24.073268217048632, 23.53387141824762, 23.52469594311172, 694.7244803530198, 693.4305391885676, 372.37187340700365, 355.3070502762237, 45.21254798019616, 460.73193360471055, 238.36283401345568, 169.48338523152205, 279.10657091564997, 58.665390620107644, 690.5492162703633, 626.3532159299363, 81.24986092018236, 1075.3170992904077, 410.3485074597089, 86.93541966932075, 235.96453997365163, 1276.30530645835, 955.1089567109049, 181.48030123737288, 279.29375824783074, 494.16857639183723, 469.23581743652306, 1211.1132145727502, 835.3638932404912, 1209.2189032171875, 533.5371106513019, 888.6599857049345, 759.7035418792348, 1019.6936501496849, 484.84723220964753, 800.3239787301827, 785.7681555800674, 934.2124246057388, 661.931424981551, 866.1130794672061, 802.4914753293991, 559.2724876778557, 672.6241521022806, 574.9135870092551, 660.2801341199832, 543.8802147908198, 496.60188074890084, 491.12420667193163, 192.45644617591407, 304.7192235077174, 112.20896824923965, 100.01600198568427, 95.58795331012958, 85.25275828033804, 77.3854315900929, 66.07185333852912, 398.6973155503, 62.64342689887237, 71.78996978196344, 66.93289071956941, 83.87107544773424, 54.24220962147119, 51.795810446104205, 59.55017181830683, 76.47834118329988, 47.86371212134705, 166.45510576496127, 44.42049854073771, 46.28913285703794, 39.50187735397447, 38.04321700006415, 38.00762813008798, 37.05186482276382, 37.524673585658114, 37.5125600211631, 36.07460166458641, 36.54678518650139, 36.04307877889292, 271.362993172833, 212.5184115534384, 119.40019846995894, 266.52213968922746, 100.5901880114154, 49.67821514500837, 71.20160651292208, 152.79919835649608, 109.60781234190577, 84.50360451208768, 60.87563666445118, 116.42700500075945, 133.41276941670014, 397.1296254442661, 388.14337056610003, 250.62147140330836, 223.42440940317113, 1769.184084519975, 1177.9445535404018, 321.08801700293725, 103.52786165565485, 552.5322812086333, 1029.6876580178039, 211.4197058835725, 256.67779335070895, 116.08423485406071, 153.30512954795734, 438.9769198016962, 202.78779002813974, 621.50371068584, 127.01881734046758, 449.27515273285763, 662.0188965322413, 282.7328047541932, 312.00552871563536, 510.6431302280969, 411.34132988916883, 323.89308585788194, 341.31173183822784, 479.01597121692674, 421.50257750834606, 372.1801014655645, 355.6101261367048, 362.3813248376859, 307.17081256679614, 285.679431235523, 292.9053143826666, 272.9771122163741, 266.55672357063565], \"Total\": [2034.0, 1856.0, 3632.0, 2474.0, 1023.0, 1300.0, 2217.0, 979.0, 2217.0, 1447.0, 701.0, 975.0, 859.0, 1443.0, 852.0, 1663.0, 2315.0, 1952.0, 990.0, 501.0, 724.0, 1025.0, 726.0, 848.0, 707.0, 453.0, 504.0, 752.0, 815.0, 536.0, 377.43185364740054, 583.2670377364183, 206.87935021738633, 152.77219299138036, 148.9019463233026, 136.20646090540615, 132.35274546331883, 155.51151287819928, 119.64624327136269, 113.57919128276019, 145.5799380675977, 319.3046408474332, 102.5264815145601, 101.98886028986396, 100.8771247791929, 104.19718040199574, 108.61790665660511, 91.50683939643778, 81.56234092105004, 78.79196912538373, 56.16558586819438, 57.27800311501287, 55.05754327411781, 49.545195464743045, 349.2024376103084, 49.52203791772217, 45.1180736488324, 749.8534487611507, 42.9152496202121, 89.75570199074353, 445.0377516900893, 296.6199516331007, 98.53842559687159, 2474.929585572047, 211.72817588606054, 107.53575084060128, 147.08857353494955, 286.7154812429636, 528.3675490909311, 471.22818489160016, 183.34759270959864, 172.2517141295747, 1366.6642152485579, 277.7406103181983, 459.6641830233291, 295.77919590360483, 2146.061460151039, 3821.150727276917, 588.3785983315443, 767.3703985743274, 307.46263062353154, 776.434429415105, 474.4824800411303, 253.08673752228944, 1250.448456998451, 1286.209670719673, 803.3660166573233, 1231.2995757248727, 665.0366331804855, 450.6649534262995, 943.7301456398819, 1052.114155560233, 3181.6389989512463, 3489.4890308867134, 885.0557875795075, 2699.6171164052544, 2292.209847191775, 3826.9422527882157, 1212.687869894343, 1025.1300011525373, 1757.3540748438131, 1941.2424602880546, 3559.1561042317157, 2737.7117613316123, 998.5659678496447, 1651.5517576205264, 1728.1754481328499, 1465.071497750518, 1615.1421923589883, 1782.4774887538913, 1168.9021304413366, 393.82314379892534, 341.0950177888319, 259.2630848832232, 126.58205408338134, 243.7048786593321, 99.90841099991351, 353.6692138525069, 72.09556711958113, 196.37361350291437, 182.16276834976605, 182.16266049954112, 189.26225565634746, 188.64994157537583, 48.97295432142428, 52.4852947820083, 183.23699229194446, 34.14830809808356, 39.4566882547954, 61.881397816811315, 31.181865906645175, 43.563351997007054, 25.853578207629518, 63.53765222451844, 27.01539232683689, 23.47865877534195, 22.892858236599825, 45.90448072693183, 21.713163209668892, 25.23882167282354, 28.183868720383135, 859.3166800196586, 89.20398506218686, 52.21386037622966, 30.53197023840994, 200.0522306818799, 205.1111469991829, 153.57725131038288, 49.971856281448744, 67.19311642428006, 228.4942404376816, 294.1214218321454, 441.9828599214168, 346.1590173607454, 134.55611467945187, 1392.2601126065895, 1662.9869305641346, 339.48367515883746, 471.1941929690868, 2315.442030106124, 1306.6600963501073, 2305.9896470985786, 391.3102264002799, 309.86427422890586, 611.3175709613195, 2667.472762353796, 653.2980789535469, 1287.3032251916297, 3632.673775686101, 2217.1429800229153, 1557.1062470647714, 2737.7117613316123, 1466.2983819583678, 1422.6993592771362, 1782.4774887538913, 1762.6163406938363, 1807.0489255255823, 2268.4532498340022, 969.2707570218394, 2051.189895908596, 3826.9422527882157, 3489.4890308867134, 1519.014400027127, 2535.5906702732127, 3181.6389989512463, 2699.6171164052544, 1796.8739876299462, 2401.9430117233796, 1651.5517576205264, 1465.071497750518, 2657.014714066492, 3559.1561042317157, 1023.7571215082369, 501.7758902986047, 453.8349636344003, 287.6252730845678, 287.6253194333764, 261.4133361580003, 256.4153366205949, 217.92222450594403, 226.2673566878192, 200.06726104335044, 202.28688435364325, 155.4496026673039, 149.8823608235782, 150.43927890226766, 214.00630101961733, 150.43684575554178, 132.58507850869762, 127.56859761185494, 123.1141803696464, 122.55788385882347, 122.55787827373705, 123.11111285182693, 103.58622549431387, 101.36172400203878, 99.68846678804123, 99.13176953484638, 96.90234387271661, 96.90235676534556, 96.90233674602406, 96.90230804569896, 224.80627649697968, 158.38143934223064, 105.79589508134276, 504.75581569111966, 335.1130134031826, 131.42174051713428, 2034.2985106293222, 979.6254958750117, 701.1805200081569, 230.56014270608875, 459.7123264097002, 1300.6532322037451, 243.4308816826131, 1856.9125991271394, 502.21215078313537, 394.221626925137, 707.6598085431955, 494.61804049056644, 417.05784769917756, 556.9351614511442, 848.5460197177647, 852.8575336340732, 975.580410741629, 1663.8516174981955, 1043.6675681300949, 417.61631649286517, 830.4975042536976, 609.7002961649748, 3559.1561042317157, 1447.5424731038154, 1519.014400027127, 1466.2983819583678, 777.532369123117, 1528.2847468324599, 722.2105552898665, 1948.8514502647574, 2667.472762353796, 1350.724213899311, 535.8742100250988, 536.4180230195485, 391.93623019913593, 319.19672909859656, 256.7490978914232, 225.25552277136094, 92.20116640287297, 92.20137839633416, 92.20170134840946, 99.26808556558521, 89.50314528175953, 65.03302640165347, 46.57722279776249, 42.24348259129098, 40.052925274593846, 36.252178216338166, 33.010560259241025, 36.78667678569497, 29.749291154924467, 27.58475772784627, 27.034614543993094, 26.49358455454876, 50.97811729801006, 32.47693342877406, 25.40072299289132, 25.406745816148167, 25.94752244840328, 24.865177750979928, 24.32476990923198, 24.324602604402457, 724.0478701482016, 726.492643704048, 390.18154874857214, 377.9191946933544, 47.02081589936544, 509.82716304705866, 258.4966581974127, 182.63392476770852, 308.7903988055334, 61.97023043877802, 815.7613808907395, 752.5266561796113, 87.89869032903975, 1443.4580125183893, 509.1197166757542, 96.25704102028446, 291.7397751628208, 1952.3595701188196, 1447.5424731038154, 220.7561410426902, 380.4650982266195, 770.3169188888646, 726.0983175609894, 2401.9430117233796, 1509.3109200628526, 2657.014714066492, 921.7074838891087, 1807.0489255255823, 1560.5107993047845, 2535.5906702732127, 887.7808119095469, 1948.8514502647574, 2268.4532498340022, 3181.6389989512463, 1774.1936630240043, 3559.1561042317157, 3826.9422527882157, 1728.1754481328499, 3489.4890308867134, 2051.189895908596, 3821.150727276917, 1796.8739876299462, 1757.3540748438131, 2305.9896470985786, 193.28470168018183, 307.08272408266413, 113.12577723974236, 100.83320258412712, 96.39873943049466, 86.0678301399091, 78.20029999878264, 66.88440170571148, 403.83274497065014, 63.45877230635007, 72.77407398178936, 67.87122344547289, 85.1289659195052, 55.08200051280362, 52.61385815184735, 60.50243775748261, 77.75100962031169, 48.68357238189931, 169.4435947219959, 45.24399315497723, 47.21707446220999, 40.33036045712744, 38.85302076369421, 38.83522986935436, 37.861927722245674, 38.34947084402317, 38.347866519829296, 36.885394998823145, 37.3725485498701, 36.868497541395456, 280.3293329705413, 221.15685390579222, 123.87524858552443, 281.25474900420613, 105.70859209496467, 51.22768212830165, 74.5632443741164, 165.74827898076956, 117.86563730239965, 90.07158520810852, 63.668366942591426, 129.1680726714844, 151.6211474055536, 518.4765715765589, 519.6890827751645, 315.9221870075143, 295.7439274890029, 3632.673775686101, 2217.936426277301, 470.76700206613225, 117.2164020198998, 990.278334680499, 2217.1429800229153, 293.7000225475256, 381.14969403909004, 136.02931863938667, 201.0211493827664, 1025.1300011525373, 330.8074114164135, 2315.442030106124, 157.49771242000855, 1762.6163406938363, 3826.9422527882157, 803.8621549284139, 998.5659678496447, 3489.4890308867134, 2292.209847191775, 1306.6600963501073, 1528.2847468324599, 3821.150727276917, 2737.7117613316123, 2699.6171164052544, 2667.472762353796, 3559.1561042317157, 2146.061460151039, 1392.2601126065895, 2268.4532498340022, 2051.189895908596, 1617.143488525372], \"Category\": [\"Default\", \"Default\", \"Default\", \"Default\", \"Default\", \"Default\", \"Default\", \"Default\", \"Default\", \"Default\", \"Default\", \"Default\", \"Default\", \"Default\", \"Default\", \"Default\", \"Default\", \"Default\", \"Default\", \"Default\", \"Default\", \"Default\", \"Default\", \"Default\", \"Default\", \"Default\", \"Default\", \"Default\", \"Default\", \"Default\", \"Topic1\", \"Topic1\", \"Topic1\", \"Topic1\", \"Topic1\", \"Topic1\", \"Topic1\", \"Topic1\", \"Topic1\", \"Topic1\", \"Topic1\", \"Topic1\", \"Topic1\", \"Topic1\", \"Topic1\", \"Topic1\", \"Topic1\", \"Topic1\", \"Topic1\", \"Topic1\", \"Topic1\", \"Topic1\", \"Topic1\", \"Topic1\", \"Topic1\", \"Topic1\", \"Topic1\", \"Topic1\", \"Topic1\", \"Topic1\", \"Topic1\", \"Topic1\", \"Topic1\", \"Topic1\", \"Topic1\", \"Topic1\", \"Topic1\", \"Topic1\", \"Topic1\", \"Topic1\", \"Topic1\", \"Topic1\", \"Topic1\", \"Topic1\", \"Topic1\", \"Topic1\", \"Topic1\", \"Topic1\", \"Topic1\", \"Topic1\", \"Topic1\", \"Topic1\", \"Topic1\", \"Topic1\", \"Topic1\", \"Topic1\", \"Topic1\", \"Topic1\", \"Topic1\", \"Topic1\", \"Topic1\", \"Topic1\", \"Topic1\", \"Topic1\", \"Topic1\", \"Topic1\", \"Topic1\", \"Topic1\", \"Topic1\", \"Topic1\", \"Topic1\", \"Topic1\", \"Topic1\", \"Topic1\", \"Topic1\", \"Topic1\", \"Topic1\", \"Topic1\", \"Topic1\", \"Topic1\", \"Topic1\", \"Topic2\", \"Topic2\", \"Topic2\", \"Topic2\", \"Topic2\", \"Topic2\", \"Topic2\", \"Topic2\", \"Topic2\", \"Topic2\", \"Topic2\", \"Topic2\", \"Topic2\", \"Topic2\", \"Topic2\", \"Topic2\", \"Topic2\", \"Topic2\", \"Topic2\", \"Topic2\", \"Topic2\", \"Topic2\", \"Topic2\", \"Topic2\", \"Topic2\", \"Topic2\", \"Topic2\", \"Topic2\", \"Topic2\", \"Topic2\", \"Topic2\", \"Topic2\", \"Topic2\", \"Topic2\", \"Topic2\", \"Topic2\", \"Topic2\", \"Topic2\", \"Topic2\", \"Topic2\", \"Topic2\", \"Topic2\", \"Topic2\", \"Topic2\", \"Topic2\", \"Topic2\", \"Topic2\", \"Topic2\", \"Topic2\", \"Topic2\", \"Topic2\", \"Topic2\", \"Topic2\", \"Topic2\", \"Topic2\", \"Topic2\", \"Topic2\", \"Topic2\", \"Topic2\", \"Topic2\", \"Topic2\", \"Topic2\", \"Topic2\", \"Topic2\", \"Topic2\", \"Topic2\", \"Topic2\", \"Topic2\", \"Topic2\", \"Topic2\", \"Topic2\", \"Topic2\", \"Topic2\", \"Topic2\", \"Topic2\", \"Topic2\", \"Topic2\", \"Topic2\", \"Topic2\", \"Topic2\", \"Topic2\", \"Topic3\", \"Topic3\", \"Topic3\", \"Topic3\", \"Topic3\", \"Topic3\", \"Topic3\", \"Topic3\", \"Topic3\", \"Topic3\", \"Topic3\", \"Topic3\", \"Topic3\", \"Topic3\", \"Topic3\", \"Topic3\", \"Topic3\", \"Topic3\", \"Topic3\", \"Topic3\", \"Topic3\", \"Topic3\", \"Topic3\", \"Topic3\", \"Topic3\", \"Topic3\", \"Topic3\", \"Topic3\", \"Topic3\", \"Topic3\", \"Topic3\", \"Topic3\", \"Topic3\", \"Topic3\", \"Topic3\", \"Topic3\", \"Topic3\", \"Topic3\", \"Topic3\", \"Topic3\", \"Topic3\", \"Topic3\", \"Topic3\", \"Topic3\", \"Topic3\", \"Topic3\", \"Topic3\", \"Topic3\", \"Topic3\", \"Topic3\", \"Topic3\", \"Topic3\", \"Topic3\", \"Topic3\", \"Topic3\", \"Topic3\", \"Topic3\", \"Topic3\", \"Topic3\", \"Topic3\", \"Topic3\", \"Topic3\", \"Topic3\", \"Topic3\", \"Topic3\", \"Topic3\", \"Topic3\", \"Topic3\", \"Topic4\", \"Topic4\", \"Topic4\", \"Topic4\", \"Topic4\", \"Topic4\", \"Topic4\", \"Topic4\", \"Topic4\", \"Topic4\", \"Topic4\", \"Topic4\", \"Topic4\", \"Topic4\", \"Topic4\", \"Topic4\", \"Topic4\", \"Topic4\", \"Topic4\", \"Topic4\", \"Topic4\", \"Topic4\", \"Topic4\", \"Topic4\", \"Topic4\", \"Topic4\", \"Topic4\", \"Topic4\", \"Topic4\", \"Topic4\", \"Topic4\", \"Topic4\", \"Topic4\", \"Topic4\", \"Topic4\", \"Topic4\", \"Topic4\", \"Topic4\", \"Topic4\", \"Topic4\", \"Topic4\", \"Topic4\", \"Topic4\", \"Topic4\", \"Topic4\", \"Topic4\", \"Topic4\", \"Topic4\", \"Topic4\", \"Topic4\", \"Topic4\", \"Topic4\", \"Topic4\", \"Topic4\", \"Topic4\", \"Topic4\", \"Topic4\", \"Topic4\", \"Topic4\", \"Topic4\", \"Topic4\", \"Topic4\", \"Topic4\", \"Topic4\", \"Topic4\", \"Topic4\", \"Topic4\", \"Topic4\", \"Topic4\", \"Topic4\", \"Topic4\", \"Topic4\", \"Topic4\", \"Topic4\", \"Topic5\", \"Topic5\", \"Topic5\", \"Topic5\", \"Topic5\", \"Topic5\", \"Topic5\", \"Topic5\", \"Topic5\", \"Topic5\", \"Topic5\", \"Topic5\", \"Topic5\", \"Topic5\", \"Topic5\", \"Topic5\", \"Topic5\", \"Topic5\", \"Topic5\", \"Topic5\", \"Topic5\", \"Topic5\", \"Topic5\", \"Topic5\", \"Topic5\", \"Topic5\", \"Topic5\", \"Topic5\", \"Topic5\", \"Topic5\", \"Topic5\", \"Topic5\", \"Topic5\", \"Topic5\", \"Topic5\", \"Topic5\", \"Topic5\", \"Topic5\", \"Topic5\", \"Topic5\", \"Topic5\", \"Topic5\", \"Topic5\", \"Topic5\", \"Topic5\", \"Topic5\", \"Topic5\", \"Topic5\", \"Topic5\", \"Topic5\", \"Topic5\", \"Topic5\", \"Topic5\", \"Topic5\", \"Topic5\", \"Topic5\", \"Topic5\", \"Topic5\", \"Topic5\", \"Topic5\", \"Topic5\", \"Topic5\", \"Topic5\", \"Topic5\", \"Topic5\", \"Topic5\", \"Topic5\", \"Topic5\", \"Topic5\", \"Topic5\", \"Topic5\", \"Topic5\", \"Topic5\", \"Topic5\", \"Topic5\", \"Topic5\", \"Topic5\", \"Topic5\", \"Topic5\"], \"logprob\": [30.0, 29.0, 28.0, 27.0, 26.0, 25.0, 24.0, 23.0, 22.0, 21.0, 20.0, 19.0, 18.0, 17.0, 16.0, 15.0, 14.0, 13.0, 12.0, 11.0, 10.0, 9.0, 8.0, 7.0, 6.0, 5.0, 4.0, 3.0, 2.0, 1.0, -5.8686, -5.4335, -6.4722, -6.7761, -6.802, -6.8915, -6.9204, -6.7597, -7.0221, -7.0744, -6.8264, -6.0412, -7.1776, -7.1829, -7.1939, -7.1615, -7.1206, -7.2922, -7.4082, -7.4433, -7.7857, -7.7661, -7.8059, -7.9133, -5.9619, -7.9156, -8.0088, -5.1989, -8.0596, -7.3219, -5.7239, -6.1268, -7.2286, -4.0382, -6.4809, -7.145, -6.8396, -6.1951, -5.6259, -5.7638, -6.6538, -6.7118, -4.8546, -6.2908, -5.8706, -6.2558, -4.5415, -4.0532, -5.6654, -5.44, -6.2344, -5.4856, -5.8851, -6.3984, -5.1467, -5.1312, -5.5024, -5.1844, -5.6557, -5.9599, -5.4154, -5.3455, -4.554, -4.4906, -5.477, -4.711, -4.8358, -4.62, -5.3311, -5.4342, -5.164, -5.125, -4.8439, -5.123, -5.4989, -5.3362, -5.3297, -5.3848, -5.4016, -5.3921, -5.4692, -5.5843, -5.7283, -6.0043, -6.7235, -6.0696, -6.9622, -5.6985, -7.2912, -6.2909, -6.3663, -6.3663, -6.3282, -6.3331, -7.6826, -7.6183, -6.3685, -8.0511, -7.9068, -7.457, -8.1433, -7.8098, -8.3359, -7.4379, -8.2946, -8.4362, -8.4622, -7.7676, -8.5165, -8.3663, -8.2559, -4.8388, -7.1125, -7.651, -8.1786, -6.3457, -6.3267, -6.6173, -7.7003, -7.4173, -6.2606, -6.0386, -5.6772, -5.9212, -6.7834, -4.7495, -4.6569, -6.0261, -5.7494, -4.4233, -4.9399, -4.5037, -5.9391, -6.1242, -5.6045, -4.5168, -5.5663, -5.095, -4.4073, -4.8088, -5.1106, -4.8312, -5.2356, -5.259, -5.15, -5.1821, -5.1791, -5.0665, -5.4997, -5.1457, -4.8637, -4.942, -5.3259, -5.1367, -5.0826, -5.1723, -5.317, -5.2661, -5.3609, -5.3929, -5.3067, -5.2778, -4.0709, -4.7852, -4.8864, -5.3425, -5.3425, -5.4383, -5.4577, -5.6209, -5.5837, -5.7068, -5.6967, -5.9602, -5.9968, -5.9931, -5.6407, -5.9933, -6.1202, -6.1589, -6.1947, -6.1993, -6.1993, -6.1948, -6.3687, -6.3906, -6.4073, -6.4129, -6.4358, -6.4358, -6.4358, -6.4359, -5.6108, -5.9571, -6.35, -4.8427, -5.241, -6.1419, -3.5315, -4.2283, -4.5467, -5.619, -4.9777, -4.0316, -5.5685, -3.7205, -4.9724, -5.2001, -4.7463, -5.044, -5.1823, -4.9792, -4.6714, -4.6718, -4.6679, -4.3581, -4.6668, -5.2668, -4.9004, -5.1455, -4.3847, -4.8039, -4.7988, -4.8218, -5.0582, -4.8816, -5.1097, -5.0048, -5.0256, -5.1404, -5.1662, -5.1652, -5.4797, -5.6853, -5.9036, -6.0348, -6.9342, -6.9343, -6.9343, -6.8611, -6.9672, -7.2886, -7.6254, -7.7239, -7.7815, -7.8816, -7.9772, -7.8691, -8.0825, -8.1603, -8.181, -8.202, -7.5476, -7.9988, -8.2453, -8.245, -8.2241, -8.2672, -8.2899, -8.2903, -4.9048, -4.9067, -5.5284, -5.5754, -7.637, -5.3155, -5.9745, -6.3156, -5.8167, -7.3765, -4.9109, -5.0084, -7.0508, -4.468, -5.4313, -6.9832, -5.9847, -4.2966, -4.5865, -6.2472, -5.8161, -5.2455, -5.2972, -4.349, -4.7205, -4.3506, -5.1688, -4.6586, -4.8154, -4.5211, -5.2645, -4.7633, -4.7817, -4.6086, -4.9532, -4.6843, -4.7606, -5.1217, -4.9372, -5.0941, -4.9557, -5.1496, -5.2406, -5.2516, -5.836, -5.3765, -6.3755, -6.4906, -6.5358, -6.6503, -6.7471, -6.9051, -5.1077, -6.9584, -6.8221, -6.8922, -6.6666, -7.1024, -7.1486, -7.0091, -6.7589, -7.2275, -5.9812, -7.3022, -7.261, -7.4195, -7.4572, -7.4581, -7.4836, -7.4709, -7.4712, -7.5103, -7.4973, -7.5112, -5.4924, -5.7369, -6.3134, -5.5104, -6.4848, -7.1903, -6.8304, -6.0668, -6.399, -6.6591, -6.987, -6.3386, -6.2024, -5.1116, -5.1345, -5.5719, -5.6868, -3.6176, -4.0244, -5.3242, -6.456, -4.7814, -4.1589, -5.742, -5.5481, -6.3416, -6.0635, -5.0114, -5.7837, -4.6637, -6.2515, -4.9882, -4.6006, -5.4514, -5.3529, -4.8602, -5.0765, -5.3155, -5.2631, -4.9241, -5.0521, -5.1765, -5.222, -5.2032, -5.3685, -5.441, -5.416, -5.4865, -5.5103], \"loglift\": [30.0, 29.0, 28.0, 27.0, 26.0, 25.0, 24.0, 23.0, 22.0, 21.0, 20.0, 19.0, 18.0, 17.0, 16.0, 15.0, 14.0, 13.0, 12.0, 11.0, 10.0, 9.0, 8.0, 7.0, 6.0, 5.0, 4.0, 3.0, 2.0, 1.0, 1.2314, 1.2312, 1.2291, 1.2283, 1.2281, 1.2277, 1.2275, 1.227, 1.2268, 1.2265, 1.2262, 1.2261, 1.2257, 1.2256, 1.2256, 1.2256, 1.2249, 1.2247, 1.2238, 1.2232, 1.2194, 1.2193, 1.2191, 1.2172, 1.2159, 1.2154, 1.2153, 1.2146, 1.2146, 1.2144, 1.2113, 1.2141, 1.2143, 1.1813, 1.1972, 1.2106, 1.2028, 1.1798, 1.1377, 1.1143, 1.1682, 1.1727, 0.9587, 1.1159, 1.0323, 1.088, 0.8205, 0.7319, 0.9906, 0.9504, 1.0706, 0.893, 0.986, 1.1013, 0.7554, 0.7427, 0.8422, 0.7332, 0.8778, 0.9628, 0.7681, 0.7294, 0.4142, 0.3853, 0.7708, 0.4215, 0.4603, 0.1636, 0.6017, 0.6666, 0.3979, 0.3373, 0.0122, -0.0045, 0.6282, 0.2877, 0.2489, 0.3589, 0.2446, 0.1555, 0.5003, 1.4732, 1.4729, 1.4712, 1.469, 1.4678, 1.4669, 1.4665, 1.4642, 1.4625, 1.4622, 1.4622, 1.462, 1.4604, 1.4595, 1.4546, 1.4541, 1.4516, 1.4514, 1.4512, 1.4502, 1.4493, 1.4451, 1.4438, 1.4424, 1.441, 1.4404, 1.4392, 1.439, 1.4387, 1.4387, 1.4385, 1.43, 1.427, 1.436, 1.3891, 1.3831, 1.3818, 1.4217, 1.4085, 1.3413, 1.3107, 1.265, 1.2653, 1.348, 1.0452, 0.9601, 1.1799, 1.1287, 0.8628, 0.9183, 0.7865, 1.1248, 1.173, 1.0133, 0.6277, 0.985, 0.7781, 0.4284, 0.5206, 0.5722, 0.2873, 0.5073, 0.514, 0.3977, 0.3767, 0.3548, 0.2401, 0.6571, 0.2616, -0.0802, -0.0662, 0.3817, 0.0585, -0.1144, -0.0397, 0.2226, -0.0168, 0.263, 0.3508, -0.1583, -0.4217, 2.0312, 2.03, 2.0293, 2.0292, 2.0292, 2.029, 2.0289, 2.0284, 2.028, 2.0279, 2.027, 2.0268, 2.0267, 2.0267, 2.0266, 2.0265, 2.026, 2.0258, 2.0256, 2.0255, 2.0255, 2.0255, 2.0242, 2.0241, 2.024, 2.024, 2.0238, 2.0238, 2.0238, 2.0238, 2.0073, 2.0113, 2.0218, 1.9666, 1.9779, 2.013, 1.884, 1.918, 1.934, 1.9739, 1.9251, 1.8312, 1.97, 1.7862, 1.842, 1.8563, 1.7251, 1.7856, 1.8179, 1.7317, 1.6185, 1.613, 1.4824, 1.2583, 1.4161, 1.732, 1.411, 1.4749, 0.4714, 0.9519, 0.9088, 0.9211, 1.3191, 0.8198, 1.3413, 0.4536, 0.1188, 0.6846, 1.5833, 1.5833, 1.5826, 1.5823, 1.5817, 1.5813, 1.5752, 1.5751, 1.5751, 1.5745, 1.5719, 1.5699, 1.5669, 1.566, 1.5616, 1.5613, 1.5593, 1.5592, 1.558, 1.5558, 1.5553, 1.5545, 1.5544, 1.554, 1.5534, 1.5533, 1.5532, 1.5527, 1.552, 1.5516, 1.5437, 1.5385, 1.5383, 1.5233, 1.5458, 1.4838, 1.504, 1.5103, 1.484, 1.5302, 1.4184, 1.4015, 1.5064, 1.2906, 1.3694, 1.4832, 1.3729, 1.16, 1.1692, 1.3891, 1.2759, 1.1411, 1.1485, 0.9003, 0.9935, 0.7978, 1.0383, 0.8753, 0.8652, 0.6741, 0.9802, 0.6951, 0.5249, 0.3596, 0.5991, 0.1718, 0.0229, 0.4569, -0.0613, 0.3131, -0.1706, 0.39, 0.3213, 0.0385, 1.9332, 1.9298, 1.9294, 1.9294, 1.9291, 1.928, 1.927, 1.9253, 1.9247, 1.9246, 1.9239, 1.9236, 1.9226, 1.9221, 1.9218, 1.9216, 1.921, 1.9205, 1.9197, 1.9191, 1.9177, 1.9167, 1.9164, 1.916, 1.9159, 1.9158, 1.9155, 1.9153, 1.9152, 1.9149, 1.905, 1.8977, 1.9007, 1.8837, 1.8879, 1.9068, 1.8914, 1.8562, 1.8649, 1.8737, 1.8926, 1.8337, 1.8096, 1.6709, 1.6456, 1.706, 1.6571, 1.2181, 1.3047, 1.5549, 1.8133, 1.354, 1.1705, 1.6088, 1.5421, 1.7789, 1.6665, 1.0894, 1.4481, 0.6223, 1.7224, 0.5706, 0.183, 0.8926, 0.7742, 0.0157, 0.2197, 0.5427, 0.4384, -0.1391, 0.0665, -0.044, -0.0775, -0.3471, -0.0065, 0.3537, -0.1095, -0.0793, 0.1347]}, \"token.table\": {\"Topic\": [1, 2, 3, 4, 5, 3, 1, 2, 1, 2, 3, 4, 5, 5, 5, 1, 1, 2, 4, 5, 1, 2, 3, 1, 2, 3, 4, 5, 2, 4, 5, 4, 1, 2, 5, 1, 5, 1, 2, 3, 4, 5, 1, 3, 5, 1, 2, 5, 1, 2, 3, 1, 2, 3, 5, 4, 1, 2, 4, 5, 1, 2, 4, 5, 2, 5, 3, 1, 2, 4, 5, 1, 1, 2, 5, 1, 2, 3, 4, 5, 3, 1, 2, 3, 4, 5, 4, 1, 5, 2, 1, 1, 5, 1, 2, 3, 4, 5, 3, 1, 5, 1, 2, 4, 5, 1, 2, 4, 5, 1, 2, 3, 4, 5, 1, 2, 4, 5, 4, 2, 5, 3, 5, 3, 1, 2, 3, 4, 5, 3, 5, 2, 3, 5, 4, 2, 5, 3, 1, 3, 4, 5, 4, 1, 2, 3, 4, 5, 1, 3, 5, 1, 3, 3, 1, 2, 4, 5, 1, 4, 5, 2, 3, 4, 5, 1, 3, 4, 2, 5, 4, 5, 4, 1, 2, 3, 2, 5, 2, 1, 2, 4, 5, 1, 1, 2, 3, 4, 5, 2, 3, 5, 1, 2, 5, 1, 1, 3, 1, 4, 5, 2, 3, 5, 5, 3, 5, 2, 3, 5, 1, 2, 4, 5, 1, 2, 3, 5, 2, 5, 5, 3, 5, 3, 1, 2, 3, 2, 1, 2, 3, 4, 5, 2, 5, 2, 1, 2, 3, 4, 5, 1, 3, 4, 5, 1, 3, 5, 2, 4, 1, 2, 5, 4, 3, 1, 2, 3, 4, 5, 2, 3, 4, 5, 3, 1, 1, 2, 4, 1, 2, 4, 5, 1, 5, 1, 2, 3, 4, 5, 1, 2, 3, 5, 3, 2, 3, 4, 5, 5, 1, 2, 4, 5, 2, 5, 1, 2, 3, 4, 5, 1, 2, 3, 4, 5, 1, 2, 3, 4, 5, 3, 5, 1, 2, 3, 4, 5, 1, 2, 3, 4, 5, 1, 4, 5, 1, 2, 3, 4, 5, 4, 4, 1, 2, 3, 4, 5, 4, 3, 1, 2, 3, 4, 5, 4, 5, 1, 2, 3, 4, 5, 1, 2, 3, 4, 5, 2, 3, 4, 3, 1, 2, 4, 5, 3, 3, 2, 1, 2, 3, 4, 5, 1, 5, 1, 4, 4, 5, 1, 2, 5, 1, 4, 1, 2, 5, 1, 4, 1, 1, 2, 3, 4, 5, 2, 1, 1, 2, 2, 3, 4, 5, 1, 2, 3, 4, 5, 1, 2, 4, 5, 1, 2, 3, 4, 5, 1, 2, 3, 4, 2, 4, 5, 5, 1, 1, 2, 3, 4, 5, 1, 2, 3, 4, 5, 3, 3, 4, 2, 1, 2, 3, 4, 5, 1, 3, 5, 1, 2, 3, 4, 5, 1, 5, 1, 2, 3, 4, 5, 2, 5, 5, 2, 1, 2, 3, 4, 5, 1, 2, 3, 4, 5, 5, 1, 2, 4, 5, 1, 2, 3, 4, 5, 1, 2, 3, 4, 5, 1, 2, 3, 4, 5, 2, 4, 5, 4, 2, 3, 4, 1, 2, 3, 4, 5, 1, 4, 5, 1, 2, 3, 4, 5, 1, 2, 3, 4, 5, 1, 2, 4, 5, 1, 2, 1, 2, 3, 4, 5, 2, 4, 1, 2, 5, 1, 1, 2, 3, 4, 5, 5, 1, 2, 3, 4, 5, 4, 1, 2, 4, 5, 1, 2, 3, 4, 1, 2, 3, 4, 5, 1, 2, 3, 4, 5, 4, 3, 4, 2, 3, 5, 1, 2, 3, 4, 5, 2, 3, 1, 1, 2, 3, 4, 5, 1, 5, 5, 1, 2, 3, 4, 5, 1, 2, 4, 5, 2, 5, 4, 2, 4, 4, 5, 3, 5, 5, 1, 2, 3, 4, 5, 1, 2, 3, 4, 5, 1, 2, 3, 4, 5, 1, 2, 3, 4, 5, 2, 3, 2, 4, 1, 2, 3, 4, 5, 2, 5, 1, 2, 1, 2, 3, 4, 5, 3, 5, 1, 2, 4, 4, 1, 2, 3, 1, 2, 3, 5, 1, 2, 2, 2, 5, 2, 4, 1, 2, 3, 4, 5, 1, 2, 3, 4, 5, 3, 1, 2, 3, 1, 2, 3, 1, 1, 2, 3, 4, 5, 3, 1, 2, 4, 5, 2, 3, 4, 5, 1, 2, 4, 5, 1, 2, 3, 4, 5, 5, 2, 4, 1, 2, 3, 4, 5, 1, 3, 4, 5, 1, 2, 3, 4, 5, 4, 1, 2, 3, 4, 5, 1, 2, 5, 1, 2, 4, 5, 5, 1, 2, 3, 4, 5, 1, 2, 3, 4, 5, 2, 1, 2, 1, 2, 3, 4, 5, 3, 4, 2, 4, 5, 3, 1, 5, 2, 3, 4, 5, 1, 5, 1, 2, 4, 5, 1, 2, 4, 5, 1, 3, 5, 1, 2, 4, 5, 1, 2, 3, 4, 5, 5, 3, 5, 1, 2, 3, 4, 5, 3, 5, 1, 2, 1, 2, 3, 4, 5, 1, 2, 3, 4, 5, 3, 5, 1, 2, 3, 4, 5, 4, 1, 5, 3, 4, 5, 1, 2, 4, 4, 1, 2, 1, 2, 3, 4, 5, 1, 2, 3, 4, 5, 3, 5, 5, 2, 5, 2, 1, 2, 1, 2, 5, 1, 2, 3, 4, 5, 5, 4, 5, 1, 2, 3, 4, 5, 3, 1, 5, 3, 1, 2, 3, 4, 5, 1, 1, 2, 4, 5, 1, 2, 3, 4, 5, 4], \"Freq\": [0.44065338665453146, 0.20398291579086372, 0.007857585354039433, 0.29355938882691324, 0.05374588382162973, 0.9955428089475047, 0.01060164653801863, 0.9859531280357325, 0.03876985706579976, 0.10800174468329933, 0.5012388663506969, 0.3364669738210479, 0.015231015275849906, 0.9803565501846269, 0.9917368231616767, 0.9948649216594316, 0.30588380104808455, 0.0042483861256678405, 0.006372579188501761, 0.6818659731696884, 0.016372239919874996, 0.9768769818858748, 0.9978260843427901, 0.2947327875708443, 0.15003556583682637, 0.2098812128840998, 0.24331610489642627, 0.10170950343245531, 0.019616259936673555, 0.9611967368970042, 0.9900484463646464, 0.9869700603480139, 0.20253476097505502, 0.1813744128134821, 0.6136500966856144, 0.047299844798880546, 0.955456864937387, 0.23559793185730105, 0.1208040415900957, 0.46157962159797755, 0.15265784360141446, 0.030050756614451665, 0.01522691387170143, 0.8983879184303843, 0.0848356629994794, 0.9404841096567379, 0.0058054574670169, 0.0464436597361352, 0.010567347372375692, 0.9880469793171273, 0.9992604481157391, 0.9903042323734816, 0.39566190111029975, 0.5770923583551781, 0.026650801629191173, 0.9737116510872744, 0.02299965447566326, 0.7053227372536732, 0.06133241193510202, 0.2121079246088945, 0.10513447931608823, 0.15507335699123012, 0.7333129932297153, 0.005256723965804411, 0.9951281730532825, 0.003857085942066986, 0.9906881109717856, 0.04733825008298973, 0.003381303577356409, 0.19273430390931534, 0.7540306977504793, 0.9949005510937451, 0.9381088535611596, 0.016362363724903947, 0.049087091174711835, 0.3430937582199942, 0.21113462044307335, 0.06323586404359376, 0.20956678910314955, 0.1729840578382606, 0.9984188405837472, 0.2894743397478968, 0.17250005412086944, 0.25986059655118104, 0.20211379731758525, 0.07625538873154315, 0.9654592281637346, 0.9786730910734109, 0.9871635812462873, 0.9624143038697163, 0.9957494538896109, 0.09290221454739692, 0.8980547406248369, 0.018522478080743785, 0.02381461467524201, 0.007938204891747336, 0.9393542455234347, 0.007938204891747336, 0.9978259235500955, 0.9927823133377683, 0.006263610809702009, 0.18708656343920618, 0.038574549162722925, 0.007714909832544584, 0.76570480088005, 0.8771696303542906, 0.03556093096030908, 0.055317003716036345, 0.03556093096030908, 0.15702529998930276, 0.13979889577106702, 0.13052313965355547, 0.553232597008725, 0.019214066243416796, 0.032908328738370345, 0.5724518580535121, 0.14693951436667688, 0.24796043049376726, 0.9786151711860832, 0.9528722280820063, 0.0336307845205414, 0.9957681025511059, 0.9846509540398013, 0.9984537114803524, 0.07903458502548324, 0.5420131377430681, 0.06737374461188736, 0.04362018080641425, 0.26863121249098676, 0.9909747152301008, 0.9772349752350499, 0.006595386046810591, 0.11212156279578005, 0.8771863442258087, 0.9866553789313003, 0.9115933434506979, 0.08464795332042195, 0.9946654888071907, 0.675906110964633, 0.009958101082351869, 0.0012447626352939836, 0.3124354214587899, 0.9545236180622423, 0.032803001943414394, 0.1000491559274139, 0.5724123839125812, 0.20173846195199852, 0.09348855553873102, 0.03280182398640002, 0.9070417415369745, 0.05989898293168699, 0.0046727596114486975, 0.9952977972385725, 0.997107727137353, 0.34053725998208617, 0.34053725998208617, 0.2378711667749663, 0.08190846780458745, 0.6083132499794653, 0.038563825663319895, 0.35205040847482355, 0.12925658930152967, 0.3100138509028875, 0.002019634207836401, 0.5584288584667648, 0.04337263103080095, 0.9455233564714607, 0.013011789309240284, 0.11090598052816016, 0.8872478442252812, 0.9976112690611423, 0.9725047886309217, 0.9839906370106775, 0.010979191950793431, 0.9881272755714089, 0.9906879791630799, 0.9924527955842375, 0.008482502526361005, 0.9609983940243699, 0.08276842240829278, 0.706714991332346, 0.1719036465403004, 0.03820081034228898, 0.9776877152569954, 0.628357590079869, 0.14622824187356143, 0.16848036563692947, 0.05404087199675096, 0.0031788748233382916, 0.07351356384067445, 0.07351356384067445, 0.8527573405518237, 0.019152002797618264, 0.9576001398809133, 0.019152002797618264, 0.9931053852219082, 0.9792473300121948, 0.9964313550741155, 0.06963339536193726, 0.9207082275633927, 0.00773704392910414, 0.1311820546676658, 0.19414944090814537, 0.6742757609918022, 0.9958636447649593, 0.9943988531692278, 0.9784929850508377, 0.01777747759887683, 0.03199945967797829, 0.9493173037800228, 0.9084585168522393, 0.060563901123482616, 0.0018926219101088318, 0.030281950561741308, 0.08834556049280144, 0.6500222133819944, 0.05602401397104482, 0.20542138456049766, 0.9635562991527847, 0.03607517545137238, 0.9780449306919449, 0.03141277365890918, 0.95808959659673, 0.9909500240646438, 0.013129433784648087, 0.8752955856432058, 0.11378842613361675, 0.9954017645898057, 0.6066760800759937, 0.26557306316579643, 0.001624300080524749, 0.1047673551938463, 0.021115901046821737, 0.2791964375376615, 0.7184201014688607, 0.9669841365564777, 0.4281429134111248, 0.2140714567055624, 0.018627369057378256, 0.1928649134710087, 0.1464397782818506, 0.3648415539457667, 0.5370275018475642, 0.0012040975377748077, 0.0951237054842098, 0.18417668131540524, 0.7819431031285626, 0.03338875509226645, 0.9585120951860701, 0.02178436579968341, 0.9815251249640335, 0.0026671878395761782, 0.016003127037457068, 0.9842239532707999, 0.9955871466436607, 0.09358594754569266, 0.04977975933281525, 0.826344004924733, 0.027876665226376537, 0.00199119037331261, 0.02077770081856698, 0.062333102455700944, 0.9038299856076637, 0.01038885040928349, 0.9941129775463251, 0.9939426827816994, 0.9988558102787901, 0.9509160257605264, 0.9617300057187989, 0.05688366892934368, 0.011376733785868735, 0.9215154366553675, 0.011376733785868735, 0.012861569320879401, 0.9774792683868344, 0.23884948203434764, 0.3330276625989598, 0.0017020153114086529, 0.17133620801513771, 0.2547349582741617, 0.09442080989923676, 0.35098114466917457, 0.06744343564231198, 0.48696913327040764, 0.9954480423323664, 0.005475433993284088, 0.010950867986568176, 0.9253483448650109, 0.04927890593955679, 0.990887205577241, 0.21797808087642775, 0.745249384618057, 0.02651084767416013, 0.011782598966293393, 0.9757993540729999, 0.015738699259241935, 0.23832350076233152, 0.4415690836635407, 0.015475551997553997, 0.14237507837749677, 0.16300914770756875, 0.16406433612377014, 0.24254703537528519, 0.09583565787999074, 0.4022731318419364, 0.09544127245661628, 0.629338859557441, 0.07005208131519092, 0.12654569527905457, 0.11072748336917274, 0.062142975360250007, 0.04023430076282208, 0.9522117847201225, 0.09680593825680253, 0.18490446407780803, 0.026634438038908633, 0.6535681334162965, 0.03790285413229306, 0.009019914543111626, 0.5971183427539896, 0.05171417671383999, 0.22609919121399807, 0.11605623378803624, 0.9722033232311001, 0.020395873913939166, 0.006798624637979722, 0.11983255744420958, 0.27362835309453204, 0.0019224474456290307, 0.4870200195593544, 0.11855092581379023, 0.997082373813286, 0.9962508102699671, 0.2261452820495814, 0.29050631748669425, 0.007934922177178295, 0.34649160173678556, 0.12916289988406893, 0.9872256470107162, 0.9954479969687947, 0.04529885308180932, 0.01811954123272373, 0.07247816493089491, 0.8199092407807488, 0.040768967773628394, 0.9634831244375092, 0.9909286604080199, 0.4615633255812829, 0.13393189126035335, 0.0645665143535254, 0.16054376541957666, 0.17930295540066848, 0.3721034611337918, 0.24456051106131071, 0.007429686411989186, 0.2309394193059972, 0.14487888503378912, 0.962097652841445, 0.16610707271765437, 0.8318642201700132, 0.9970961518546351, 0.8179884661166151, 0.02175501239671849, 0.0021755012396718486, 0.15881159049604496, 0.9924770702990808, 0.997080025207027, 0.9967896986712663, 0.00542471455141353, 0.11500394848996684, 0.15080706452929613, 0.579359514090965, 0.14972212161901344, 0.8893189934198682, 0.10801445264208925, 0.9899486060042052, 0.9876071873097978, 0.9693867583190101, 0.9742238485532585, 0.9945987165690027, 0.011746882969840876, 0.9867381694666335, 0.9807920366360597, 0.9813696574907598, 0.7532216528991051, 0.208504263778299, 0.0377913978098167, 0.9885104338008286, 0.9748131425712833, 0.9960163599786089, 0.06027192980016912, 0.10668824355432235, 0.0006927808023007945, 0.744739362473354, 0.0872903810899001, 0.9717007442145975, 0.9889959972984461, 0.9810533593503777, 0.01685658693041886, 0.21358924726156397, 0.02116650198087571, 0.017318047075261946, 0.7466002516890705, 0.43728083035751186, 0.042441962946464386, 0.49001175401827063, 0.025722401785735993, 0.0038583602678603987, 0.8488836496022111, 0.10733011661637151, 0.01626213888126841, 0.02601942221002946, 0.15453773152082836, 0.0007688444354270068, 0.8180504792943353, 0.02152764419195619, 0.005381911047989047, 0.13866459515043453, 0.8117656507765022, 0.008666537196902158, 0.040443840252210074, 0.14603386707398344, 0.04444508997903844, 0.806360918191126, 0.9927705455104722, 0.9973348081138477, 0.1708593967434915, 0.5021705112410232, 0.039896102792896494, 0.21292376599252366, 0.07415471279984022, 0.36971971384541635, 0.38237171926217967, 0.004920224328741282, 0.18204830016342746, 0.06115135951435594, 0.9981602042563804, 0.9459495373837052, 0.05072915500164981, 0.980132823618553, 0.14598573972194395, 0.12670460428697022, 0.008263343757845884, 0.64591803707162, 0.07299286986097198, 0.8870437155539739, 0.0042442283040859995, 0.10822782175419299, 0.21314794617577612, 0.2854958130239508, 0.06455655811067894, 0.30274799665697705, 0.133565292642784, 0.9804391035688786, 0.011141353449646348, 0.19027505140350184, 0.3798681133754499, 0.3294008954404709, 0.07638281633402225, 0.02455161953593572, 0.036173421075196784, 0.9631173361271144, 0.9918086410985931, 0.9663729138560746, 0.6197776451020564, 0.06237762105543277, 0.003198852361817065, 0.17513716680948432, 0.1399497908294966, 0.6616772288991486, 0.037277590360515415, 0.0009319397590128854, 0.15656587951416476, 0.14305275300847792, 0.9893633276325432, 0.7797969694643451, 0.002107559376930662, 0.05058142504633589, 0.1664971907775223, 0.06777160759257675, 0.7390332447000036, 0.016136097045851606, 0.17426984809519735, 0.0032272194091703212, 0.7007132791638734, 0.09322794701321921, 0.009022059388376052, 0.13382721426091143, 0.06165073915390302, 0.13480999565972998, 0.17223216836794936, 0.1523939081370861, 0.0094682605647302, 0.5311243307262941, 0.17873988576630917, 0.8053115732328215, 0.013749221982023782, 0.9944262286850328, 0.0006908260162175439, 0.3398863999790316, 0.6597388454877544, 0.7109421981915801, 0.001287938764839819, 0.005151755059359276, 0.014167326413238009, 0.2678912630866824, 0.9943111897878991, 0.9570229512033476, 0.021267176693407726, 0.3075343132057866, 0.09684059224352429, 0.29771938831624023, 0.07459342916055249, 0.22312595915568773, 0.30485853821762776, 0.29001755461271284, 0.0037102459012287353, 0.2368373633617676, 0.16510594260467873, 0.038861311900948145, 0.04533819721777284, 0.9035255016970444, 0.009715327975237036, 0.9902803795666039, 0.9848039600303862, 0.016761797189309754, 0.13409437751447803, 0.7399136187852449, 0.07662535857970174, 0.031129051923003827, 0.9695967143085414, 0.01615994523847569, 0.9774451680740126, 0.008988001545508162, 0.011235001931885202, 0.9949454611061063, 0.4336064148414278, 0.12632627833962856, 0.04836816963454247, 0.2828115330396189, 0.10925515964508417, 0.993353319383199, 0.2189959745154213, 0.40523888539363884, 0.019266508021884572, 0.26330894296575585, 0.09376367237317158, 0.9652052456795395, 0.019472504929057756, 0.3024729098980305, 0.6412944956636354, 0.037646842862845, 0.060652862500214795, 0.11321867666706761, 0.7824219262527708, 0.04447876583349085, 0.29002322713980727, 0.30463396906120815, 0.09168240555679046, 0.1596223554913045, 0.15414332727077917, 0.16458180754760668, 0.18938180594519124, 0.14316362711332908, 0.3731272486182042, 0.130199991587319, 0.9973564963168718, 0.9906884772520235, 0.9869666033182132, 0.06636569663131309, 0.012066490296602379, 0.923086507690082, 0.15426368023340847, 0.1312678521240805, 0.5404019605692073, 0.14851472320607648, 0.025870306622993965, 0.01894161343942329, 0.9786500277035365, 0.9894584726381918, 0.6118753558738598, 0.14461094814807868, 0.15705059960167683, 0.0318766068498453, 0.05364599689364209, 0.9822382751599519, 0.01431834220349784, 0.9764433703754725, 0.14219746698658195, 0.3350856976674547, 0.3252108735711643, 0.09413998971796861, 0.10401481381425902, 0.0039228980818650375, 0.07257361451450318, 0.9042280078698911, 0.01765304136839267, 0.9641131381002439, 0.022955074716672474, 0.9869723296381688, 0.1885241735354884, 0.8089400900795503, 0.9534023358949552, 0.04356946158659741, 0.019520695812382503, 0.9760347906191251, 0.99169557829229, 0.011988744553265146, 0.07912571405154997, 0.8080413828900709, 0.047954978213060585, 0.052750476034366646, 0.7835091237296025, 0.01019751571014667, 0.027193375227057788, 0.0288929611787489, 0.14956356374881782, 0.06203311205668173, 0.22481799000408142, 0.10241708433519264, 0.5041751590647086, 0.10658038044637934, 0.07900381057887255, 0.010773246897118985, 0.7397629536021704, 0.09157259862551138, 0.07720826942935273, 0.01779309751635756, 0.9741720890205764, 0.04841034120348765, 0.9520700436685905, 0.009380230207865499, 0.03165827695154606, 0.6577886433265682, 0.29664978032374645, 0.0046901151039327495, 0.9671552595638705, 0.9883327668144823, 0.9913050180493069, 0.9884255806811182, 0.40798613063639544, 0.22974976548463685, 0.035029112226357184, 0.21172007536812948, 0.11487488274231843, 0.02853786264614944, 0.9667200971383123, 0.03412783801568759, 0.9117008155619399, 0.048754054308125135, 0.9705639186209677, 0.0799791131819118, 0.9147611070181161, 0.9930938170660699, 0.5457826698957372, 0.006008616549310869, 0.13519387235949454, 0.3124480605641652, 0.010184667707254458, 0.9879127676036824, 0.9909075623281177, 0.9930043310223785, 0.0041033236819106545, 0.9405293998943962, 0.040022527655080686, 0.6035466747064849, 0.21005325214194198, 0.002851401612786543, 0.10550185967310208, 0.07698784354523665, 0.00983139883134107, 0.05947996292961348, 0.8622136775086119, 0.05358112363080884, 0.014747098247011607, 0.9936383203599425, 0.014722298895886745, 0.6297872305462663, 0.3549709844897137, 0.05751119128037871, 0.004107942234312765, 0.9407187716576232, 0.9911424105920789, 0.16533367952725597, 0.06076365999719664, 0.7362294618264988, 0.02543595069650092, 0.014131083720278288, 0.9983802192721043, 0.1425394641122536, 0.8099861611458221, 0.02488784294023476, 0.02262531176384978, 0.009905779873291644, 0.9370867760133895, 0.013868091822608302, 0.039623119493166575, 0.10561794412517518, 0.6122779369575373, 0.03214459169027071, 0.2510339541525903, 0.6055767398762193, 0.08793162687917445, 0.008374440655159472, 0.17272283851266412, 0.12535490855691836, 0.9867771605462988, 0.011172791714212494, 0.9832056708506995, 0.0010207982583250242, 0.01020798258325024, 0.892177677776071, 0.07145587808275168, 0.02449915819980058, 0.13951543051808404, 0.8396292272997421, 0.01521986514742735, 0.005073288382475783, 0.2569240425039047, 0.2969008384912295, 0.03266396745305809, 0.28032509381355825, 0.13309347932365462, 0.9866485927536475, 0.059695211358834085, 0.1442634274505157, 0.004974600946569507, 0.029847605679417043, 0.7611139448251346, 0.9764194621716085, 0.009299232973062939, 0.009299232973062939, 0.531876351708042, 0.161624441759343, 0.2506828076267361, 0.05607378591650676, 0.985958869728437, 0.4799375288914787, 0.11891500270216675, 0.065873778475301, 0.25408457411901814, 0.08127284357342332, 0.07479904001196948, 0.8465891346809273, 0.003399956364180431, 0.054399301826886896, 0.020399738185082585, 0.9796130273061147, 0.9634995396634438, 0.0330612587139417, 0.15670263100686882, 0.42849547186806475, 0.1477053507576706, 0.1342094303838733, 0.13345965702977344, 0.9815727557129823, 0.015218182259116005, 0.8769575450443639, 0.029727374408283522, 0.08175027962277968, 0.988583180345141, 0.9978276884266674, 0.0017144805643069885, 0.004903394661355938, 0.12381071519923743, 0.8470614277492383, 0.025742821972118676, 0.06787389593011708, 0.9332660690391099, 0.8655105008921284, 0.05071350591164815, 0.013523601576439507, 0.07099890827630741, 0.3738046392789282, 0.19037418935412906, 0.32346252841628614, 0.11283576572661144, 0.0032564515082613645, 0.0032564515082613645, 0.9932177100197161, 0.7595135574770405, 0.09658553910112654, 0.04682935229145529, 0.09731724773068053, 0.030436364629144275, 0.32594579575574506, 0.018815207225289187, 0.491962330096532, 0.13281322747262955, 0.9900314919820634, 0.012381363478495017, 0.9880328055839024, 0.2547962232838914, 0.4979401802590682, 0.009321813046971637, 0.14837219099763188, 0.09011085945405915, 0.032290550740960725, 0.9606438845435816, 0.9944611856361688, 0.9979098643340636, 0.7633165112677367, 0.05103569697429635, 0.07988196048150734, 0.09319562056175855, 0.015532603426959758, 0.38811983762683944, 0.29729616267516096, 0.016953752657646655, 0.1404739505919294, 0.15682221208323155, 0.01180333787937736, 0.9796770439883209, 0.41704449300811197, 0.32489881943021487, 0.004095363270128759, 0.18770414988090145, 0.0662083728670816, 0.9841153570914362, 0.9843875565541771, 0.010148325325300795, 0.006882382145684678, 0.9538981653918964, 0.03716486358669726, 0.9486756655790983, 0.003487778182276097, 0.04882889455186536, 0.9788014187539531, 0.03275255387030269, 0.949824062238778, 0.4441370565899211, 0.21966077944772577, 0.020002836577027304, 0.17817341469537284, 0.13779731864174366, 0.9491179117554813, 0.04808217603188688, 0.002020259497138104, 0.0008081037988552416, 0.0004040518994276208, 0.05551140227461973, 0.9436938386685354, 0.9875931560238793, 0.9375960418653109, 0.05952990742001974, 0.957994811424631, 0.010979198451073556, 0.9881278605966201, 0.5677328722656314, 0.00390194413928269, 0.42823836928627523, 0.19498664197744567, 0.12982005373761513, 0.20627534230245567, 0.4104981936367277, 0.057982869851187786, 0.9759960548381983, 0.9598812850008717, 0.040052600381331335, 0.1697020511013603, 0.0035354593979450067, 0.6611309074157162, 0.09310043081255184, 0.07424464735684513, 0.9943407003053119, 0.2057468663904063, 0.7944994379075689, 0.9906881838320469, 0.35594371466568286, 0.031539316489364304, 0.06420503713906305, 0.5463060177622031, 0.002252808320668879, 0.9752189409163453, 0.13305411633712094, 0.38472936012055653, 0.01759020521067023, 0.4645618299228291, 0.13925402747722257, 0.19533200070453655, 0.12758679814804988, 0.4550219438377354, 0.0827996920134837, 0.9983686282923414], \"Term\": [\"able\", \"able\", \"able\", \"able\", \"able\", \"absence\", \"accept\", \"accept\", \"access\", \"access\", \"access\", \"access\", \"access\", \"accountable\", \"ack\", \"acre\", \"active\", \"active\", \"active\", \"active\", \"affecting\", \"affecting\", \"agricola\", \"also\", \"also\", \"also\", \"also\", \"also\", \"angel\", \"angel\", \"aos\", \"app\", \"applied\", \"applied\", \"applied\", \"approved\", \"approved\", \"area\", \"area\", \"area\", \"area\", \"area\", \"association\", \"association\", \"association\", \"average\", \"average\", \"average\", \"aware\", \"aware\", \"baba\", \"bale\", \"bank\", \"bank\", \"bank\", \"bazaar\", \"beauty\", \"beauty\", \"beauty\", \"beauty\", \"began\", \"began\", \"began\", \"began\", \"behalf\", \"behalf\", \"boleo\", \"br\", \"br\", \"br\", \"br\", \"breadwinner\", \"budget\", \"budget\", \"budget\", \"buy\", \"buy\", \"buy\", \"buy\", \"buy\", \"cacao\", \"capital\", \"capital\", \"capital\", \"capital\", \"capital\", \"carolina\", \"caroline\", \"casa\", \"catalog\", \"cater\", \"catholic\", \"catholic\", \"cement\", \"cement\", \"cement\", \"cement\", \"cement\", \"centro\", \"cereal\", \"cereal\", \"church\", \"church\", \"church\", \"church\", \"class\", \"class\", \"class\", \"class\", \"client\", \"client\", \"client\", \"client\", \"client\", \"clothing\", \"clothing\", \"clothing\", \"clothing\", \"coffin\", \"colmado\", \"colmado\", \"commercialize\", \"committee\", \"communal\", \"community\", \"community\", \"community\", \"community\", \"community\", \"compiled\", \"comprar\", \"con\", \"con\", \"con\", \"connor\", \"coordinator\", \"coordinator\", \"county\", \"cow\", \"cow\", \"cow\", \"cow\", \"crab\", \"credit\", \"credit\", \"credit\", \"credit\", \"credit\", \"crop\", \"crop\", \"crop\", \"cultivate\", \"cultivate\", \"cultivation\", \"customer\", \"customer\", \"customer\", \"customer\", \"dairy\", \"dairy\", \"dairy\", \"de\", \"de\", \"de\", \"de\", \"debt\", \"debt\", \"debt\", \"del\", \"del\", \"description\", \"desde\", \"detail\", \"disclaimer\", \"disclaimer\", \"dispersed\", \"dominican\", \"dominican\", \"dr\", \"dream\", \"dream\", \"dream\", \"dream\", \"dropped\", \"due\", \"due\", \"due\", \"due\", \"due\", \"e\", \"e\", \"e\", \"eastern\", \"eastern\", \"eastern\", \"eb\", \"ebony\", \"edgar\", \"educational\", \"educational\", \"educational\", \"el\", \"el\", \"el\", \"ella\", \"em\", \"empowering\", \"en\", \"en\", \"en\", \"enable\", \"enable\", \"enable\", \"enable\", \"entrepreneur\", \"entrepreneur\", \"entrepreneur\", \"entrepreneur\", \"esperanza\", \"esperanza\", \"esposo\", \"esta\", \"esta\", \"evaluating\", \"event\", \"event\", \"event\", \"excited\", \"expand\", \"expand\", \"expand\", \"expand\", \"expand\", \"explains\", \"explains\", \"extreme\", \"family\", \"family\", \"family\", \"family\", \"family\", \"farm\", \"farm\", \"farm\", \"farm\", \"farmer\", \"farmer\", \"farmer\", \"favorite\", \"favorite\", \"fee\", \"fee\", \"fee\", \"fernando\", \"fertile\", \"finance\", \"finance\", \"finance\", \"finance\", \"finance\", \"fix\", \"fix\", \"fix\", \"fix\", \"flooding\", \"follows\", \"font\", \"gasoline\", \"geraldine\", \"gift\", \"gift\", \"gift\", \"gift\", \"gladys\", \"gladys\", \"good\", \"good\", \"good\", \"good\", \"good\", \"group\", \"group\", \"group\", \"group\", \"guarantor\", \"guayaquil\", \"guayaquil\", \"guayaquil\", \"guayaquil\", \"hace\", \"hair\", \"hair\", \"hair\", \"hair\", \"haitian\", \"haitian\", \"hard\", \"hard\", \"hard\", \"hard\", \"hard\", \"help\", \"help\", \"help\", \"help\", \"help\", \"high\", \"high\", \"high\", \"high\", \"high\", \"hijos\", \"hijos\", \"home\", \"home\", \"home\", \"home\", \"home\", \"hope\", \"hope\", \"hope\", \"hope\", \"hope\", \"hotel\", \"hotel\", \"hotel\", \"house\", \"house\", \"house\", \"house\", \"house\", \"href\", \"http\", \"husband\", \"husband\", \"husband\", \"husband\", \"husband\", \"id\", \"imperative\", \"improvement\", \"improvement\", \"improvement\", \"improvement\", \"improvement\", \"in\", \"incentive\", \"income\", \"income\", \"income\", \"income\", \"income\", \"increase\", \"increase\", \"increase\", \"increase\", \"increase\", \"ines\", \"information\", \"information\", \"infrastructure\", \"intends\", \"intends\", \"intends\", \"intends\", \"intensive\", \"intermediary\", \"international\", \"invest\", \"invest\", \"invest\", \"invest\", \"invest\", \"jane\", \"jane\", \"john\", \"johnson\", \"jos\", \"josefina\", \"junior\", \"kadet\", \"kadet\", \"kamau\", \"katy\", \"kenya\", \"kenya\", \"kenya\", \"kibera\", \"kim\", \"kiosk\", \"kiva\", \"kiva\", \"kiva\", \"kiva\", \"kiva\", \"kmet\", \"kongowea\", \"ksh\", \"ksh\", \"la\", \"la\", \"la\", \"la\", \"lack\", \"lack\", \"lack\", \"lack\", \"lack\", \"lady\", \"lady\", \"lady\", \"lady\", \"land\", \"land\", \"land\", \"land\", \"land\", \"lender\", \"lender\", \"lender\", \"lender\", \"lending\", \"lending\", \"lending\", \"li\", \"license\", \"life\", \"life\", \"life\", \"life\", \"life\", \"like\", \"like\", \"like\", \"like\", \"like\", \"lucia\", \"machinery\", \"machinery\", \"macoris\", \"made\", \"made\", \"made\", \"made\", \"made\", \"maize\", \"maize\", \"maize\", \"make\", \"make\", \"make\", \"make\", \"make\", \"malaba\", \"malaba\", \"many\", \"many\", \"many\", \"many\", \"many\", \"mara\", \"mara\", \"maragwa\", \"marie\", \"market\", \"market\", \"market\", \"market\", \"market\", \"married\", \"married\", \"married\", \"married\", \"married\", \"martina\", \"mary\", \"mary\", \"mary\", \"mary\", \"may\", \"may\", \"may\", \"may\", \"may\", \"meet\", \"meet\", \"meet\", \"meet\", \"meet\", \"member\", \"member\", \"member\", \"member\", \"member\", \"merchandise\", \"merchandise\", \"merchandise\", \"microinsurance\", \"mifex\", \"mifex\", \"mifex\", \"milk\", \"milk\", \"milk\", \"milk\", \"milk\", \"mombasa\", \"monday\", \"monday\", \"month\", \"month\", \"month\", \"month\", \"month\", \"mother\", \"mother\", \"mother\", \"mother\", \"mother\", \"mr\", \"mr\", \"mr\", \"mr\", \"msonormal\", \"mujeres\", \"must\", \"must\", \"must\", \"must\", \"must\", \"nail\", \"nail\", \"nairobi\", \"nairobi\", \"nairobi\", \"nakuru\", \"need\", \"need\", \"need\", \"need\", \"need\", \"negocio\", \"new\", \"new\", \"new\", \"new\", \"new\", \"novelty\", \"offer\", \"offer\", \"offer\", \"offer\", \"often\", \"often\", \"often\", \"often\", \"one\", \"one\", \"one\", \"one\", \"one\", \"order\", \"order\", \"order\", \"order\", \"order\", \"org\", \"paddy\", \"page\", \"para\", \"para\", \"para\", \"part\", \"part\", \"part\", \"part\", \"part\", \"participate\", \"participate\", \"paul\", \"pay\", \"pay\", \"pay\", \"pay\", \"pay\", \"pemci\", \"pemci\", \"peninah\", \"people\", \"people\", \"people\", \"people\", \"people\", \"personal\", \"personal\", \"personal\", \"personal\", \"peso\", \"peso\", \"php\", \"please\", \"please\", \"pm\", \"pm\", \"poder\", \"poder\", \"por\", \"prepare\", \"prepare\", \"prepare\", \"prepare\", \"prepare\", \"primary\", \"primary\", \"primary\", \"primary\", \"primary\", \"product\", \"product\", \"product\", \"product\", \"product\", \"production\", \"production\", \"production\", \"production\", \"production\", \"productive\", \"productive\", \"profile\", \"profile\", \"program\", \"program\", \"program\", \"program\", \"program\", \"progreso\", \"prstamo\", \"pt\", \"puerto\", \"purchase\", \"purchase\", \"purchase\", \"purchase\", \"purchase\", \"que\", \"que\", \"recent\", \"recent\", \"recent\", \"reed\", \"remains\", \"remains\", \"removing\", \"repay\", \"repay\", \"repay\", \"repay\", \"represent\", \"represent\", \"representative\", \"republic\", \"republic\", \"reputation\", \"reputation\", \"requesting\", \"requesting\", \"requesting\", \"requesting\", \"requesting\", \"rice\", \"rice\", \"rice\", \"rice\", \"rice\", \"rio\", \"risk\", \"risk\", \"risk\", \"river\", \"river\", \"river\", \"roman\", \"rural\", \"rural\", \"rural\", \"rural\", \"rural\", \"salitre\", \"salon\", \"salon\", \"salon\", \"salon\", \"santa\", \"santa\", \"santa\", \"santa\", \"say\", \"say\", \"say\", \"say\", \"school\", \"school\", \"school\", \"school\", \"school\", \"se\", \"seafood\", \"seafood\", \"sector\", \"sector\", \"sector\", \"sector\", \"sector\", \"seed\", \"seed\", \"seed\", \"seed\", \"selling\", \"selling\", \"selling\", \"selling\", \"selling\", \"senora\", \"share\", \"share\", \"share\", \"share\", \"share\", \"shilling\", \"shilling\", \"shilling\", \"shop\", \"shop\", \"shop\", \"shop\", \"silver\", \"since\", \"since\", \"since\", \"since\", \"since\", \"situation\", \"situation\", \"situation\", \"situation\", \"situation\", \"skin\", \"slum\", \"slum\", \"small\", \"small\", \"small\", \"small\", \"small\", \"soil\", \"soil\", \"someday\", \"someday\", \"someday\", \"sowed\", \"span\", \"span\", \"spanish\", \"spanish\", \"spanish\", \"spanish\", \"st\", \"st\", \"stall\", \"stall\", \"stall\", \"stall\", \"started\", \"started\", \"started\", \"started\", \"steer\", \"steer\", \"steer\", \"stock\", \"stock\", \"stock\", \"stock\", \"store\", \"store\", \"store\", \"store\", \"store\", \"strengthens\", \"su\", \"su\", \"support\", \"support\", \"support\", \"support\", \"support\", \"sus\", \"sus\", \"susan\", \"thank\", \"therefore\", \"therefore\", \"therefore\", \"therefore\", \"therefore\", \"three\", \"three\", \"three\", \"three\", \"three\", \"tiene\", \"tiene\", \"time\", \"time\", \"time\", \"time\", \"time\", \"toy\", \"trading\", \"trading\", \"translated\", \"translated\", \"translated\", \"transport\", \"transport\", \"transport\", \"tricycle\", \"tv\", \"tv\", \"two\", \"two\", \"two\", \"two\", \"two\", \"u\", \"u\", \"u\", \"u\", \"u\", \"un\", \"un\", \"una\", \"undergarment\", \"undergarment\", \"unite\", \"unsettled\", \"unsettled\", \"usd\", \"usd\", \"usd\", \"use\", \"use\", \"use\", \"use\", \"use\", \"venta\", \"volunteer\", \"volunteer\", \"water\", \"water\", \"water\", \"water\", \"water\", \"watering\", \"weec\", \"weec\", \"weed\", \"wife\", \"wife\", \"wife\", \"wife\", \"wife\", \"winner\", \"woman\", \"woman\", \"woman\", \"woman\", \"work\", \"work\", \"work\", \"work\", \"work\", \"www\"]}, \"R\": 30, \"lambda.step\": 0.01, \"plot.opts\": {\"xlab\": \"PC1\", \"ylab\": \"PC2\"}, \"topic.order\": [1, 2, 3, 4, 5]};\n",
       "\n",
       "function LDAvis_load_lib(url, callback){\n",
       "  var s = document.createElement('script');\n",
       "  s.src = url;\n",
       "  s.async = true;\n",
       "  s.onreadystatechange = s.onload = callback;\n",
       "  s.onerror = function(){console.warn(\"failed to load library \" + url);};\n",
       "  document.getElementsByTagName(\"head\")[0].appendChild(s);\n",
       "}\n",
       "\n",
       "if(typeof(LDAvis) !== \"undefined\"){\n",
       "   // already loaded: just create the visualization\n",
       "   !function(LDAvis){\n",
       "       new LDAvis(\"#\" + \"ldavis_el1451620653250218247400549594\", ldavis_el1451620653250218247400549594_data);\n",
       "   }(LDAvis);\n",
       "}else if(typeof define === \"function\" && define.amd){\n",
       "   // require.js is available: use it to load d3/LDAvis\n",
       "   require.config({paths: {d3: \"https://d3js.org/d3.v5\"}});\n",
       "   require([\"d3\"], function(d3){\n",
       "      window.d3 = d3;\n",
       "      LDAvis_load_lib(\"https://cdn.jsdelivr.net/gh/bmabey/pyLDAvis@3.4.0/pyLDAvis/js/ldavis.v3.0.0.js\", function(){\n",
       "        new LDAvis(\"#\" + \"ldavis_el1451620653250218247400549594\", ldavis_el1451620653250218247400549594_data);\n",
       "      });\n",
       "    });\n",
       "}else{\n",
       "    // require.js not available: dynamically load d3 & LDAvis\n",
       "    LDAvis_load_lib(\"https://d3js.org/d3.v5.js\", function(){\n",
       "         LDAvis_load_lib(\"https://cdn.jsdelivr.net/gh/bmabey/pyLDAvis@3.4.0/pyLDAvis/js/ldavis.v3.0.0.js\", function(){\n",
       "                 new LDAvis(\"#\" + \"ldavis_el1451620653250218247400549594\", ldavis_el1451620653250218247400549594_data);\n",
       "            })\n",
       "         });\n",
       "}\n",
       "</script>"
      ],
      "text/plain": [
       "<IPython.core.display.HTML object>"
      ]
     },
     "execution_count": 13,
     "metadata": {},
     "output_type": "execute_result"
    }
   ],
   "source": [
    "import pyLDAvis\n",
    "import pyLDAvis.gensim_models as gensimvis\n",
    "\n",
    "# Visualize the topics using pyLDAvis\n",
    "pyLDAvis.enable_notebook()\n",
    "vis = gensimvis.prepare(lda_model, corpus, dictionary, sort_topics=False)\n",
    "\n",
    "# Display the pyLDAvis visualization\n",
    "pyLDAvis.display(vis)"
   ]
  },
  {
   "cell_type": "code",
   "execution_count": 14,
   "metadata": {},
   "outputs": [
    {
     "data": {
      "text/html": [
       "<div>\n",
       "<style scoped>\n",
       "    .dataframe tbody tr th:only-of-type {\n",
       "        vertical-align: middle;\n",
       "    }\n",
       "\n",
       "    .dataframe tbody tr th {\n",
       "        vertical-align: top;\n",
       "    }\n",
       "\n",
       "    .dataframe thead th {\n",
       "        text-align: right;\n",
       "    }\n",
       "</style>\n",
       "<table border=\"1\" class=\"dataframe\">\n",
       "  <thead>\n",
       "    <tr style=\"text-align: right;\">\n",
       "      <th></th>\n",
       "      <th>Processed_Text</th>\n",
       "      <th>Topic_1</th>\n",
       "      <th>Topic_2</th>\n",
       "      <th>Topic_3</th>\n",
       "      <th>Topic_4</th>\n",
       "      <th>Topic_5</th>\n",
       "      <th>Dominant_Topic</th>\n",
       "    </tr>\n",
       "  </thead>\n",
       "  <tbody>\n",
       "    <tr>\n",
       "      <th>0</th>\n",
       "      <td>[business, description, mauro, co, owns, resta...</td>\n",
       "      <td>0.001872</td>\n",
       "      <td>0.001627</td>\n",
       "      <td>0.000485</td>\n",
       "      <td>0.994561</td>\n",
       "      <td>0.001455</td>\n",
       "      <td>Topic_4</td>\n",
       "    </tr>\n",
       "    <tr>\n",
       "      <th>1</th>\n",
       "      <td>[rosa, iris, brilliant, entrepreneur, sell, si...</td>\n",
       "      <td>0.001600</td>\n",
       "      <td>0.521333</td>\n",
       "      <td>0.000414</td>\n",
       "      <td>0.001062</td>\n",
       "      <td>0.475591</td>\n",
       "      <td>Topic_2</td>\n",
       "    </tr>\n",
       "    <tr>\n",
       "      <th>2</th>\n",
       "      <td>[sirote, married, six, child, two, child, marr...</td>\n",
       "      <td>0.562832</td>\n",
       "      <td>0.001348</td>\n",
       "      <td>0.000402</td>\n",
       "      <td>0.001029</td>\n",
       "      <td>0.434390</td>\n",
       "      <td>Topic_1</td>\n",
       "    </tr>\n",
       "    <tr>\n",
       "      <th>3</th>\n",
       "      <td>[david, mwangi, kimani, year, old, married, on...</td>\n",
       "      <td>0.906605</td>\n",
       "      <td>0.001690</td>\n",
       "      <td>0.000503</td>\n",
       "      <td>0.001289</td>\n",
       "      <td>0.089912</td>\n",
       "      <td>Topic_1</td>\n",
       "    </tr>\n",
       "    <tr>\n",
       "      <th>4</th>\n",
       "      <td>[nilda, persistent, woman, learned, strive, be...</td>\n",
       "      <td>0.001741</td>\n",
       "      <td>0.995301</td>\n",
       "      <td>0.000451</td>\n",
       "      <td>0.001154</td>\n",
       "      <td>0.001353</td>\n",
       "      <td>Topic_2</td>\n",
       "    </tr>\n",
       "    <tr>\n",
       "      <th>...</th>\n",
       "      <td>...</td>\n",
       "      <td>...</td>\n",
       "      <td>...</td>\n",
       "      <td>...</td>\n",
       "      <td>...</td>\n",
       "      <td>...</td>\n",
       "      <td>...</td>\n",
       "    </tr>\n",
       "    <tr>\n",
       "      <th>5449</th>\n",
       "      <td>[mary, kanyi, married, five, child, attended, ...</td>\n",
       "      <td>0.101405</td>\n",
       "      <td>0.001596</td>\n",
       "      <td>0.000475</td>\n",
       "      <td>0.001218</td>\n",
       "      <td>0.895305</td>\n",
       "      <td>Topic_5</td>\n",
       "    </tr>\n",
       "    <tr>\n",
       "      <th>5450</th>\n",
       "      <td>[irene, general, store, sell, clothes, school,...</td>\n",
       "      <td>0.001156</td>\n",
       "      <td>0.029062</td>\n",
       "      <td>0.000299</td>\n",
       "      <td>0.968584</td>\n",
       "      <td>0.000899</td>\n",
       "      <td>Topic_4</td>\n",
       "    </tr>\n",
       "    <tr>\n",
       "      <th>5451</th>\n",
       "      <td>[kevin, year, old, orphan, lost, parent, hiv, ...</td>\n",
       "      <td>0.887215</td>\n",
       "      <td>0.107542</td>\n",
       "      <td>0.000799</td>\n",
       "      <td>0.002046</td>\n",
       "      <td>0.002398</td>\n",
       "      <td>Topic_1</td>\n",
       "    </tr>\n",
       "    <tr>\n",
       "      <th>5452</th>\n",
       "      <td>[business, description, last, twelve, year, se...</td>\n",
       "      <td>0.070323</td>\n",
       "      <td>0.001122</td>\n",
       "      <td>0.000334</td>\n",
       "      <td>0.927217</td>\n",
       "      <td>0.001003</td>\n",
       "      <td>Topic_4</td>\n",
       "    </tr>\n",
       "    <tr>\n",
       "      <th>5453</th>\n",
       "      <td>[elida, luis, year, old, living, without, job,...</td>\n",
       "      <td>0.001183</td>\n",
       "      <td>0.996806</td>\n",
       "      <td>0.000306</td>\n",
       "      <td>0.000785</td>\n",
       "      <td>0.000920</td>\n",
       "      <td>Topic_2</td>\n",
       "    </tr>\n",
       "  </tbody>\n",
       "</table>\n",
       "<p>5454 rows × 7 columns</p>\n",
       "</div>"
      ],
      "text/plain": [
       "                                         Processed_Text   Topic_1   Topic_2  \\\n",
       "0     [business, description, mauro, co, owns, resta...  0.001872  0.001627   \n",
       "1     [rosa, iris, brilliant, entrepreneur, sell, si...  0.001600  0.521333   \n",
       "2     [sirote, married, six, child, two, child, marr...  0.562832  0.001348   \n",
       "3     [david, mwangi, kimani, year, old, married, on...  0.906605  0.001690   \n",
       "4     [nilda, persistent, woman, learned, strive, be...  0.001741  0.995301   \n",
       "...                                                 ...       ...       ...   \n",
       "5449  [mary, kanyi, married, five, child, attended, ...  0.101405  0.001596   \n",
       "5450  [irene, general, store, sell, clothes, school,...  0.001156  0.029062   \n",
       "5451  [kevin, year, old, orphan, lost, parent, hiv, ...  0.887215  0.107542   \n",
       "5452  [business, description, last, twelve, year, se...  0.070323  0.001122   \n",
       "5453  [elida, luis, year, old, living, without, job,...  0.001183  0.996806   \n",
       "\n",
       "       Topic_3   Topic_4   Topic_5 Dominant_Topic  \n",
       "0     0.000485  0.994561  0.001455        Topic_4  \n",
       "1     0.000414  0.001062  0.475591        Topic_2  \n",
       "2     0.000402  0.001029  0.434390        Topic_1  \n",
       "3     0.000503  0.001289  0.089912        Topic_1  \n",
       "4     0.000451  0.001154  0.001353        Topic_2  \n",
       "...        ...       ...       ...            ...  \n",
       "5449  0.000475  0.001218  0.895305        Topic_5  \n",
       "5450  0.000299  0.968584  0.000899        Topic_4  \n",
       "5451  0.000799  0.002046  0.002398        Topic_1  \n",
       "5452  0.000334  0.927217  0.001003        Topic_4  \n",
       "5453  0.000306  0.000785  0.000920        Topic_2  \n",
       "\n",
       "[5454 rows x 7 columns]"
      ]
     },
     "execution_count": 14,
     "metadata": {},
     "output_type": "execute_result"
    }
   ],
   "source": [
    "# Get the topic distribution for each document\n",
    "topic_distributions = []\n",
    "for bow in corpus:\n",
    "    topic_distribution = lda_model.get_document_topics(bow, minimum_probability=0)\n",
    "    topic_distributions.append([weight for _, weight in topic_distribution])\n",
    "\n",
    "# Create a DataFrame\n",
    "topic_df = pd.DataFrame(topic_distributions, columns=[f'Topic_{i+1}' for i in range(lda_model.num_topics)])\n",
    "\n",
    "# Add the processed text to the DataFrame\n",
    "topic_df.insert(0, 'Processed_Text', data['processed_en'])\n",
    "\n",
    "# Add a \"Dominant_Topic\" column with the name of the topic with the highest weight\n",
    "topic_df['Dominant_Topic'] = topic_df.iloc[:, 1:].idxmax(axis=1)\n",
    "\n",
    "topic_df"
   ]
  },
  {
   "cell_type": "code",
   "execution_count": 15,
   "metadata": {},
   "outputs": [
    {
     "data": {
      "text/plain": [
       "Dominant_Topic\n",
       "Topic_1    1861\n",
       "Topic_2    1417\n",
       "Topic_4    1279\n",
       "Topic_5     772\n",
       "Topic_3     125\n",
       "Name: count, dtype: int64"
      ]
     },
     "execution_count": 15,
     "metadata": {},
     "output_type": "execute_result"
    }
   ],
   "source": [
    "topic_df['Dominant_Topic'].value_counts()"
   ]
  },
  {
   "cell_type": "code",
   "execution_count": null,
   "metadata": {},
   "outputs": [],
   "source": []
  }
 ],
 "metadata": {
  "kernelspec": {
   "display_name": "mma865",
   "language": "python",
   "name": "mma865"
  },
  "language_info": {
   "codemirror_mode": {
    "name": "ipython",
    "version": 3
   },
   "file_extension": ".py",
   "mimetype": "text/x-python",
   "name": "python",
   "nbconvert_exporter": "python",
   "pygments_lexer": "ipython3",
   "version": "3.11.9"
  }
 },
 "nbformat": 4,
 "nbformat_minor": 2
}
