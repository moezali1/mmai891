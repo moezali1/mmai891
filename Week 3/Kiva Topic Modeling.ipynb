{
 "cells": [
  {
   "cell_type": "code",
   "execution_count": 1,
   "metadata": {},
   "outputs": [],
   "source": [
    "import pandas as pd\n",
    "import gensim\n",
    "import nltk\n",
    "import gensim.corpora as corpora\n",
    "from gensim.models import LdaModel, CoherenceModel, Phrases\n",
    "from gensim.corpora import Dictionary\n",
    "from gensim.utils import simple_preprocess\n",
    "from nltk.corpus import stopwords\n",
    "from nltk.stem import WordNetLemmatizer\n",
    "from nltk import pos_tag\n",
    "from nltk.corpus import wordnet\n",
    "import pyLDAvis.gensim_models as gensimvis\n",
    "import pyLDAvis\n",
    "import re"
   ]
  },
  {
   "cell_type": "code",
   "execution_count": 2,
   "metadata": {},
   "outputs": [
    {
     "name": "stderr",
     "output_type": "stream",
     "text": [
      "[nltk_data] Downloading package averaged_perceptron_tagger_eng to\n",
      "[nltk_data]     C:\\Users\\owner\\AppData\\Roaming\\nltk_data...\n",
      "[nltk_data]   Package averaged_perceptron_tagger_eng is already up-to-\n",
      "[nltk_data]       date!\n",
      "[nltk_data] Downloading package wordnet to\n",
      "[nltk_data]     C:\\Users\\owner\\AppData\\Roaming\\nltk_data...\n",
      "[nltk_data]   Package wordnet is already up-to-date!\n"
     ]
    },
    {
     "data": {
      "text/plain": [
       "True"
      ]
     },
     "execution_count": 2,
     "metadata": {},
     "output_type": "execute_result"
    }
   ],
   "source": [
    "nltk.download('averaged_perceptron_tagger_eng')\n",
    "nltk.download('wordnet')"
   ]
  },
  {
   "cell_type": "code",
   "execution_count": 4,
   "metadata": {},
   "outputs": [],
   "source": [
    "import pandas as pd\n",
    "data = pd.read_csv('kiva_train.csv')"
   ]
  },
  {
   "cell_type": "code",
   "execution_count": 5,
   "metadata": {},
   "outputs": [
    {
     "data": {
      "text/html": [
       "<div>\n",
       "<style scoped>\n",
       "    .dataframe tbody tr th:only-of-type {\n",
       "        vertical-align: middle;\n",
       "    }\n",
       "\n",
       "    .dataframe tbody tr th {\n",
       "        vertical-align: top;\n",
       "    }\n",
       "\n",
       "    .dataframe thead th {\n",
       "        text-align: right;\n",
       "    }\n",
       "</style>\n",
       "<table border=\"1\" class=\"dataframe\">\n",
       "  <thead>\n",
       "    <tr style=\"text-align: right;\">\n",
       "      <th></th>\n",
       "      <th>id</th>\n",
       "      <th>country</th>\n",
       "      <th>en</th>\n",
       "      <th>gender</th>\n",
       "      <th>loan_amount</th>\n",
       "      <th>nonpayment</th>\n",
       "      <th>sector</th>\n",
       "      <th>status</th>\n",
       "    </tr>\n",
       "  </thead>\n",
       "  <tbody>\n",
       "    <tr>\n",
       "      <th>0</th>\n",
       "      <td>1</td>\n",
       "      <td>Ecuador</td>\n",
       "      <td>&lt;h4&gt;Business Description&lt;/h4&gt; \\r\\n &lt;p&gt; Don Mau...</td>\n",
       "      <td>M</td>\n",
       "      <td>825</td>\n",
       "      <td>lender</td>\n",
       "      <td>Food</td>\n",
       "      <td>1</td>\n",
       "    </tr>\n",
       "    <tr>\n",
       "      <th>1</th>\n",
       "      <td>2</td>\n",
       "      <td>Dominican Republic</td>\n",
       "      <td>Rosa Iris is a brilliant entrepreneur who sell...</td>\n",
       "      <td>F</td>\n",
       "      <td>450</td>\n",
       "      <td>partner</td>\n",
       "      <td>Retail</td>\n",
       "      <td>0</td>\n",
       "    </tr>\n",
       "    <tr>\n",
       "      <th>2</th>\n",
       "      <td>3</td>\n",
       "      <td>Kenya</td>\n",
       "      <td>Sirote is married with six children. Two of he...</td>\n",
       "      <td>F</td>\n",
       "      <td>600</td>\n",
       "      <td>lender</td>\n",
       "      <td>Agriculture</td>\n",
       "      <td>1</td>\n",
       "    </tr>\n",
       "    <tr>\n",
       "      <th>3</th>\n",
       "      <td>4</td>\n",
       "      <td>Kenya</td>\n",
       "      <td>David Mwangi Kimani  is 33 years old and marri...</td>\n",
       "      <td>M</td>\n",
       "      <td>650</td>\n",
       "      <td>lender</td>\n",
       "      <td>Food</td>\n",
       "      <td>1</td>\n",
       "    </tr>\n",
       "    <tr>\n",
       "      <th>4</th>\n",
       "      <td>5</td>\n",
       "      <td>Dominican Republic</td>\n",
       "      <td>Nilda is a very persistent woman who has learn...</td>\n",
       "      <td>F</td>\n",
       "      <td>325</td>\n",
       "      <td>partner</td>\n",
       "      <td>Food</td>\n",
       "      <td>0</td>\n",
       "    </tr>\n",
       "  </tbody>\n",
       "</table>\n",
       "</div>"
      ],
      "text/plain": [
       "   id             country                                                 en  \\\n",
       "0   1             Ecuador  <h4>Business Description</h4> \\r\\n <p> Don Mau...   \n",
       "1   2  Dominican Republic  Rosa Iris is a brilliant entrepreneur who sell...   \n",
       "2   3               Kenya  Sirote is married with six children. Two of he...   \n",
       "3   4               Kenya  David Mwangi Kimani  is 33 years old and marri...   \n",
       "4   5  Dominican Republic  Nilda is a very persistent woman who has learn...   \n",
       "\n",
       "  gender  loan_amount nonpayment       sector  status  \n",
       "0      M          825     lender         Food       1  \n",
       "1      F          450    partner       Retail       0  \n",
       "2      F          600     lender  Agriculture       1  \n",
       "3      M          650     lender         Food       1  \n",
       "4      F          325    partner         Food       0  "
      ]
     },
     "execution_count": 5,
     "metadata": {},
     "output_type": "execute_result"
    }
   ],
   "source": [
    "data.head()"
   ]
  },
  {
   "cell_type": "code",
   "execution_count": 6,
   "metadata": {},
   "outputs": [
    {
     "data": {
      "text/plain": [
       "(5454, 8)"
      ]
     },
     "execution_count": 6,
     "metadata": {},
     "output_type": "execute_result"
    }
   ],
   "source": [
    "data.shape"
   ]
  },
  {
   "cell_type": "code",
   "execution_count": 7,
   "metadata": {},
   "outputs": [],
   "source": [
    "# Initialize stopwords and lemmatizer\n",
    "stop_words = stopwords.words('english')\n",
    "lemmatizer = WordNetLemmatizer()\n",
    "\n",
    "# 1. Preprocessing Function (Simplified with Bigram within the function)\n",
    "def preprocess(text):\n",
    "    if not isinstance(text, str):\n",
    "        text = ''\n",
    "    \n",
    "    # Remove special characters and numbers\n",
    "    text = re.sub(r'\\W', ' ', text)\n",
    "    text = re.sub(r'\\s+', ' ', text)\n",
    "    \n",
    "    # Convert to lowercase and tokenize\n",
    "    tokens = simple_preprocess(text.lower(), deacc=True)\n",
    "    \n",
    "    # Lemmatize and remove stopwords\n",
    "    tokens = [lemmatizer.lemmatize(word) for word in tokens if word not in stop_words]\n",
    "    \n",
    "    # Create bigrams\n",
    "    bigram = Phrases([tokens], min_count=5, threshold=100)\n",
    "    tokens = bigram[tokens]\n",
    "    \n",
    "    return tokens"
   ]
  },
  {
   "cell_type": "code",
   "execution_count": 8,
   "metadata": {},
   "outputs": [],
   "source": [
    "# Apply preprocessing\n",
    "data['processed_en'] = data['en'].apply(preprocess)"
   ]
  },
  {
   "cell_type": "code",
   "execution_count": 9,
   "metadata": {},
   "outputs": [
    {
     "name": "stdout",
     "output_type": "stream",
     "text": [
      "<h4>Business Description</h4> \n",
      " <p> Don Mauro co-owns a restaurant alongside his wife; it is located at an excellent location in one of the principal streets of his neighborhood.  The restaurant is open for breakfast, lunch, and dinner and also sells empanadas [corn cakes]. </p>\n",
      "\n",
      "<h4>Loan Use</h4> \n",
      "<p> He will use the loan proceeds to better his restaurant by buying more fixed assets such as: chairs, tables and other furniture as needed. </p>\n",
      "\n",
      "<h4> Personal Information</h4> \n",
      "<p> He is 49 years old, he is married and has three sons, his house is built of cement. His principal goal is to grow his business by reinvesting the revenue obtained. </p>\n",
      "\n",
      "\n",
      "\n",
      "\n",
      " \n",
      "<p> <b>Translated from Spanish by Felipe Salcedo, Kiva Volunteer.</b><p>\n"
     ]
    }
   ],
   "source": [
    "print(data['en'][0])"
   ]
  },
  {
   "cell_type": "code",
   "execution_count": 10,
   "metadata": {},
   "outputs": [
    {
     "name": "stdout",
     "output_type": "stream",
     "text": [
      "['business', 'description', 'mauro', 'co', 'owns', 'restaurant', 'alongside', 'wife', 'located', 'excellent', 'location', 'one', 'principal', 'street', 'neighborhood', 'restaurant', 'open', 'breakfast', 'lunch', 'dinner', 'also', 'sell', 'empanadas', 'corn', 'cake', 'loan', 'use', 'use', 'loan', 'proceeds', 'better', 'restaurant', 'buying', 'fixed', 'asset', 'chair', 'table', 'furniture', 'needed', 'personal', 'information', 'year', 'old', 'married', 'three', 'son', 'house', 'built', 'cement', 'principal', 'goal', 'grow', 'business', 'reinvesting', 'revenue', 'obtained', 'translated', 'spanish', 'felipe', 'salcedo', 'kiva', 'volunteer']\n"
     ]
    }
   ],
   "source": [
    "print(data['processed_en'][0])"
   ]
  },
  {
   "cell_type": "code",
   "execution_count": 11,
   "metadata": {},
   "outputs": [],
   "source": [
    "# Create Dictionary and Corpus\n",
    "dictionary = corpora.Dictionary(data['processed_en'])\n",
    "# Filter out extremes\n",
    "dictionary.filter_extremes(no_below=5, no_above=0.5)\n",
    "corpus = [dictionary.doc2bow(text) for text in data['processed_en']]"
   ]
  },
  {
   "cell_type": "code",
   "execution_count": 12,
   "metadata": {},
   "outputs": [],
   "source": [
    "# Build LDA Model\n",
    "lda_model = LdaModel(corpus=corpus,\n",
    "                     id2word=dictionary,\n",
    "                     num_topics=5, \n",
    "                     random_state=100,\n",
    "                     update_every=1,\n",
    "                     chunksize=4000,\n",
    "                     passes=10,\n",
    "                     alpha='auto',\n",
    "                     eta='auto',\n",
    "                     per_word_topics=True)"
   ]
  },
  {
   "cell_type": "code",
   "execution_count": 13,
   "metadata": {},
   "outputs": [
    {
     "name": "stdout",
     "output_type": "stream",
     "text": [
      "Topic 1:\n",
      "['u', 'school', 'family', 'buy', 'able', 'two', 'purchase', 'also', 'income', 'requesting', 'expand', 'married', 'customer', 'stock', 'due', 'need', 'many', 'one', 'pay', 'kenya', 'clothes', 'market', 'husband', 'would', 'shop']\n",
      "\n",
      "\n",
      "Topic 2:\n",
      "['group', 'cow', 'dairy', 'milk', 'member', 'school', 'usd', 'married', 'farming', 'woman', 'buy', 'income', 'month', 'church', 'font', 'also', 'maize', 'repay', 'two', 'farm', 'per', 'farmer', 'active', 'weec', 'mary']\n",
      "\n",
      "\n",
      "Topic 3:\n",
      "['group', 'member', 'able', 'school', 'one', 'woman', 'family', 'small', 'married', 'stock', 'community', 'esperanza', 'first', 'buy', 'span', 'also', 'started', 'life', 'two', 'support', 'selling', 'pay', 'pemci', 'steer', 'three']\n",
      "\n",
      "\n",
      "Topic 4:\n",
      "['rice', 'farmer', 'land', 'baba', 'sector', 'area', 'also', 'crop', 'water', 'program', 'part', 'bank', 'rural', 'mifex', 'communal', 'people', 'many', 'santa', 'month', 'lucia', 'farm', 'production', 'association', 'finance', 'use']\n",
      "\n",
      "\n",
      "Topic 5:\n",
      "['product', 'buy', 'work', 'store', 'home', 'help', 'family', 'husband', 'able', 'also', 'community', 'house', 'small', 'kiva', 'life', 'hope', 'selling', 'clothing', 'order', 'school', 'use', 'two', 'make', 'good', 'new']\n",
      "\n",
      "\n"
     ]
    }
   ],
   "source": [
    "# 4. Print the 25 most significant terms per topic\n",
    "for i in range(5):\n",
    "    print(f'Topic {i+1}:')\n",
    "    print([term for term, _ in lda_model.show_topic(i, topn=25)])\n",
    "    print('\\n')"
   ]
  },
  {
   "cell_type": "code",
   "execution_count": 14,
   "metadata": {},
   "outputs": [
    {
     "data": {
      "text/html": [
       "\n",
       "<link rel=\"stylesheet\" type=\"text/css\" href=\"https://cdn.jsdelivr.net/gh/bmabey/pyLDAvis@3.4.0/pyLDAvis/js/ldavis.v1.0.0.css\">\n",
       "\n",
       "\n",
       "<div id=\"ldavis_el2578425375496478721975116813\" style=\"background-color:white;\"></div>\n",
       "<script type=\"text/javascript\">\n",
       "\n",
       "var ldavis_el2578425375496478721975116813_data = {\"mdsDat\": {\"x\": [-0.10335229418679265, -0.07309675972024772, -0.09859707630044286, 0.3206553502259816, -0.04560922001849833], \"y\": [0.05489071488411719, -0.200320131893516, -0.009337617017602868, -0.007730830378796907, 0.16249786440579878], \"topics\": [1, 2, 3, 4, 5], \"cluster\": [1, 1, 1, 1, 1], \"Freq\": [21.97387071036462, 9.799248285240878, 15.284508431461447, 13.224928399939898, 39.71744417299316]}, \"tinfo\": {\"Term\": [\"group\", \"rice\", \"u\", \"farmer\", \"member\", \"baba\", \"dairy\", \"cow\", \"land\", \"sector\", \"milk\", \"school\", \"usd\", \"married\", \"woman\", \"mifex\", \"farming\", \"program\", \"crop\", \"water\", \"farm\", \"bank\", \"area\", \"communal\", \"month\", \"esperanza\", \"santa\", \"church\", \"stock\", \"lucia\", \"disclaimer\", \"affecting\", \"unsettled\", \"license\", \"kisumu\", \"slum\", \"kibera\", \"eb\", \"follows\", \"ebony\", \"paul\", \"kmet\", \"kayole\", \"embroidery\", \"kongowea\", \"manual\", \"accept\", \"nicholas\", \"aging\", \"mlolongo\", \"approached\", \"wool\", \"remains\", \"aware\", \"jackson\", \"senior\", \"zipporah\", \"anne\", \"knitting\", \"lease\", \"u\", \"ksh\", \"junior\", \"nakuru\", \"drug\", \"budget\", \"represent\", \"tailoring\", \"recent\", \"capable\", \"bale\", \"david\", \"breadwinner\", \"stall\", \"event\", \"transport\", \"machine\", \"lender\", \"additional\", \"requesting\", \"kenya\", \"therefore\", \"due\", \"nairobi\", \"expand\", \"care\", \"higher\", \"purchase\", \"school\", \"clothes\", \"stock\", \"family\", \"enable\", \"two\", \"risk\", \"fee\", \"customer\", \"able\", \"many\", \"buy\", \"pay\", \"income\", \"married\", \"need\", \"also\", \"market\", \"shop\", \"would\", \"since\", \"used\", \"high\", \"one\", \"like\", \"husband\", \"three\", \"font\", \"litre\", \"roman\", \"kiambu\", \"pt\", \"committee\", \"approved\", \"cow\", \"maragwa\", \"kale\", \"kanunga\", \"operative\", \"gatangara\", \"ltd\", \"phyllis\", \"dairy\", \"cwa\", \"kabete\", \"gitui\", \"wendani\", \"beth\", \"bora\", \"tank\", \"napier\", \"mistress\", \"gaitheri\", \"ack\", \"breed\", \"karaba\", \"discipline\", \"milk\", \"catholic\", \"consumption\", \"choir\", \"revolving\", \"grows\", \"st\", \"weec\", \"rearing\", \"coffee\", \"rear\", \"maize\", \"co\", \"usd\", \"church\", \"farming\", \"applied\", \"society\", \"size\", \"joined\", \"per\", \"active\", \"monthly\", \"mary\", \"bean\", \"group\", \"member\", \"married\", \"farm\", \"repay\", \"school\", \"born\", \"woman\", \"month\", \"produce\", \"income\", \"vegetable\", \"buy\", \"two\", \"also\", \"farmer\", \"one\", \"time\", \"steer\", \"pemci\", \"kadet\", \"malaba\", \"kes\", \"maasai\", \"representative\", \"isinya\", \"solidarity\", \"note\", \"accountable\", \"empowering\", \"kerosene\", \"undertaken\", \"strengthens\", \"beadwork\", \"text\", \"agency\", \"justify\", \"mechanism\", \"align\", \"incentive\", \"pledge\", \"fior\", \"hen\", \"relieve\", \"uganda\", \"dorcas\", \"malakisi\", \"chosen\", \"bead\", \"lending\", \"li\", \"excited\", \"economically\", \"share\", \"peer\", \"span\", \"group\", \"respective\", \"br\", \"esperanza\", \"member\", \"mujeres\", \"successfully\", \"international\", \"back\", \"woman\", \"stock\", \"poverty\", \"receive\", \"one\", \"able\", \"first\", \"primary\", \"school\", \"married\", \"five\", \"small\", \"community\", \"started\", \"support\", \"family\", \"pay\", \"plan\", \"life\", \"four\", \"two\", \"also\", \"buy\", \"selling\", \"three\", \"increase\", \"get\", \"help\", \"good\", \"baba\", \"communal\", \"lucia\", \"centro\", \"agricola\", \"cacao\", \"salitre\", \"commercialize\", \"intermediary\", \"flooding\", \"infrastructure\", \"em\", \"participate\", \"absence\", \"soil\", \"forgotten\", \"fertile\", \"evaluating\", \"reserved\", \"imperative\", \"guarantor\", \"compiled\", \"edgar\", \"removing\", \"sowed\", \"plowing\", \"boleo\", \"weed\", \"paddy\", \"dispersed\", \"cultivate\", \"cultivation\", \"insecticide\", \"productive\", \"machinery\", \"rio\", \"county\", \"santa\", \"sector\", \"rice\", \"debt\", \"land\", \"association\", \"crop\", \"farmer\", \"river\", \"finance\", \"economy\", \"often\", \"rural\", \"seed\", \"prepare\", \"water\", \"program\", \"production\", \"bank\", \"area\", \"part\", \"must\", \"farm\", \"credit\", \"mifex\", \"also\", \"many\", \"people\", \"lack\", \"access\", \"month\", \"use\", \"small\", \"capital\", \"volunteer\", \"org\", \"www\", \"pm\", \"http\", \"domingo\", \"explains\", \"please\", \"santo\", \"href\", \"shell\", \"microinsurance\", \"description\", \"negocio\", \"jewelry\", \"ana\", \"translated\", \"san\", \"mara\", \"pant\", \"cafeteria\", \"carmen\", \"perfume\", \"cristobal\", \"altagracia\", \"ella\", \"id\", \"una\", \"php\", \"page\", \"merchandise\", \"guayaquil\", \"shes\", \"personal\", \"la\", \"su\", \"maria\", \"store\", \"cement\", \"clothing\", \"spanish\", \"product\", \"home\", \"offer\", \"kiva\", \"house\", \"visit\", \"goal\", \"hope\", \"invest\", \"information\", \"husband\", \"help\", \"work\", \"continue\", \"entrepreneur\", \"new\", \"mifex\", \"client\", \"buy\", \"order\", \"community\", \"better\", \"life\", \"selling\", \"family\", \"make\", \"good\", \"small\", \"use\", \"able\", \"also\", \"customer\", \"two\", \"school\", \"one\"], \"Freq\": [3769.0, 2023.0, 2474.0, 1866.0, 2343.0, 1021.0, 853.0, 849.0, 1301.0, 979.0, 815.0, 3863.0, 1090.0, 2188.0, 1991.0, 1445.0, 865.0, 849.0, 706.0, 859.0, 845.0, 947.0, 1654.0, 500.0, 1564.0, 799.0, 505.0, 572.0, 1371.0, 452.0, 169.53595044245577, 170.6379222316646, 169.52931572369602, 131.85225737331135, 118.03931118192102, 210.29692436450551, 103.71712984819224, 80.98703973357956, 147.60223720500636, 55.5285999760379, 48.900869903721706, 48.35563234349247, 46.126109408445465, 45.02906100180835, 48.81608416570845, 37.26299105226687, 172.6576850811959, 37.80544659418017, 35.570456159414476, 33.40053160412609, 52.848752818574866, 34.97628608565153, 183.43799142862, 172.54490656372403, 31.707247818856366, 37.61991142314838, 30.58057720668076, 28.409034926756505, 27.853485468984, 50.3810645426518, 2384.5170797529063, 287.14592394181193, 115.76286545635085, 147.38554986463038, 77.85823157192891, 174.52661631729987, 172.42518908994788, 139.10910680731942, 178.5048966583579, 103.38513647843591, 96.47161326271825, 104.06391384319079, 105.50245426676807, 257.769425324865, 188.7243995996442, 242.66800972946328, 344.43755123484414, 271.2601371508122, 361.42636294501455, 682.7486476324154, 504.19860680302554, 320.19435909535406, 567.756872232699, 309.26673156770886, 663.6040554874168, 437.6959772230782, 259.2746756808045, 835.3098280975257, 1313.415384878711, 502.2105314639024, 635.7195143860017, 1141.4349559745472, 328.6345638617352, 862.6613450209081, 346.0041639632284, 399.1084529163281, 647.4266219056442, 894.3548465684012, 547.1334047865836, 924.627418365568, 510.7193534980211, 696.7439491274249, 660.1503040760322, 566.79697937679, 774.9745616031478, 477.29371059502654, 463.2596071116443, 473.1877206939262, 447.55645645892025, 452.0216338856811, 398.61703907323323, 539.5066376027479, 445.4260447547289, 474.0102385970318, 429.7016910854393, 383.5850989657535, 217.71579717477758, 137.92014841687367, 140.926450220385, 101.8996524660135, 88.44718871351388, 118.90837036995693, 836.3016136841545, 45.17606235427775, 68.20618185042851, 38.98755122615439, 37.29886511488417, 28.2886376695709, 26.61888079392195, 26.595896970822334, 826.446534402924, 23.80194179312384, 22.113161753186176, 20.99706349413956, 22.066293957257194, 23.132681773619577, 20.436964240992623, 91.73921108689609, 20.4250353002262, 19.861265001659675, 24.181632776521326, 110.44405112161635, 33.8191419543767, 18.74166268149116, 17.601565647910515, 771.408760359842, 138.0149015692957, 51.16819473005514, 56.10821644692288, 95.30508770849443, 232.35856674730553, 116.30785084635757, 289.1204536640653, 59.582883114165845, 99.36397503251197, 72.61420724962507, 360.65711124067906, 39.51750198617883, 690.2434124635946, 389.95634309814574, 545.5778185397179, 251.07888413911817, 74.44241395987687, 157.94496801529925, 202.20182877511218, 336.73222725837894, 293.1634566067648, 201.1457157113172, 260.376841184134, 238.51001779785972, 983.036310040742, 707.1334149683971, 611.2269020022064, 338.07745276059165, 360.16070866971296, 705.7319157578619, 236.27501646539116, 484.5522380578205, 420.59245124294057, 232.7614372385265, 433.1555566259286, 252.12852656137756, 440.9018329576718, 356.64685809336453, 363.5984144063135, 313.0056997487006, 259.37316118981454, 250.56484385170828, 341.84529530042334, 346.5473398312927, 94.27356734752964, 88.72391763515495, 64.501994920567, 60.09974337257031, 91.56559828808206, 52.99067039932865, 154.76819048717178, 116.00542092504868, 60.36181907250013, 42.52444181344201, 46.83241643258106, 37.60535198140874, 40.81132103154568, 35.952091311165994, 36.42641829420772, 32.6327933835205, 32.08413063329784, 36.38344712560685, 30.987653649629973, 41.71549806784042, 38.497336421706876, 29.87891081671852, 31.474238342665622, 29.345144928193317, 64.02918183796277, 26.597411564512456, 26.027271369239017, 24.381118298765323, 85.86525036817915, 160.54173467930266, 67.37223620056494, 109.49134338074178, 48.330103484746886, 195.54778472352734, 49.0459749104411, 455.6074250685895, 2419.7770467920104, 77.18313716938273, 253.7883159219829, 505.4859190612839, 1196.62206735573, 59.703768876418685, 153.32847117111265, 204.7046847729715, 240.30392333270552, 694.669852371552, 518.98027409215, 115.13822456960213, 199.86923794010988, 771.0208977692888, 835.4742484642392, 460.67837295122814, 260.4895066768146, 789.0640515383512, 532.654180970603, 311.51464188366816, 571.089410847749, 512.211901970592, 435.58522902223484, 353.47205066039595, 590.6263448291385, 351.4393544493188, 291.61232070636424, 425.93885077649946, 317.61657224274114, 417.4273118329107, 453.0851041547272, 459.6272051356271, 352.6903571226693, 332.495478755444, 328.53784999884044, 297.17256772180144, 324.9741609259725, 312.57212575700845, 1020.5162604180476, 499.6948462962294, 451.7811263999305, 286.1563875767264, 286.15495090881643, 260.00396102263323, 255.0251742956497, 216.61768876991488, 149.2969939414057, 148.7414541795913, 149.2818948433715, 224.47888204364426, 156.93246133351556, 126.48082014381411, 130.34020312427867, 124.24822412673987, 131.43035236835638, 122.03698093860207, 122.02671298853963, 121.48292009963615, 121.48289192967714, 122.02496645108046, 100.33306276042835, 98.66543639895016, 98.11282631287372, 98.65536563860086, 95.8880756293863, 95.88745589028787, 95.88727278555425, 95.88659670653779, 210.7237304993004, 153.48331746624524, 109.09295519425233, 218.47032837974035, 322.1171713118628, 197.0402292457214, 194.9189468217109, 471.37710767217897, 888.2170620036671, 1769.6377270145654, 218.83697448135263, 1066.027533529367, 413.16425356880717, 603.1459784380671, 1449.151934369413, 224.4108515926133, 413.1145899310566, 180.60181867991673, 390.9784952841026, 521.7372194895271, 321.68264969399416, 333.735166660289, 578.576985280434, 570.0925880033265, 414.72272838157636, 558.6349642315957, 774.8852603959843, 567.210688515843, 310.39942613855027, 438.8149449828123, 347.5656587600293, 509.6410390867528, 754.0227014263219, 488.86298999414754, 493.86941145092874, 382.0682809064633, 370.0906115212821, 457.20981554240706, 407.23135032984885, 395.25311754548727, 354.5940635352789, 725.0784549976504, 534.8926842954091, 534.3418488548131, 390.57527937223244, 317.9619113651635, 335.2293884071838, 307.6209932919111, 285.96229351098697, 333.52077064230286, 255.59726777117353, 228.4687492229291, 224.14776625127382, 389.9387433785225, 212.12500654844203, 199.1910122379216, 231.8805068545526, 724.5167060611494, 252.84797626112703, 240.94699932849002, 159.51652068898534, 152.45934874742522, 167.0201730540973, 134.1244641253095, 134.09700060896736, 119.99052459498787, 105.37862258945847, 98.31681875719453, 93.97387131752131, 91.26755698514688, 91.26673212789825, 493.5821412692854, 180.56068066949624, 201.193406084429, 488.90816169558934, 527.6292451662276, 424.85761563633446, 424.5404474491443, 1569.5175609051255, 357.5922413260194, 1084.6169787270846, 712.3666856899845, 1875.087832175834, 1548.3269358875184, 658.0736932775299, 1169.405028222034, 1203.1127562366305, 405.10461105215563, 442.2513169875806, 1165.9953644588106, 729.6770976093052, 614.4968232355237, 1455.7177168622006, 1542.7759427068588, 1585.4543105530654, 580.4605059333712, 910.1409738781099, 978.1449126787344, 935.2713709173911, 941.7155787473848, 1773.474048420783, 1050.868726956376, 1204.2241562033196, 719.422726096601, 1166.769122858395, 1094.9734633371318, 1478.1924119638757, 988.4494524323038, 981.2700641417387, 1189.0120119230198, 1017.6099750872628, 1229.8233259620513, 1219.8458526826555, 905.5850546418969, 1010.7811722775501, 1023.4212001547713, 901.8629603331168], \"Total\": [3769.0, 2023.0, 2474.0, 1866.0, 2343.0, 1021.0, 853.0, 849.0, 1301.0, 979.0, 815.0, 3863.0, 1090.0, 2188.0, 1991.0, 1445.0, 865.0, 849.0, 706.0, 859.0, 845.0, 947.0, 1654.0, 500.0, 1564.0, 799.0, 505.0, 572.0, 1371.0, 452.0, 170.44021084267064, 171.54828931065123, 170.44010348260682, 132.78677082829483, 118.93342051487923, 211.95692341675016, 104.54211614765197, 81.83158809549882, 149.38080408459754, 56.355072683799726, 49.70516226165249, 49.15973729739698, 46.94066815138804, 45.82736064117245, 49.71486778414242, 38.074382230513, 176.4423357984642, 38.63626223600397, 36.42327086735298, 34.209810612357984, 54.13494744372425, 35.83601209223533, 188.0600689160985, 177.04385201435804, 32.537423523379154, 38.63651877567141, 31.408006821501406, 29.21379945060439, 28.65676410315787, 51.88557580073803, 2474.1707752961524, 297.1900053802599, 120.02212626967206, 153.34235115877294, 80.70934377333295, 184.6209462593869, 183.5693948105738, 147.24497066642485, 192.8757736347342, 109.46552607186341, 102.39287866512865, 112.16353434486601, 113.90218674669283, 297.7021822986827, 215.4002251548013, 287.3778135751997, 425.67291812327176, 327.1927570210627, 483.97784508728546, 1044.7500533138975, 763.6378895883201, 451.2675752307621, 936.9480667361256, 447.61706680388005, 1211.3253042625872, 727.5258749987752, 361.6715684097426, 1934.6094832767933, 3863.958369062892, 958.7294613712974, 1371.9461648240053, 3491.1774638160914, 530.9906017309453, 2702.3050356112417, 585.5395721022016, 754.1717543207986, 1751.5352539421033, 3155.051826040444, 1432.274092100409, 3843.2865989599823, 1282.8341888051439, 2322.613925497226, 2188.4804986448426, 1762.0201173198882, 3565.5266342731657, 1268.3950758449964, 1207.1122417278534, 1288.2601347644177, 1172.4396128547555, 1211.0936128719338, 890.2709165584264, 2726.81232493644, 1391.2251405345728, 2247.871220579149, 1645.1645545608817, 384.4367638285725, 218.57931867662467, 138.73812609359635, 142.0996512435035, 102.75338787638934, 89.26354505683382, 120.17461458046759, 849.246279103528, 45.97663124396079, 69.56735589830943, 39.788288979280644, 38.09471223708182, 29.10481965116019, 27.412178689929522, 27.39573589990016, 853.5361918433949, 24.600308613430897, 22.91205743317389, 21.79049381028666, 22.91524889069253, 24.027535618113163, 21.230179277777598, 95.31999291988475, 21.226378495914123, 20.662804255867705, 25.15906509835648, 115.04291732426329, 35.24952038041855, 19.545213512936414, 18.405806679102728, 815.7725938913419, 145.88653636800805, 53.793591725740704, 59.40823864510498, 104.24759267153458, 268.14076960700817, 133.32582907504795, 351.63309108970327, 65.5350484299957, 113.54864977049752, 81.77731720145063, 484.1504007483335, 42.52417311656741, 1090.6586210314315, 572.2230486697517, 865.5180075690412, 355.52582535348466, 87.73639891908046, 223.2979807119877, 308.5740496730147, 595.3544164526805, 514.2050633049205, 327.0873201265584, 489.4201544759995, 435.74770605608705, 3769.725206843683, 2343.140317592237, 2188.4804986448426, 845.2570234902985, 1042.440870712435, 3863.958369062892, 496.2285225130163, 1991.498619311482, 1564.4201699780015, 487.08626290379, 2322.613925497226, 664.680734604975, 3843.2865989599823, 2702.3050356112417, 3565.5266342731657, 1866.9471621131063, 2726.81232493644, 1443.3827854918127, 343.2725345268262, 348.7927062844128, 95.07622609282745, 89.58488235821143, 65.37271650779721, 60.95652377232219, 92.87606307636393, 53.82079474609304, 157.2612990372483, 118.18671100356674, 61.51402608403337, 43.34715375986308, 47.747862611103706, 38.405939691273524, 41.70554394736814, 36.75691151199434, 37.25749186845977, 33.439337237847205, 32.88877837680784, 37.30930352917293, 31.79222047525527, 42.80324440280708, 39.509369435175685, 30.681414680996355, 32.3266396536739, 30.145121642376303, 65.9276867212508, 27.400183725674392, 26.844891496624914, 25.195395691348327, 89.59662394210709, 170.99796101193945, 70.83212602146776, 117.53425696038339, 50.45951209161204, 217.05601002643766, 51.618313989824735, 584.2690986987733, 3769.725206843683, 85.64738006762961, 322.39138007215627, 799.6125650328526, 2343.140317592237, 66.94112981289784, 210.7883530957996, 315.2786852137948, 460.63646623982686, 1991.498619311482, 1371.9461648240053, 169.34435649988444, 372.18437316424416, 2726.81232493644, 3155.051826040444, 1309.7256898409184, 601.827632896895, 3863.958369062892, 2188.4804986448426, 898.3776883058733, 2618.750165376946, 2285.5136939380927, 1726.328446487357, 1249.5709108807691, 3491.1774638160914, 1282.8341888051439, 932.0152852930413, 2237.1182419339048, 1137.760915654444, 2702.3050356112417, 3565.5266342731657, 3843.2865989599823, 2035.036114288188, 1645.1645545608817, 1611.517359050033, 1080.2128752988458, 2512.8864243519874, 1767.3924209804754, 1021.3697270291663, 500.61716287565105, 452.7970299899599, 286.96326951307003, 286.96327083645554, 260.8129752794672, 255.82661250402967, 217.42380053434684, 150.10024771173863, 149.5438081755882, 150.0970171547242, 225.7574864810296, 157.88735475189497, 127.28217772186584, 131.1722294864098, 125.05598054177943, 132.28696371824546, 122.83823021412095, 122.82947364610342, 122.28290564805164, 122.2829229717951, 122.83480644564945, 101.13687369662561, 99.46767301265784, 98.91193066787257, 99.46610623740435, 96.68749464603658, 96.68747301996198, 96.6874825045055, 96.68749098101979, 213.53400414518828, 155.10326100224194, 110.03105728379903, 224.12485723868386, 334.49055464899584, 201.71281005737458, 199.655080277472, 505.3367579532601, 979.5520103908996, 2023.8334359197715, 230.10715483592446, 1301.6878159658565, 464.39828909886205, 706.4256368725943, 1866.9471621131063, 243.08474273398272, 499.77329347206137, 191.67635081278075, 489.4759250788101, 704.6678115343009, 394.9851240020865, 415.925482610915, 859.0972833377211, 849.7977468300855, 562.2500035308451, 947.4476995535185, 1654.8925892274221, 1035.3631650849763, 414.25962708089946, 845.2570234902985, 611.2243570668811, 1445.657523892104, 3565.5266342731657, 1432.274092100409, 1494.5699572231836, 775.5946647161531, 716.8498910568965, 1564.4201699780015, 1941.5677065432062, 2618.750165376946, 1343.431966051303, 726.0873292156377, 535.7398069163041, 535.1972418406979, 391.4357635838244, 318.79197487448965, 336.1444928509497, 308.47255820335977, 286.7995249674293, 334.51692163336014, 256.4252481058875, 229.29061140717934, 224.9724558983623, 391.46205838024974, 213.0025054357385, 200.02022785460764, 233.09513592806152, 728.3288316519919, 254.2462582216464, 242.28905405244635, 160.41847762898635, 153.3711988313133, 168.0244732900292, 134.93331203609378, 134.9271062969542, 120.82765635240835, 106.18266562951291, 99.12772247808753, 94.7878041812095, 92.07696912310766, 92.07698277536231, 501.6829027577488, 183.25358946629214, 204.95708951987723, 507.32935323348823, 550.2944792554946, 445.0715593636982, 448.2980794159281, 1782.489316860053, 377.40795564218814, 1278.8983333405574, 816.5513792979077, 2383.435946174953, 1931.752815315221, 754.5357255890954, 1445.7331736476306, 1545.2751116297932, 449.42782998283303, 498.9482583134639, 1603.5121695964904, 926.9839043632312, 751.7725024256592, 2247.871220579149, 2512.8864243519874, 2641.7856929783293, 726.1977220187076, 1349.8017809723287, 1524.8453906981767, 1445.657523892104, 1495.709811008499, 3843.2865989599823, 1771.829839874684, 2285.5136939380927, 1021.2385776995827, 2237.1182419339048, 2035.036114288188, 3491.1774638160914, 1783.7075505495322, 1767.3924209804754, 2618.750165376946, 1941.5677065432062, 3155.051826040444, 3565.5266342731657, 1751.5352539421033, 2702.3050356112417, 3863.958369062892, 2726.81232493644], \"Category\": [\"Default\", \"Default\", \"Default\", \"Default\", \"Default\", \"Default\", \"Default\", \"Default\", \"Default\", \"Default\", \"Default\", \"Default\", \"Default\", \"Default\", \"Default\", \"Default\", \"Default\", \"Default\", \"Default\", \"Default\", \"Default\", \"Default\", \"Default\", \"Default\", \"Default\", \"Default\", \"Default\", \"Default\", \"Default\", \"Default\", \"Topic1\", \"Topic1\", \"Topic1\", \"Topic1\", \"Topic1\", \"Topic1\", \"Topic1\", \"Topic1\", \"Topic1\", \"Topic1\", \"Topic1\", \"Topic1\", \"Topic1\", \"Topic1\", \"Topic1\", \"Topic1\", \"Topic1\", \"Topic1\", \"Topic1\", \"Topic1\", \"Topic1\", \"Topic1\", \"Topic1\", \"Topic1\", \"Topic1\", \"Topic1\", \"Topic1\", \"Topic1\", \"Topic1\", \"Topic1\", \"Topic1\", \"Topic1\", \"Topic1\", \"Topic1\", \"Topic1\", \"Topic1\", \"Topic1\", \"Topic1\", \"Topic1\", \"Topic1\", \"Topic1\", \"Topic1\", \"Topic1\", \"Topic1\", \"Topic1\", \"Topic1\", \"Topic1\", \"Topic1\", \"Topic1\", \"Topic1\", \"Topic1\", \"Topic1\", \"Topic1\", \"Topic1\", \"Topic1\", \"Topic1\", \"Topic1\", \"Topic1\", \"Topic1\", \"Topic1\", \"Topic1\", \"Topic1\", \"Topic1\", \"Topic1\", \"Topic1\", \"Topic1\", \"Topic1\", \"Topic1\", \"Topic1\", \"Topic1\", \"Topic1\", \"Topic1\", \"Topic1\", \"Topic1\", \"Topic1\", \"Topic1\", \"Topic1\", \"Topic1\", \"Topic1\", \"Topic1\", \"Topic1\", \"Topic1\", \"Topic1\", \"Topic1\", \"Topic1\", \"Topic2\", \"Topic2\", \"Topic2\", \"Topic2\", \"Topic2\", \"Topic2\", \"Topic2\", \"Topic2\", \"Topic2\", \"Topic2\", \"Topic2\", \"Topic2\", \"Topic2\", \"Topic2\", \"Topic2\", \"Topic2\", \"Topic2\", \"Topic2\", \"Topic2\", \"Topic2\", \"Topic2\", \"Topic2\", \"Topic2\", \"Topic2\", \"Topic2\", \"Topic2\", \"Topic2\", \"Topic2\", \"Topic2\", \"Topic2\", \"Topic2\", \"Topic2\", \"Topic2\", \"Topic2\", \"Topic2\", \"Topic2\", \"Topic2\", \"Topic2\", \"Topic2\", \"Topic2\", \"Topic2\", \"Topic2\", \"Topic2\", \"Topic2\", \"Topic2\", \"Topic2\", \"Topic2\", \"Topic2\", \"Topic2\", \"Topic2\", \"Topic2\", \"Topic2\", \"Topic2\", \"Topic2\", \"Topic2\", \"Topic2\", \"Topic2\", \"Topic2\", \"Topic2\", \"Topic2\", \"Topic2\", \"Topic2\", \"Topic2\", \"Topic2\", \"Topic2\", \"Topic2\", \"Topic2\", \"Topic2\", \"Topic2\", \"Topic2\", \"Topic2\", \"Topic2\", \"Topic2\", \"Topic3\", \"Topic3\", \"Topic3\", \"Topic3\", \"Topic3\", \"Topic3\", \"Topic3\", \"Topic3\", \"Topic3\", \"Topic3\", \"Topic3\", \"Topic3\", \"Topic3\", \"Topic3\", \"Topic3\", \"Topic3\", \"Topic3\", \"Topic3\", \"Topic3\", \"Topic3\", \"Topic3\", \"Topic3\", \"Topic3\", \"Topic3\", \"Topic3\", \"Topic3\", \"Topic3\", \"Topic3\", \"Topic3\", \"Topic3\", \"Topic3\", \"Topic3\", \"Topic3\", \"Topic3\", \"Topic3\", \"Topic3\", \"Topic3\", \"Topic3\", \"Topic3\", \"Topic3\", \"Topic3\", \"Topic3\", \"Topic3\", \"Topic3\", \"Topic3\", \"Topic3\", \"Topic3\", \"Topic3\", \"Topic3\", \"Topic3\", \"Topic3\", \"Topic3\", \"Topic3\", \"Topic3\", \"Topic3\", \"Topic3\", \"Topic3\", \"Topic3\", \"Topic3\", \"Topic3\", \"Topic3\", \"Topic3\", \"Topic3\", \"Topic3\", \"Topic3\", \"Topic3\", \"Topic3\", \"Topic3\", \"Topic3\", \"Topic3\", \"Topic3\", \"Topic3\", \"Topic3\", \"Topic3\", \"Topic3\", \"Topic3\", \"Topic4\", \"Topic4\", \"Topic4\", \"Topic4\", \"Topic4\", \"Topic4\", \"Topic4\", \"Topic4\", \"Topic4\", \"Topic4\", \"Topic4\", \"Topic4\", \"Topic4\", \"Topic4\", \"Topic4\", \"Topic4\", \"Topic4\", \"Topic4\", \"Topic4\", \"Topic4\", \"Topic4\", \"Topic4\", \"Topic4\", \"Topic4\", \"Topic4\", \"Topic4\", \"Topic4\", \"Topic4\", \"Topic4\", \"Topic4\", \"Topic4\", \"Topic4\", \"Topic4\", \"Topic4\", \"Topic4\", \"Topic4\", \"Topic4\", \"Topic4\", \"Topic4\", \"Topic4\", \"Topic4\", \"Topic4\", \"Topic4\", \"Topic4\", \"Topic4\", \"Topic4\", \"Topic4\", \"Topic4\", \"Topic4\", \"Topic4\", \"Topic4\", \"Topic4\", \"Topic4\", \"Topic4\", \"Topic4\", \"Topic4\", \"Topic4\", \"Topic4\", \"Topic4\", \"Topic4\", \"Topic4\", \"Topic4\", \"Topic4\", \"Topic4\", \"Topic4\", \"Topic4\", \"Topic4\", \"Topic4\", \"Topic4\", \"Topic4\", \"Topic4\", \"Topic5\", \"Topic5\", \"Topic5\", \"Topic5\", \"Topic5\", \"Topic5\", \"Topic5\", \"Topic5\", \"Topic5\", \"Topic5\", \"Topic5\", \"Topic5\", \"Topic5\", \"Topic5\", \"Topic5\", \"Topic5\", \"Topic5\", \"Topic5\", \"Topic5\", \"Topic5\", \"Topic5\", \"Topic5\", \"Topic5\", \"Topic5\", \"Topic5\", \"Topic5\", \"Topic5\", \"Topic5\", \"Topic5\", \"Topic5\", \"Topic5\", \"Topic5\", \"Topic5\", \"Topic5\", \"Topic5\", \"Topic5\", \"Topic5\", \"Topic5\", \"Topic5\", \"Topic5\", \"Topic5\", \"Topic5\", \"Topic5\", \"Topic5\", \"Topic5\", \"Topic5\", \"Topic5\", \"Topic5\", \"Topic5\", \"Topic5\", \"Topic5\", \"Topic5\", \"Topic5\", \"Topic5\", \"Topic5\", \"Topic5\", \"Topic5\", \"Topic5\", \"Topic5\", \"Topic5\", \"Topic5\", \"Topic5\", \"Topic5\", \"Topic5\", \"Topic5\", \"Topic5\", \"Topic5\", \"Topic5\", \"Topic5\", \"Topic5\", \"Topic5\", \"Topic5\", \"Topic5\", \"Topic5\", \"Topic5\", \"Topic5\"], \"logprob\": [30.0, 29.0, 28.0, 27.0, 26.0, 25.0, 24.0, 23.0, 22.0, 21.0, 20.0, 19.0, 18.0, 17.0, 16.0, 15.0, 14.0, 13.0, 12.0, 11.0, 10.0, 9.0, 8.0, 7.0, 6.0, 5.0, 4.0, 3.0, 2.0, 1.0, -6.385, -6.3785, -6.385, -6.6364, -6.747, -6.1695, -6.8764, -7.1238, -6.5235, -7.5012, -7.6283, -7.6395, -7.6867, -7.7108, -7.63, -7.9001, -6.3667, -7.8856, -7.9465, -8.0095, -7.5506, -7.9634, -6.3062, -6.3674, -8.0615, -7.8905, -8.0977, -8.1714, -8.1911, -7.5984, -3.7413, -5.8581, -6.7665, -6.525, -7.1632, -6.356, -6.3681, -6.5828, -6.3334, -6.8796, -6.9488, -6.8731, -6.8593, -5.966, -6.2778, -6.0264, -5.6761, -5.915, -5.628, -4.9919, -5.2951, -5.7491, -5.1764, -5.7839, -5.0204, -5.4365, -5.9602, -4.7903, -4.3377, -5.299, -5.0633, -4.478, -5.7231, -4.758, -5.6716, -5.5288, -5.0451, -4.722, -5.2134, -4.6887, -5.2822, -4.9716, -5.0256, -5.1781, -4.8652, -5.3499, -5.3798, -5.3586, -5.4143, -5.4043, -5.5301, -5.2274, -5.419, -5.3568, -5.455, -4.7609, -5.3273, -5.7838, -5.7623, -6.0865, -6.2281, -5.9322, -3.9815, -6.8999, -6.488, -7.0473, -7.0915, -7.3681, -7.4289, -7.4298, -3.9934, -7.5407, -7.6143, -7.6661, -7.6165, -7.5693, -7.6932, -6.1916, -7.6937, -7.7217, -7.5249, -6.006, -7.1895, -7.7798, -7.8425, -4.0623, -5.7831, -6.7754, -6.6832, -6.1534, -5.2622, -5.9543, -5.0437, -6.6231, -6.1117, -6.4253, -4.8226, -7.0338, -4.1735, -4.7445, -4.4087, -5.1847, -6.4005, -5.6483, -5.4012, -4.8912, -5.0298, -5.4065, -5.1484, -5.2361, -3.8199, -4.1493, -4.295, -4.8872, -4.824, -4.1513, -5.2455, -4.5273, -4.6688, -5.2605, -4.6394, -5.1806, -4.6217, -4.8338, -4.8145, -4.9643, -5.1522, -5.1868, -5.3207, -5.307, -6.6088, -6.6695, -6.9883, -7.059, -6.638, -7.1849, -6.1131, -6.4014, -7.0547, -7.405, -7.3085, -7.5279, -7.4461, -7.5729, -7.5598, -7.6697, -7.6867, -7.5609, -7.7215, -7.4242, -7.5045, -7.7579, -7.7059, -7.7759, -6.9957, -7.8742, -7.8959, -7.9612, -6.7023, -6.0765, -6.9448, -6.4592, -7.277, -5.8792, -7.2623, -5.0334, -3.3636, -6.8089, -5.6185, -4.9295, -4.0678, -7.0656, -6.1225, -5.8335, -5.6731, -4.6116, -4.9032, -6.4089, -5.8574, -4.5073, -4.427, -5.0223, -5.5925, -4.4842, -4.8772, -5.4136, -4.8075, -4.9163, -5.0784, -5.2872, -4.7739, -5.293, -5.4796, -5.1007, -5.3942, -5.1209, -5.039, -5.0246, -5.2895, -5.3484, -5.3604, -5.4607, -5.3713, -5.4102, -4.0822, -4.7963, -4.8971, -5.3538, -5.3538, -5.4496, -5.4689, -5.6322, -6.0044, -6.0081, -6.0045, -5.5965, -5.9545, -6.1702, -6.1402, -6.188, -6.1318, -6.206, -6.2061, -6.2105, -6.2105, -6.2061, -6.4018, -6.4186, -6.4242, -6.4187, -6.4471, -6.4471, -6.4471, -6.4471, -5.6598, -5.9767, -6.3181, -5.6237, -5.2354, -5.7269, -5.7377, -4.8546, -4.2211, -3.5318, -5.622, -4.0386, -4.9865, -4.6081, -3.7316, -5.5968, -4.9866, -5.814, -5.0417, -4.7531, -5.2367, -5.2, -4.6497, -4.6645, -4.9827, -4.6848, -4.3576, -4.6696, -5.2724, -4.9262, -5.1594, -4.7766, -4.3849, -4.8182, -4.808, -5.0647, -5.0966, -4.8852, -5.0009, -5.0308, -5.1393, -5.5237, -5.8279, -5.829, -6.1424, -6.3481, -6.2952, -6.3811, -6.4541, -6.3003, -6.5664, -6.6786, -6.6977, -6.144, -6.7528, -6.8157, -6.6638, -5.5245, -6.5772, -6.6254, -7.0378, -7.0831, -6.9919, -7.2112, -7.2114, -7.3226, -7.4524, -7.5218, -7.567, -7.5962, -7.5962, -5.9083, -6.9139, -6.8057, -5.9178, -5.8416, -6.0582, -6.059, -4.7515, -6.2306, -5.121, -5.5414, -4.5736, -4.7651, -5.6207, -5.0457, -5.0173, -6.1058, -6.0181, -5.0487, -5.5174, -5.6892, -4.8267, -4.7687, -4.7414, -5.7462, -5.2964, -5.2243, -5.2692, -5.2623, -4.6293, -5.1526, -5.0164, -5.5315, -5.048, -5.1115, -4.8114, -5.2139, -5.2211, -5.0291, -5.1848, -4.9954, -5.0035, -5.3014, -5.1915, -5.1791, -5.3055], \"loglift\": [30.0, 29.0, 28.0, 27.0, 26.0, 25.0, 24.0, 23.0, 22.0, 21.0, 20.0, 19.0, 18.0, 17.0, 16.0, 15.0, 14.0, 13.0, 12.0, 11.0, 10.0, 9.0, 8.0, 7.0, 6.0, 5.0, 4.0, 3.0, 2.0, 1.0, 1.51, 1.51, 1.51, 1.5083, 1.5078, 1.5075, 1.5074, 1.5049, 1.5033, 1.5005, 1.499, 1.4988, 1.4978, 1.4977, 1.4971, 1.4938, 1.4936, 1.4936, 1.4916, 1.4914, 1.4913, 1.491, 1.4904, 1.4896, 1.4895, 1.4887, 1.4886, 1.4874, 1.4869, 1.4859, 1.4784, 1.4809, 1.4792, 1.4757, 1.4794, 1.4591, 1.4527, 1.4585, 1.4379, 1.4582, 1.4557, 1.4404, 1.4387, 1.3713, 1.3831, 1.3462, 1.3036, 1.3278, 1.2233, 1.0899, 1.1002, 1.1722, 1.0144, 1.1456, 0.9135, 1.0072, 1.1825, 0.6755, 0.4363, 0.8687, 0.7461, 0.3974, 1.0355, 0.3735, 0.9892, 0.8789, 0.5201, 0.2547, 0.553, 0.0906, 0.5943, 0.3113, 0.3168, 0.3811, -0.0109, 0.5379, 0.5576, 0.5138, 0.5523, 0.5298, 0.7118, -0.1049, 0.3764, -0.0412, 0.1728, 2.3206, 2.3189, 2.317, 2.3146, 2.3145, 2.3137, 2.3123, 2.3075, 2.3053, 2.3031, 2.3025, 2.3018, 2.2944, 2.2935, 2.2932, 2.2906, 2.2899, 2.2874, 2.2858, 2.2851, 2.2849, 2.2848, 2.2846, 2.2844, 2.2833, 2.2832, 2.2821, 2.2814, 2.2809, 2.2782, 2.2669, 2.2674, 2.2728, 2.2657, 2.2332, 2.1796, 2.1863, 2.1271, 2.2276, 2.1894, 2.204, 2.0284, 2.2495, 1.8654, 1.9394, 1.8614, 1.975, 2.1586, 1.9766, 1.9002, 1.753, 1.761, 1.8367, 1.6918, 1.7202, 0.9788, 1.1248, 1.0474, 1.4065, 1.2601, 0.6227, 1.5808, 0.9094, 1.0093, 1.5844, 0.6435, 1.3535, 0.1576, 0.2978, 0.0398, 0.537, -0.0298, 0.5718, 1.8742, 1.8719, 1.8699, 1.8687, 1.8649, 1.8642, 1.8641, 1.8628, 1.8624, 1.8597, 1.8594, 1.8592, 1.859, 1.8573, 1.8567, 1.8562, 1.8558, 1.8539, 1.8536, 1.8532, 1.8527, 1.8526, 1.8524, 1.8518, 1.8516, 1.8514, 1.8491, 1.8486, 1.8474, 1.8455, 1.8358, 1.8152, 1.8283, 1.8074, 1.8352, 1.774, 1.8272, 1.6296, 1.435, 1.7743, 1.6391, 1.4197, 1.2063, 1.7639, 1.5601, 1.4464, 1.2276, 0.8251, 0.9062, 1.4925, 1.2566, 0.6152, 0.5496, 0.8335, 1.0409, 0.2897, 0.4652, 0.8192, 0.3554, 0.3827, 0.5013, 0.6156, 0.1015, 0.5835, 0.7164, 0.2197, 0.6024, 0.0106, -0.1847, -0.2453, 0.1257, 0.2794, 0.2881, 0.5877, -0.1671, 0.1459, 2.0222, 2.0212, 2.0208, 2.0203, 2.0202, 2.02, 2.0199, 2.0194, 2.0177, 2.0177, 2.0176, 2.0174, 2.017, 2.0168, 2.0167, 2.0166, 2.0166, 2.0165, 2.0165, 2.0165, 2.0165, 2.0165, 2.0151, 2.015, 2.015, 2.0149, 2.0148, 2.0148, 2.0148, 2.0147, 2.0098, 2.0126, 2.0145, 1.9975, 1.9854, 1.9996, 1.9991, 1.9535, 1.9252, 1.8888, 1.9728, 1.8233, 1.9062, 1.865, 1.7697, 1.9431, 1.8326, 1.9636, 1.7984, 1.7225, 1.8178, 1.8029, 1.6278, 1.6239, 1.7187, 1.4948, 1.2643, 1.4213, 1.7344, 1.3675, 1.4586, 0.9805, 0.4694, 0.9481, 0.9157, 1.315, 1.3619, 0.7929, 0.4612, 0.1321, 0.6911, 0.922, 0.9218, 0.9218, 0.9212, 0.9208, 0.9207, 0.9206, 0.9205, 0.9204, 0.9201, 0.9198, 0.9197, 0.9195, 0.9193, 0.9192, 0.9182, 0.9181, 0.9179, 0.9178, 0.9177, 0.9174, 0.9174, 0.9174, 0.9172, 0.9164, 0.9158, 0.9152, 0.9148, 0.9146, 0.9145, 0.9071, 0.9086, 0.9048, 0.8864, 0.8813, 0.8769, 0.8689, 0.7961, 0.8694, 0.7586, 0.7869, 0.6835, 0.7021, 0.7866, 0.7113, 0.6731, 0.8195, 0.8028, 0.6048, 0.684, 0.7217, 0.4889, 0.4355, 0.4128, 0.6994, 0.5293, 0.4794, 0.4879, 0.4607, 0.15, 0.401, 0.2826, 0.5731, 0.2724, 0.3036, 0.064, 0.3331, 0.335, 0.1338, 0.2773, -0.0188, -0.1492, 0.2637, -0.06, -0.4052, -0.183]}, \"token.table\": {\"Topic\": [1, 2, 3, 4, 5, 4, 1, 3, 5, 1, 2, 3, 4, 5, 3, 5, 2, 3, 1, 2, 3, 5, 1, 2, 3, 4, 5, 1, 3, 1, 4, 3, 1, 2, 3, 4, 5, 5, 3, 5, 1, 1, 2, 3, 5, 1, 2, 2, 3, 1, 2, 3, 4, 5, 2, 3, 4, 1, 3, 4, 1, 2, 3, 5, 1, 2, 3, 1, 3, 4, 5, 1, 3, 3, 1, 2, 3, 4, 5, 2, 1, 2, 3, 4, 5, 4, 2, 1, 2, 3, 4, 5, 1, 2, 3, 5, 1, 3, 2, 3, 1, 5, 1, 2, 3, 4, 5, 4, 5, 1, 3, 1, 2, 3, 4, 5, 1, 2, 3, 4, 5, 5, 2, 3, 1, 2, 3, 4, 5, 4, 2, 3, 3, 1, 2, 3, 5, 1, 2, 3, 4, 5, 1, 2, 3, 5, 1, 3, 5, 2, 3, 2, 3, 5, 4, 2, 4, 1, 2, 3, 4, 5, 4, 2, 3, 1, 2, 3, 4, 5, 2, 4, 1, 2, 3, 4, 1, 2, 3, 4, 5, 5, 2, 3, 4, 2, 4, 2, 4, 1, 2, 3, 5, 2, 2, 3, 5, 1, 2, 5, 1, 3, 4, 1, 5, 2, 1, 4, 5, 3, 1, 3, 1, 2, 3, 4, 5, 1, 1, 3, 5, 3, 4, 5, 4, 5, 3, 4, 1, 3, 1, 2, 3, 5, 1, 3, 4, 5, 3, 5, 4, 1, 4, 3, 5, 1, 2, 3, 4, 5, 5, 1, 2, 3, 4, 5, 1, 2, 3, 4, 1, 2, 3, 4, 1, 2, 3, 4, 1, 2, 3, 4, 1, 2, 3, 4, 5, 3, 1, 2, 3, 4, 5, 1, 2, 3, 4, 5, 4, 1, 3, 2, 4, 1, 2, 3, 4, 5, 2, 2, 1, 2, 3, 4, 5, 2, 1, 2, 3, 4, 5, 1, 2, 3, 4, 5, 1, 2, 3, 4, 5, 1, 2, 3, 4, 5, 4, 4, 5, 1, 2, 3, 4, 5, 3, 1, 2, 3, 4, 5, 1, 2, 3, 4, 5, 1, 2, 3, 4, 5, 1, 2, 3, 4, 5, 1, 2, 3, 4, 5, 5, 5, 1, 2, 3, 4, 5, 5, 4, 3, 1, 2, 3, 4, 5, 1, 2, 3, 4, 5, 2, 3, 4, 5, 4, 4, 4, 1, 3, 5, 1, 2, 3, 4, 5, 3, 1, 5, 1, 2, 3, 5, 1, 2, 3, 3, 2, 3, 1, 2, 2, 2, 1, 1, 2, 3, 3, 3, 2, 3, 1, 1, 1, 2, 3, 4, 5, 1, 1, 1, 1, 3, 3, 4, 5, 1, 2, 3, 4, 5, 1, 2, 3, 4, 5, 1, 5, 1, 3, 4, 5, 1, 2, 3, 5, 3, 5, 1, 1, 2, 3, 4, 5, 1, 2, 3, 4, 5, 2, 2, 4, 3, 1, 2, 5, 4, 5, 1, 2, 3, 4, 1, 2, 3, 4, 5, 3, 3, 1, 1, 2, 3, 4, 5, 3, 5, 2, 3, 4, 5, 1, 2, 3, 4, 5, 1, 2, 3, 4, 5, 1, 2, 3, 5, 3, 1, 2, 3, 4, 5, 1, 5, 5, 4, 5, 1, 2, 3, 4, 5, 2, 1, 1, 2, 3, 4, 5, 1, 2, 3, 5, 3, 5, 1, 3, 4, 5, 1, 2, 3, 1, 2, 2, 1, 2, 3, 4, 5, 5, 1, 2, 3, 4, 5, 1, 3, 5, 1, 3, 5, 1, 3, 4, 5, 1, 2, 3, 4, 5, 2, 1, 2, 3, 4, 5, 5, 4, 5, 5, 1, 2, 3, 4, 5, 4, 1, 1, 2, 3, 4, 5, 1, 3, 1, 3, 1, 2, 3, 4, 5, 1, 2, 3, 4, 5, 5, 1, 4, 5, 5, 2, 1, 2, 3, 4, 5, 5, 3, 4, 5, 1, 2, 3, 5, 1, 2, 3, 4, 5, 1, 2, 3, 4, 5, 1, 2, 3, 4, 5, 1, 2, 3, 4, 5, 1, 2, 4, 5, 2, 4, 1, 2, 3, 4, 5, 2, 1, 2, 3, 4, 5, 2, 3, 2, 3, 1, 3, 4, 5, 1, 2, 3, 5, 3, 1, 5, 4, 1, 2, 3, 4, 5, 1, 3, 5, 3, 5, 1, 2, 3, 4, 5, 4, 1, 3, 5, 1, 2, 3, 1, 2, 3, 4, 5, 4, 5, 1, 3, 4, 5, 1, 2, 3, 4, 2, 1, 2, 3, 4, 5, 4, 3, 5, 4, 5, 5, 1, 2, 3, 4, 5, 1, 2, 3, 4, 5, 1, 2, 4, 1, 2, 3, 4, 5, 1, 1, 3, 4, 5, 5, 1, 2, 5, 1, 2, 3, 5, 1, 2, 3, 4, 5, 1, 2, 3, 4, 5, 1, 3, 1, 2, 3, 4, 5, 2, 3, 5, 4, 3, 5, 4, 2, 3, 4, 5, 2, 3, 1, 2, 3, 5, 1, 2, 3, 5, 3, 4, 1, 2, 3, 5, 1, 2, 3, 4, 5, 3, 4, 5, 1, 2, 3, 5, 1, 2, 3, 4, 5, 1, 2, 3, 2, 5, 3, 1, 2, 3, 4, 5, 1, 2, 3, 4, 5, 1, 2, 3, 4, 5, 4, 5, 1, 3, 4, 5, 1, 2, 3, 4, 5, 1, 2, 3, 4, 5, 2, 3, 5, 3, 1, 1, 2, 3, 1, 2, 3, 4, 5, 1, 2, 3, 4, 5, 1, 2, 3, 4, 5, 2, 3, 4, 5, 5, 1, 2, 3, 4, 5, 2, 3, 4, 2, 1, 2, 3, 5, 1, 1, 2, 3, 4, 5, 1, 2, 3, 4, 5, 5, 1], \"Freq\": [0.28335509186293156, 0.05419879273888288, 0.26465492360799536, 0.007923800108023812, 0.3898509653147716, 0.9899264944643891, 0.980490307029283, 0.005667574029071, 0.011335148058142, 0.05161471105958961, 0.018134898480396348, 0.0292948360067941, 0.5161471105958961, 0.3850178446607225, 0.9753873030198823, 0.01625645505033137, 0.9561649040066571, 0.03476963287296935, 0.005834248268031967, 0.5698115808444554, 0.3695023903086912, 0.05445298383496502, 0.7459019119664323, 0.028926943954376876, 0.049589046778931785, 0.01652968225964393, 0.1611644020315283, 0.9968038777136486, 0.9868616643110392, 0.9883791088149535, 0.9966432260349983, 0.9750813103516354, 0.21735919528700537, 0.10208870591544511, 0.12704995543872702, 0.211469462253422, 0.3421654429034149, 0.9931501083659655, 0.004290093810917714, 0.9953017641329096, 0.9584511609776496, 0.1125094076083774, 0.7059965327425681, 0.09282026127691136, 0.08719479089649249, 0.9790348472231533, 0.018472355607984024, 0.9902257678581438, 0.008321224939984401, 0.15469281913910332, 0.059822613651450106, 0.12206230260194871, 0.4683083391906448, 0.19578309922292764, 0.10766620199446061, 0.0021533240398892125, 0.8893228284742447, 0.9771590373325695, 0.022593272539481377, 0.9996380086276478, 0.2995854868514716, 0.030392730550149294, 0.5210182380025593, 0.14762183410072516, 0.9375652023024348, 0.048831520953251814, 0.009766304190650362, 0.008443737848294922, 0.23009185636603663, 0.5900061821496076, 0.17204115865900904, 0.033483404485624944, 0.9598575952545818, 0.9794076411521314, 0.08032170798277247, 0.5484825202252177, 0.04360321290493363, 0.16064341596554493, 0.16752813379263973, 0.9572350808487178, 0.13708843658781536, 0.036230515383922635, 0.11162915550722108, 0.01077123430332835, 0.7040470421902804, 0.9928895184578581, 0.9420551629978334, 0.104790429491356, 0.47558733384538493, 0.2519000708926827, 0.02418240680569754, 0.14307924026704377, 0.00620363981056928, 0.03722183886341567, 0.7878622559422984, 0.16749827488537053, 0.9306230462083532, 0.07023570160063043, 0.9645521310096272, 0.028369180323812564, 0.9478881109954351, 0.04874853142262238, 0.2406794227238507, 0.11474554099591151, 0.11968922643564467, 0.0637475227755064, 0.46132390971825654, 0.9968829185795067, 0.991059606746496, 0.9409355045019485, 0.04567648080106546, 0.257549327947722, 0.01637596882904591, 0.09155655299875666, 0.2642485879232408, 0.3706923853120392, 0.6020404428924777, 0.015119737150267706, 0.10583816005187394, 0.00687260779557623, 0.27078074714570344, 0.9939028329030329, 0.945940615464927, 0.047982494987351375, 0.00264965267703068, 0.04239444283249088, 0.00264965267703068, 0.00529930535406136, 0.9485756583769835, 0.9966432306312074, 0.942630202092588, 0.05049804654067436, 0.952554994333397, 0.005242710874673971, 0.6815524137076161, 0.3075723713142063, 0.005242710874673971, 0.19455645597710564, 0.0006685788865192633, 0.04212046985071359, 0.1330471984173334, 0.629801311101146, 0.5236096523851217, 0.025033130791320562, 0.13038088953812793, 0.3212585118219472, 0.07819229831881487, 0.07350076041968598, 0.8483864367591413, 0.9406414532823921, 0.04703207266411961, 0.8718729830790327, 0.044033989044395594, 0.07926118027991207, 0.9980508089118795, 0.9858447806881373, 0.9987671959305072, 0.17063997517687324, 0.011375998345124882, 0.2240196597193823, 0.06694337487708103, 0.52679623105886, 0.993203828216078, 0.9480683175054856, 0.037179149706097474, 0.0936384099511789, 0.00413110632137554, 0.07022880746338417, 0.03304885057100432, 0.7986805554659376, 0.020034551559824938, 0.9766843885414658, 0.0011775147264178878, 0.9844023112853543, 0.004710058905671551, 0.009420117811343102, 0.039265450930604656, 0.053989995029581406, 0.06544241821767442, 0.5693490384937675, 0.2732220960587907, 0.9931288358403404, 0.14438887078272325, 0.0014155771645365026, 0.853593030215511, 0.00936618974577997, 0.9881330181797868, 0.006447317700080758, 0.986439608112356, 0.36939022411557265, 0.01198948177191194, 0.10105420350611494, 0.5172604993024866, 0.9755975169716712, 0.9677386944964518, 0.0023431929648824496, 0.029289912061030623, 0.9272175721588282, 0.017831107156900543, 0.05349332147070163, 0.026074808513791056, 0.02172900709482588, 0.9517305107533736, 0.002554525984300226, 0.9962651338770881, 0.9779522470175965, 0.9974172125198966, 0.9928895560941307, 0.996595235455911, 0.9853948524695689, 0.9664308536451248, 0.024780278298592945, 0.6062235679493289, 0.06617229086770844, 0.10566220638553445, 0.17290179226723817, 0.05016286565777898, 0.9898378106199242, 0.9936993660572139, 0.951257711585743, 0.03963573798273929, 0.04695414933473311, 0.9443001143985215, 0.005217127703859235, 0.9887590583426987, 0.9888619708075571, 0.004429531953014679, 0.9922151574752881, 0.981946142444234, 0.9919913136215064, 0.6195966537402208, 0.21469306542974217, 0.16384470782796112, 0.0018832725037696682, 0.24522119074518067, 0.021484636047160843, 0.05852711199054161, 0.6741730621695299, 0.6315558585291262, 0.3664274585129386, 0.9931761454666042, 0.8774364087324965, 0.12070553770923233, 0.9273891954474177, 0.05955710429478829, 0.5481599349600148, 0.010732046919397881, 0.23280286394386174, 0.0016510841414458279, 0.2063855176807285, 0.9984680705275306, 0.32682383288325034, 0.06158380724793937, 0.169283860853638, 0.018904796643553483, 0.4233528702904855, 0.04140752342462105, 0.3998783690720547, 0.03904137922892842, 0.5193686509545327, 0.04231507007974653, 0.1676533789235527, 0.013390844961945104, 0.7761333739943382, 0.049681230920628705, 0.6308360949456575, 0.00231075492654087, 0.3177288023993696, 0.5290572044286336, 0.17502644357037503, 0.2943626550956307, 0.9902714244694093, 0.08603901121099784, 0.01000453618732533, 0.048021773699161587, 0.8263746890730722, 0.03001360856197599, 0.9777906368372768, 0.05726389928956011, 0.05420982466078358, 0.3519821009664962, 0.18553503369817476, 0.35121858230930203, 0.16696763727833036, 0.09461499445772055, 0.34729268553892717, 0.0033393527455666074, 0.388478036067582, 0.9963635527125959, 0.9907564824472657, 0.00669430055707612, 0.9988638864186068, 0.9915559372914065, 0.23027685025486808, 0.10722815164539659, 0.2794963296986567, 0.03164109392814981, 0.35156771031277567, 0.9539305179335859, 0.9620399760451307, 0.22495565971917614, 0.1740397696592803, 0.2749458063234375, 0.010183178011979167, 0.3156785183713542, 0.9637229969559713, 0.0601264750405292, 0.014029510842790145, 0.024050590016211678, 0.016033726677474453, 0.8858633989304635, 0.18954477569512038, 0.0763837155786306, 0.17709705908230652, 0.002263221202329796, 0.5550549998713824, 0.002917984573525476, 0.26076171234323114, 0.6419566061756047, 0.06552201724189023, 0.028914574410388805, 0.003729384388154094, 0.8652171780517498, 0.007458768776308188, 0.03356445949338684, 0.08950522531569825, 0.9895085679944777, 0.010913838063553359, 0.9877023447515789, 0.13968000964886998, 0.019101539781042048, 0.1293333422674722, 0.09789539137784051, 0.6140349142114142, 0.9589614117679216, 0.4481781810220626, 0.18084382742995508, 0.07525799029693783, 0.12692765527692498, 0.168488037978219, 0.7161193265448376, 0.0027649394847291025, 0.09953782145024768, 0.07465336608768577, 0.1050677004197059, 0.07816735081364953, 0.04193083056891134, 0.05176645749248313, 0.026918557896091228, 0.8013447619836389, 0.025568873612176756, 0.015590776592790704, 0.17773485315781404, 0.05425590254291165, 0.7271538202877584, 0.10871850503229248, 0.006471339585255505, 0.10354143336408808, 0.002588535834102202, 0.7785021521062373, 0.9983416293480123, 0.9975157000899992, 0.2108661722524643, 0.02402272848445796, 0.10988173954927992, 0.008007576161485987, 0.6477239383957554, 0.9886235409238135, 0.9895087081775433, 0.9812340299429637, 0.30009292218067884, 0.186427884224152, 0.11194284041173098, 0.06501295731604377, 0.3366896200075909, 0.2482132741255697, 0.06701758401390383, 0.20415541796828107, 0.007446398223767092, 0.4728462872092103, 0.003990568942492894, 0.002660379294995263, 0.17558503346968737, 0.8167364435635458, 0.992691279443659, 0.9906293976514317, 0.9926699140840086, 0.006343594076598526, 0.650218392851349, 0.3425540801363204, 0.031284254088447025, 0.0032363021470807264, 0.02589041717664581, 0.15318496829515438, 0.7875001891229768, 0.9847494866999781, 0.9834829109012581, 0.9948993766003045, 0.11342496245905413, 0.6546240690493982, 0.20740564563941327, 0.02592570570492666, 0.9664884601308018, 0.008331797070093119, 0.024995391210279355, 0.9729762423333248, 0.9601931238242559, 0.9886803869163182, 0.014374558111160025, 0.9774699515588817, 0.9801879145974048, 0.9721050111539814, 0.9799604865368704, 0.6599986811441587, 0.17547583982801046, 0.16369014909329332, 0.9843372546914845, 0.9942985923224905, 0.9922614078649699, 0.007037314949396949, 0.9948143756064178, 0.9921517390920204, 0.07055243793199459, 0.02420916987862559, 0.09476160781062018, 0.0020750717038821934, 0.8085862739460947, 0.9764087979075025, 0.9770817074533026, 0.9856206439641696, 0.9657121531821987, 0.030283656371567207, 0.01090325312388656, 0.030892550517678592, 0.9594862749020174, 0.420322643812032, 0.005157333052908368, 0.04254799768649403, 0.4925253065527491, 0.03996933116003985, 0.026119934121663337, 0.11369853676488746, 0.023815234052104804, 0.8189367580497975, 0.017669367199948726, 0.9636589597081968, 0.019273179194163936, 0.8282579433216325, 0.006112604747761125, 0.01222520949552225, 0.15281511869402814, 0.005848022947654784, 0.01754406884296435, 0.9415316945724203, 0.0350881376859287, 0.9458984752158036, 0.04235366306936434, 0.9940749306321169, 0.19042355116274007, 0.05587545515338617, 0.19042355116274007, 0.041571338634119305, 0.5216532493120133, 0.3198619598183875, 0.055346900912395136, 0.16388432997436483, 0.005750327367521573, 0.4542758620342042, 0.9973496180693942, 0.9849636654352854, 0.9982397632113938, 0.9843080984096979, 0.8081322192556777, 0.0023492215676037143, 0.18793772540829715, 0.962657975014861, 0.03587545248502587, 0.19002359567977012, 0.7456360656564893, 0.06196421598253374, 0.002065473866084458, 0.16594648596335596, 0.0454110316318643, 0.16818900604394185, 0.06559371235713732, 0.5539024599047152, 0.9934711935449919, 0.9685269170586464, 0.971782018050657, 0.381910140675541, 0.053760659656337584, 0.06493170581869345, 0.341415098337001, 0.15779102704327655, 0.00412730159812972, 0.9946796851492626, 0.9787580947638682, 0.03569053880588969, 0.017845269402944845, 0.9480299370314449, 0.37606579297245046, 0.14427681365609735, 0.2246933983168729, 0.003153591555324532, 0.2522873244259626, 0.30157910952767786, 0.27918914533547146, 0.24354797784583682, 0.0013708141342167175, 0.17455033309026202, 0.3841280304471386, 0.5312408931715746, 0.040864684090121124, 0.04290791829462718, 0.9649067818125, 0.005548109902935107, 0.3017318231827016, 0.510852888754871, 0.14553119053083624, 0.036276103211498774, 0.01395303679180819, 0.9846857393076066, 0.9956774446254805, 0.3527806493386767, 0.646764523787574, 0.01838747723608615, 0.9451163299348281, 0.012258318157390766, 0.004903327262956307, 0.019613309051825227, 0.9679228313998336, 0.9646355653333857, 0.18856826680018338, 0.2691092892300922, 0.0907684538495798, 0.29212100992435186, 0.15980361593235878, 0.07337490181739173, 0.6145148027206557, 0.2629267315123204, 0.04891660121159449, 0.896309939310877, 0.10456949291960231, 0.02413945107435519, 0.1134554200494694, 0.748322983305011, 0.11104147494203388, 0.6903222037675028, 0.18095824758953957, 0.12734098904449082, 0.9586392727720343, 0.03260677798544334, 0.9422238467975029, 0.3217897425952392, 0.03461935502347371, 0.16061110609250917, 0.049375145689216596, 0.4341607638189735, 0.9952934570713726, 0.14624433490787916, 0.12132377559622262, 0.07148265697290954, 0.019674125772360426, 0.6413765001789499, 0.9835319930246498, 0.9814978267438143, 0.016922376323169213, 0.10602546345640677, 0.021205092691281353, 0.8720594369289457, 0.079677054583881, 0.00817200559834677, 0.7988135472383967, 0.11236507697726808, 0.19803343085321687, 0.09498270109441327, 0.28274773182931523, 0.09351578679179685, 0.330789175240003, 0.9712634071030936, 0.13883951746596548, 0.016931648471459206, 0.10666938537019299, 0.1444834002897852, 0.5931720847834541, 0.9986190928753971, 0.9928896431399643, 0.9883034527967777, 0.9973913377363286, 0.10720875895839871, 0.028975340259026677, 0.09755031220538982, 0.5476339308956042, 0.21828089661800099, 0.9943798238098969, 0.9858130980854574, 0.39833674878587005, 0.08730668466539618, 0.27361291354958983, 0.15824336595603058, 0.08262954084403566, 0.03874593812564762, 0.9492754840783666, 0.002867032429240591, 0.9948602529464851, 0.13783229015437656, 0.016727219678929196, 0.11441418260387569, 0.3305298608556409, 0.4007841835071435, 0.18644356526550165, 0.5660493828330997, 0.07222588564339254, 0.16796717591486637, 0.008398358795743318, 0.9930831606961213, 0.0335088042740868, 0.0019711061337698114, 0.9638708994134378, 0.9883035993325568, 0.9855548359297185, 0.23819351839299444, 0.06866840169888128, 0.31329958275114583, 0.00858355021236016, 0.37231149046112194, 0.9972122514236378, 0.9617971773087354, 0.9953139189314212, 0.998886755824673, 0.04133589181641714, 0.011810254804690612, 0.6790896512697102, 0.26573073310553874, 0.026447045107573147, 0.00480855365592239, 0.012021384139805975, 0.8030284605390392, 0.15627799381747767, 0.11298916215043543, 0.37386119829188197, 0.43201738469284134, 0.02658568521186716, 0.05317137042373432, 0.026689317663158525, 0.4783546935012259, 0.030795366534413685, 0.3223248363935299, 0.14371171049393053, 0.06377347805127154, 0.01804118129082024, 0.026851990758430123, 0.10489058890011767, 0.7866794167508825, 0.033792796586363485, 0.13339261810406638, 0.738105820175834, 0.0924855485521527, 0.022308993574395024, 0.972672119843623, 0.009414004720348566, 0.0035302517701307117, 0.007060503540261423, 0.6707478363248353, 0.31066215577150263, 0.9926679996449785, 0.43161165455764117, 0.0708153253585591, 0.025328109069849603, 0.03566611277182903, 0.4362637562235319, 0.8926680710272197, 0.1100549676608901, 0.9155406372224136, 0.07629505310186781, 0.04836312671315902, 0.5373680745906557, 0.029555244102486066, 0.38421817333231884, 0.9280584939557418, 0.005184684323775094, 0.005184684323775094, 0.06221621188530113, 0.9620130362729552, 0.9730933369041995, 0.021269799713752993, 0.9952982411421415, 0.3232797269064136, 0.34534332844602045, 0.16787522910570438, 0.12950374816725765, 0.03453433284460204, 0.9369753611569492, 0.03268518701710288, 0.027237655847585734, 0.990567396513743, 0.010767036918627642, 0.6537448816906556, 0.0009571667374680168, 0.011486000849616203, 0.004785833687340085, 0.3302225244264658, 0.993246949437451, 0.035027341147284535, 0.8990350894469697, 0.05837890191214089, 0.009592547649045673, 0.911292026659339, 0.07674038119236538, 0.013835130650104534, 0.0019764472357292192, 0.0029646708535938284, 0.8745779018101795, 0.10672815072937783, 0.9766360398428138, 0.019830173397823628, 0.590907970161252, 0.03586435657048061, 0.37230617773165586, 0.0017078265033562195, 0.024682750272673585, 0.04936550054534717, 0.004113791712112264, 0.9214893435131472, 0.994679717000802, 0.1206242127264564, 0.00993375869511994, 0.08656561148604519, 0.740774576978944, 0.04257325155051402, 0.9967688564690796, 0.00393319456103154, 0.9950982239409796, 0.932051731023224, 0.06530298752392015, 0.9984547220187363, 0.3398069737274203, 0.1827141838930379, 0.2041947465886783, 0.008281662726030046, 0.26475440527277305, 0.0010208748380812782, 0.0010208748380812782, 0.0010208748380812782, 0.906536856216175, 0.09085786058923374, 0.017722186418248558, 0.16456315959802234, 0.8152205752394337, 0.19753949189280653, 0.0574928371926825, 0.17346129511980274, 0.033906032190556344, 0.5380739891110029, 0.9835254625457557, 0.023035528937397284, 0.9029927343459736, 0.004607105787479457, 0.06910658681219185, 0.9943712854213318, 0.009758140129161208, 0.009758140129161208, 0.9806930829807013, 0.3835600236621447, 0.048876979257163146, 0.23030169887273483, 0.33633989115946167, 0.382109231970738, 0.13390881566831667, 0.07079255860172154, 0.06652794663776242, 0.34799233625906495, 0.05373985005031343, 0.7075746923291268, 0.18808947517609703, 0.013434962512578358, 0.03582656670020896, 0.9907673531715572, 0.004717939777007415, 0.11455846531920606, 0.062243432823435293, 0.21804294565755553, 0.150835312670288, 0.45403338421512, 0.8434355741936755, 0.07978444620750985, 0.06838666817786558, 0.9910634324734775, 0.9856207531599195, 0.012717687137547349, 0.9907803774356133, 0.21907713463722284, 0.7804622921451064, 0.12736491865266572, 0.8719598276990191, 0.8700489680413284, 0.12000675421259702, 0.8666379198428255, 0.003359061704817153, 0.03359061704817153, 0.09741278943969743, 0.23633973061741356, 0.05387155624367515, 0.2525591238950792, 0.4570393320027924, 0.9962929322948011, 0.0029131372289321667, 0.46357504128566646, 0.008746698892182386, 0.37829472708688816, 0.14942277274144908, 0.012342289960398831, 0.005049118620163158, 0.08246893746266491, 0.019635461300634503, 0.880790692628462, 0.9830827300020705, 0.04493659408072094, 0.95490262421532, 0.08064961725980087, 0.014232285398788388, 0.7258465553382079, 0.17553151991839014, 0.20407005139089018, 0.006402197690694594, 0.2824969731018989, 0.00960329653604189, 0.49697059574016783, 0.9440050778705145, 0.04074842062750422, 0.00679140343791737, 0.9651700255299519, 0.031472935615107125, 0.9662486172472522, 0.7091136557647942, 0.06869538540221444, 0.03323970261397473, 0.08199126644780433, 0.10636704836471914, 0.26137203041963986, 0.11305859920477444, 0.2018035211612103, 0.017019574073837012, 0.40664625197846294, 0.22585831234568868, 0.17389704416799956, 0.19468155143907523, 0.004849718363250984, 0.4004481734227241, 0.004119018593834072, 0.9954294935099006, 0.845576758264301, 0.11483141161613965, 0.003479739745943626, 0.03827713720537988, 0.3193569891730582, 0.1321094381631307, 0.1543127050813039, 0.020352994674992124, 0.37412504757121884, 0.963959328844033, 0.0008083516384436336, 0.030313186441636258, 0.002020879096109084, 0.0032334065537745343, 0.015168134204800865, 0.9707605891072554, 0.9916887600887618, 0.9894302887903103, 0.9974178407920778, 0.1173602789468174, 0.6326452536976875, 0.24939059276198697, 0.16996574411898133, 0.03553829195215064, 0.06077562971527211, 0.20962441774674362, 0.5243185682215848, 0.3732164014374968, 0.023119600089048474, 0.10156110039117723, 0.1593601006137984, 0.3426655013198256, 0.1579705782542386, 0.37912938781017264, 0.0692061580923331, 0.0030089633953188305, 0.38966075969378855, 0.01112525675188158, 0.024475564854139476, 0.06230143781053685, 0.901145796902408, 0.9985024814896407, 0.02328025054659353, 0.23513053052059465, 0.01746018790994515, 0.6739632533238827, 0.05005253867517609, 0.8218794172766712, 0.1763201518032997, 0.9928897405373285, 0.9600593955990468, 0.06527747432983143, 0.24353519269206342, 0.3489834204556373, 0.3424556730226541, 0.9766711739553054, 0.14724888587061896, 0.038231715868721115, 0.08479113222369832, 0.12983642121753805, 0.5999729668507224, 0.36716186990176236, 0.047350685124751594, 0.12575099983950425, 0.004657444438500157, 0.45487707349351536, 0.9977629895165748, 0.98700946469414], \"Term\": [\"able\", \"able\", \"able\", \"able\", \"able\", \"absence\", \"accept\", \"accept\", \"accept\", \"access\", \"access\", \"access\", \"access\", \"access\", \"accountable\", \"accountable\", \"ack\", \"ack\", \"active\", \"active\", \"active\", \"active\", \"additional\", \"additional\", \"additional\", \"additional\", \"additional\", \"affecting\", \"agency\", \"aging\", \"agricola\", \"align\", \"also\", \"also\", \"also\", \"also\", \"also\", \"altagracia\", \"ana\", \"ana\", \"anne\", \"applied\", \"applied\", \"applied\", \"applied\", \"approached\", \"approached\", \"approved\", \"approved\", \"area\", \"area\", \"area\", \"area\", \"area\", \"association\", \"association\", \"association\", \"aware\", \"aware\", \"baba\", \"back\", \"back\", \"back\", \"back\", \"bale\", \"bale\", \"bale\", \"bank\", \"bank\", \"bank\", \"bank\", \"bead\", \"bead\", \"beadwork\", \"bean\", \"bean\", \"bean\", \"bean\", \"bean\", \"beth\", \"better\", \"better\", \"better\", \"better\", \"better\", \"boleo\", \"bora\", \"born\", \"born\", \"born\", \"born\", \"born\", \"br\", \"br\", \"br\", \"br\", \"breadwinner\", \"breadwinner\", \"breed\", \"breed\", \"budget\", \"budget\", \"buy\", \"buy\", \"buy\", \"buy\", \"buy\", \"cacao\", \"cafeteria\", \"capable\", \"capable\", \"capital\", \"capital\", \"capital\", \"capital\", \"capital\", \"care\", \"care\", \"care\", \"care\", \"care\", \"carmen\", \"catholic\", \"catholic\", \"cement\", \"cement\", \"cement\", \"cement\", \"cement\", \"centro\", \"choir\", \"choir\", \"chosen\", \"church\", \"church\", \"church\", \"church\", \"client\", \"client\", \"client\", \"client\", \"client\", \"clothes\", \"clothes\", \"clothes\", \"clothes\", \"clothing\", \"clothing\", \"clothing\", \"co\", \"co\", \"coffee\", \"coffee\", \"coffee\", \"commercialize\", \"committee\", \"communal\", \"community\", \"community\", \"community\", \"community\", \"community\", \"compiled\", \"consumption\", \"consumption\", \"continue\", \"continue\", \"continue\", \"continue\", \"continue\", \"county\", \"county\", \"cow\", \"cow\", \"cow\", \"cow\", \"credit\", \"credit\", \"credit\", \"credit\", \"credit\", \"cristobal\", \"crop\", \"crop\", \"crop\", \"cultivate\", \"cultivate\", \"cultivation\", \"cultivation\", \"customer\", \"customer\", \"customer\", \"customer\", \"cwa\", \"dairy\", \"dairy\", \"dairy\", \"david\", \"david\", \"david\", \"debt\", \"debt\", \"debt\", \"description\", \"description\", \"discipline\", \"disclaimer\", \"dispersed\", \"domingo\", \"dorcas\", \"drug\", \"drug\", \"due\", \"due\", \"due\", \"due\", \"due\", \"eb\", \"ebony\", \"economically\", \"economically\", \"economy\", \"economy\", \"economy\", \"edgar\", \"ella\", \"em\", \"em\", \"embroidery\", \"empowering\", \"enable\", \"enable\", \"enable\", \"enable\", \"entrepreneur\", \"entrepreneur\", \"entrepreneur\", \"entrepreneur\", \"esperanza\", \"esperanza\", \"evaluating\", \"event\", \"event\", \"excited\", \"excited\", \"expand\", \"expand\", \"expand\", \"expand\", \"expand\", \"explains\", \"family\", \"family\", \"family\", \"family\", \"family\", \"farm\", \"farm\", \"farm\", \"farm\", \"farmer\", \"farmer\", \"farmer\", \"farmer\", \"farming\", \"farming\", \"farming\", \"farming\", \"fee\", \"fee\", \"fee\", \"fertile\", \"finance\", \"finance\", \"finance\", \"finance\", \"finance\", \"fior\", \"first\", \"first\", \"first\", \"first\", \"first\", \"five\", \"five\", \"five\", \"five\", \"five\", \"flooding\", \"follows\", \"follows\", \"font\", \"forgotten\", \"four\", \"four\", \"four\", \"four\", \"four\", \"gaitheri\", \"gatangara\", \"get\", \"get\", \"get\", \"get\", \"get\", \"gitui\", \"goal\", \"goal\", \"goal\", \"goal\", \"goal\", \"good\", \"good\", \"good\", \"good\", \"good\", \"group\", \"group\", \"group\", \"group\", \"group\", \"grows\", \"grows\", \"grows\", \"grows\", \"grows\", \"guarantor\", \"guayaquil\", \"guayaquil\", \"help\", \"help\", \"help\", \"help\", \"help\", \"hen\", \"high\", \"high\", \"high\", \"high\", \"high\", \"higher\", \"higher\", \"higher\", \"higher\", \"higher\", \"home\", \"home\", \"home\", \"home\", \"home\", \"hope\", \"hope\", \"hope\", \"hope\", \"hope\", \"house\", \"house\", \"house\", \"house\", \"house\", \"href\", \"http\", \"husband\", \"husband\", \"husband\", \"husband\", \"husband\", \"id\", \"imperative\", \"incentive\", \"income\", \"income\", \"income\", \"income\", \"income\", \"increase\", \"increase\", \"increase\", \"increase\", \"increase\", \"information\", \"information\", \"information\", \"information\", \"infrastructure\", \"insecticide\", \"intermediary\", \"international\", \"international\", \"international\", \"invest\", \"invest\", \"invest\", \"invest\", \"invest\", \"isinya\", \"jackson\", \"jewelry\", \"joined\", \"joined\", \"joined\", \"joined\", \"junior\", \"junior\", \"junior\", \"justify\", \"kabete\", \"kadet\", \"kale\", \"kale\", \"kanunga\", \"karaba\", \"kayole\", \"kenya\", \"kenya\", \"kenya\", \"kerosene\", \"kes\", \"kiambu\", \"kiambu\", \"kibera\", \"kisumu\", \"kiva\", \"kiva\", \"kiva\", \"kiva\", \"kiva\", \"kmet\", \"knitting\", \"kongowea\", \"ksh\", \"ksh\", \"la\", \"la\", \"la\", \"lack\", \"lack\", \"lack\", \"lack\", \"lack\", \"land\", \"land\", \"land\", \"land\", \"land\", \"lease\", \"lease\", \"lender\", \"lender\", \"lender\", \"lender\", \"lending\", \"lending\", \"lending\", \"lending\", \"li\", \"li\", \"license\", \"life\", \"life\", \"life\", \"life\", \"life\", \"like\", \"like\", \"like\", \"like\", \"like\", \"litre\", \"ltd\", \"lucia\", \"maasai\", \"machine\", \"machine\", \"machine\", \"machinery\", \"machinery\", \"maize\", \"maize\", \"maize\", \"maize\", \"make\", \"make\", \"make\", \"make\", \"make\", \"malaba\", \"malakisi\", \"manual\", \"many\", \"many\", \"many\", \"many\", \"many\", \"mara\", \"mara\", \"maragwa\", \"maria\", \"maria\", \"maria\", \"market\", \"market\", \"market\", \"market\", \"market\", \"married\", \"married\", \"married\", \"married\", \"married\", \"mary\", \"mary\", \"mary\", \"mary\", \"mechanism\", \"member\", \"member\", \"member\", \"member\", \"member\", \"merchandise\", \"merchandise\", \"microinsurance\", \"mifex\", \"mifex\", \"milk\", \"milk\", \"milk\", \"milk\", \"milk\", \"mistress\", \"mlolongo\", \"month\", \"month\", \"month\", \"month\", \"month\", \"monthly\", \"monthly\", \"monthly\", \"monthly\", \"mujeres\", \"mujeres\", \"must\", \"must\", \"must\", \"must\", \"nairobi\", \"nairobi\", \"nairobi\", \"nakuru\", \"nakuru\", \"napier\", \"need\", \"need\", \"need\", \"need\", \"need\", \"negocio\", \"new\", \"new\", \"new\", \"new\", \"new\", \"nicholas\", \"note\", \"note\", \"offer\", \"offer\", \"offer\", \"often\", \"often\", \"often\", \"often\", \"one\", \"one\", \"one\", \"one\", \"one\", \"operative\", \"order\", \"order\", \"order\", \"order\", \"order\", \"org\", \"paddy\", \"page\", \"pant\", \"part\", \"part\", \"part\", \"part\", \"part\", \"participate\", \"paul\", \"pay\", \"pay\", \"pay\", \"pay\", \"pay\", \"peer\", \"peer\", \"pemci\", \"pemci\", \"people\", \"people\", \"people\", \"people\", \"people\", \"per\", \"per\", \"per\", \"per\", \"per\", \"perfume\", \"personal\", \"personal\", \"personal\", \"php\", \"phyllis\", \"plan\", \"plan\", \"plan\", \"plan\", \"plan\", \"please\", \"pledge\", \"plowing\", \"pm\", \"poverty\", \"poverty\", \"poverty\", \"poverty\", \"prepare\", \"prepare\", \"prepare\", \"prepare\", \"prepare\", \"primary\", \"primary\", \"primary\", \"primary\", \"primary\", \"produce\", \"produce\", \"produce\", \"produce\", \"produce\", \"product\", \"product\", \"product\", \"product\", \"product\", \"production\", \"production\", \"production\", \"production\", \"productive\", \"productive\", \"program\", \"program\", \"program\", \"program\", \"program\", \"pt\", \"purchase\", \"purchase\", \"purchase\", \"purchase\", \"purchase\", \"rear\", \"rear\", \"rearing\", \"rearing\", \"receive\", \"receive\", \"receive\", \"receive\", \"recent\", \"recent\", \"recent\", \"recent\", \"relieve\", \"remains\", \"remains\", \"removing\", \"repay\", \"repay\", \"repay\", \"repay\", \"repay\", \"represent\", \"represent\", \"represent\", \"representative\", \"representative\", \"requesting\", \"requesting\", \"requesting\", \"requesting\", \"requesting\", \"reserved\", \"respective\", \"respective\", \"respective\", \"revolving\", \"revolving\", \"revolving\", \"rice\", \"rice\", \"rice\", \"rice\", \"rice\", \"rio\", \"rio\", \"risk\", \"risk\", \"risk\", \"risk\", \"river\", \"river\", \"river\", \"river\", \"roman\", \"rural\", \"rural\", \"rural\", \"rural\", \"rural\", \"salitre\", \"san\", \"san\", \"santa\", \"santa\", \"santo\", \"school\", \"school\", \"school\", \"school\", \"school\", \"sector\", \"sector\", \"sector\", \"sector\", \"sector\", \"seed\", \"seed\", \"seed\", \"selling\", \"selling\", \"selling\", \"selling\", \"selling\", \"senior\", \"share\", \"share\", \"share\", \"share\", \"shell\", \"shes\", \"shes\", \"shes\", \"shop\", \"shop\", \"shop\", \"shop\", \"since\", \"since\", \"since\", \"since\", \"since\", \"size\", \"size\", \"size\", \"size\", \"size\", \"slum\", \"slum\", \"small\", \"small\", \"small\", \"small\", \"small\", \"society\", \"society\", \"society\", \"soil\", \"solidarity\", \"solidarity\", \"sowed\", \"span\", \"span\", \"spanish\", \"spanish\", \"st\", \"st\", \"stall\", \"stall\", \"stall\", \"stall\", \"started\", \"started\", \"started\", \"started\", \"steer\", \"steer\", \"stock\", \"stock\", \"stock\", \"stock\", \"store\", \"store\", \"store\", \"store\", \"store\", \"strengthens\", \"su\", \"su\", \"successfully\", \"successfully\", \"successfully\", \"successfully\", \"support\", \"support\", \"support\", \"support\", \"support\", \"tailoring\", \"tailoring\", \"tailoring\", \"tank\", \"tank\", \"text\", \"therefore\", \"therefore\", \"therefore\", \"therefore\", \"therefore\", \"three\", \"three\", \"three\", \"three\", \"three\", \"time\", \"time\", \"time\", \"time\", \"time\", \"translated\", \"translated\", \"transport\", \"transport\", \"transport\", \"transport\", \"two\", \"two\", \"two\", \"two\", \"two\", \"u\", \"u\", \"u\", \"u\", \"u\", \"uganda\", \"uganda\", \"una\", \"undertaken\", \"unsettled\", \"usd\", \"usd\", \"usd\", \"use\", \"use\", \"use\", \"use\", \"use\", \"used\", \"used\", \"used\", \"used\", \"used\", \"vegetable\", \"vegetable\", \"vegetable\", \"vegetable\", \"vegetable\", \"visit\", \"visit\", \"visit\", \"visit\", \"volunteer\", \"water\", \"water\", \"water\", \"water\", \"water\", \"weec\", \"weec\", \"weed\", \"wendani\", \"woman\", \"woman\", \"woman\", \"woman\", \"wool\", \"work\", \"work\", \"work\", \"work\", \"work\", \"would\", \"would\", \"would\", \"would\", \"would\", \"www\", \"zipporah\"]}, \"R\": 30, \"lambda.step\": 0.01, \"plot.opts\": {\"xlab\": \"PC1\", \"ylab\": \"PC2\"}, \"topic.order\": [1, 2, 3, 4, 5]};\n",
       "\n",
       "function LDAvis_load_lib(url, callback){\n",
       "  var s = document.createElement('script');\n",
       "  s.src = url;\n",
       "  s.async = true;\n",
       "  s.onreadystatechange = s.onload = callback;\n",
       "  s.onerror = function(){console.warn(\"failed to load library \" + url);};\n",
       "  document.getElementsByTagName(\"head\")[0].appendChild(s);\n",
       "}\n",
       "\n",
       "if(typeof(LDAvis) !== \"undefined\"){\n",
       "   // already loaded: just create the visualization\n",
       "   !function(LDAvis){\n",
       "       new LDAvis(\"#\" + \"ldavis_el2578425375496478721975116813\", ldavis_el2578425375496478721975116813_data);\n",
       "   }(LDAvis);\n",
       "}else if(typeof define === \"function\" && define.amd){\n",
       "   // require.js is available: use it to load d3/LDAvis\n",
       "   require.config({paths: {d3: \"https://d3js.org/d3.v5\"}});\n",
       "   require([\"d3\"], function(d3){\n",
       "      window.d3 = d3;\n",
       "      LDAvis_load_lib(\"https://cdn.jsdelivr.net/gh/bmabey/pyLDAvis@3.4.0/pyLDAvis/js/ldavis.v3.0.0.js\", function(){\n",
       "        new LDAvis(\"#\" + \"ldavis_el2578425375496478721975116813\", ldavis_el2578425375496478721975116813_data);\n",
       "      });\n",
       "    });\n",
       "}else{\n",
       "    // require.js not available: dynamically load d3 & LDAvis\n",
       "    LDAvis_load_lib(\"https://d3js.org/d3.v5.js\", function(){\n",
       "         LDAvis_load_lib(\"https://cdn.jsdelivr.net/gh/bmabey/pyLDAvis@3.4.0/pyLDAvis/js/ldavis.v3.0.0.js\", function(){\n",
       "                 new LDAvis(\"#\" + \"ldavis_el2578425375496478721975116813\", ldavis_el2578425375496478721975116813_data);\n",
       "            })\n",
       "         });\n",
       "}\n",
       "</script>"
      ],
      "text/plain": [
       "<IPython.core.display.HTML object>"
      ]
     },
     "execution_count": 14,
     "metadata": {},
     "output_type": "execute_result"
    }
   ],
   "source": [
    "import pyLDAvis\n",
    "import pyLDAvis.gensim_models as gensimvis\n",
    "\n",
    "# Visualize the topics using pyLDAvis\n",
    "pyLDAvis.enable_notebook()\n",
    "vis = gensimvis.prepare(lda_model, corpus, dictionary, sort_topics=False)\n",
    "\n",
    "# Display the pyLDAvis visualization\n",
    "pyLDAvis.display(vis)"
   ]
  },
  {
   "cell_type": "code",
   "execution_count": 15,
   "metadata": {},
   "outputs": [
    {
     "data": {
      "text/html": [
       "<div>\n",
       "<style scoped>\n",
       "    .dataframe tbody tr th:only-of-type {\n",
       "        vertical-align: middle;\n",
       "    }\n",
       "\n",
       "    .dataframe tbody tr th {\n",
       "        vertical-align: top;\n",
       "    }\n",
       "\n",
       "    .dataframe thead th {\n",
       "        text-align: right;\n",
       "    }\n",
       "</style>\n",
       "<table border=\"1\" class=\"dataframe\">\n",
       "  <thead>\n",
       "    <tr style=\"text-align: right;\">\n",
       "      <th></th>\n",
       "      <th>Processed_Text</th>\n",
       "      <th>Topic_1</th>\n",
       "      <th>Topic_2</th>\n",
       "      <th>Topic_3</th>\n",
       "      <th>Topic_4</th>\n",
       "      <th>Topic_5</th>\n",
       "      <th>Dominant_Topic</th>\n",
       "    </tr>\n",
       "  </thead>\n",
       "  <tbody>\n",
       "    <tr>\n",
       "      <th>0</th>\n",
       "      <td>[business, description, mauro, co, owns, resta...</td>\n",
       "      <td>0.001262</td>\n",
       "      <td>0.024441</td>\n",
       "      <td>0.001353</td>\n",
       "      <td>0.000504</td>\n",
       "      <td>0.972439</td>\n",
       "      <td>Topic_5</td>\n",
       "    </tr>\n",
       "    <tr>\n",
       "      <th>1</th>\n",
       "      <td>[rosa, iris, brilliant, entrepreneur, sell, si...</td>\n",
       "      <td>0.001079</td>\n",
       "      <td>0.000682</td>\n",
       "      <td>0.001158</td>\n",
       "      <td>0.000431</td>\n",
       "      <td>0.996649</td>\n",
       "      <td>Topic_5</td>\n",
       "    </tr>\n",
       "    <tr>\n",
       "      <th>2</th>\n",
       "      <td>[sirote, married, six, child, two, child, marr...</td>\n",
       "      <td>0.001046</td>\n",
       "      <td>0.000661</td>\n",
       "      <td>0.995980</td>\n",
       "      <td>0.000418</td>\n",
       "      <td>0.001896</td>\n",
       "      <td>Topic_3</td>\n",
       "    </tr>\n",
       "    <tr>\n",
       "      <th>3</th>\n",
       "      <td>[david, mwangi, kimani, year, old, married, on...</td>\n",
       "      <td>0.994863</td>\n",
       "      <td>0.000829</td>\n",
       "      <td>0.001406</td>\n",
       "      <td>0.000524</td>\n",
       "      <td>0.002378</td>\n",
       "      <td>Topic_1</td>\n",
       "    </tr>\n",
       "    <tr>\n",
       "      <th>4</th>\n",
       "      <td>[nilda, persistent, woman, learned, strive, be...</td>\n",
       "      <td>0.001173</td>\n",
       "      <td>0.000742</td>\n",
       "      <td>0.047621</td>\n",
       "      <td>0.000469</td>\n",
       "      <td>0.949994</td>\n",
       "      <td>Topic_5</td>\n",
       "    </tr>\n",
       "    <tr>\n",
       "      <th>...</th>\n",
       "      <td>...</td>\n",
       "      <td>...</td>\n",
       "      <td>...</td>\n",
       "      <td>...</td>\n",
       "      <td>...</td>\n",
       "      <td>...</td>\n",
       "      <td>...</td>\n",
       "    </tr>\n",
       "    <tr>\n",
       "      <th>5449</th>\n",
       "      <td>[mary, kanyi, married, five, child, attended, ...</td>\n",
       "      <td>0.001238</td>\n",
       "      <td>0.383899</td>\n",
       "      <td>0.612124</td>\n",
       "      <td>0.000495</td>\n",
       "      <td>0.002244</td>\n",
       "      <td>Topic_3</td>\n",
       "    </tr>\n",
       "    <tr>\n",
       "      <th>5450</th>\n",
       "      <td>[irene, general, store, sell, clothes, school,...</td>\n",
       "      <td>0.000779</td>\n",
       "      <td>0.000493</td>\n",
       "      <td>0.000836</td>\n",
       "      <td>0.000311</td>\n",
       "      <td>0.997581</td>\n",
       "      <td>Topic_5</td>\n",
       "    </tr>\n",
       "    <tr>\n",
       "      <th>5451</th>\n",
       "      <td>[kevin, year, old, orphan, lost, parent, hiv, ...</td>\n",
       "      <td>0.491629</td>\n",
       "      <td>0.348973</td>\n",
       "      <td>0.154791</td>\n",
       "      <td>0.000832</td>\n",
       "      <td>0.003775</td>\n",
       "      <td>Topic_1</td>\n",
       "    </tr>\n",
       "    <tr>\n",
       "      <th>5452</th>\n",
       "      <td>[business, description, last, twelve, year, se...</td>\n",
       "      <td>0.000870</td>\n",
       "      <td>0.000550</td>\n",
       "      <td>0.000933</td>\n",
       "      <td>0.043122</td>\n",
       "      <td>0.954524</td>\n",
       "      <td>Topic_5</td>\n",
       "    </tr>\n",
       "    <tr>\n",
       "      <th>5453</th>\n",
       "      <td>[elida, luis, year, old, living, without, job,...</td>\n",
       "      <td>0.000798</td>\n",
       "      <td>0.000504</td>\n",
       "      <td>0.660693</td>\n",
       "      <td>0.000319</td>\n",
       "      <td>0.337685</td>\n",
       "      <td>Topic_3</td>\n",
       "    </tr>\n",
       "  </tbody>\n",
       "</table>\n",
       "<p>5454 rows × 7 columns</p>\n",
       "</div>"
      ],
      "text/plain": [
       "                                         Processed_Text   Topic_1   Topic_2  \\\n",
       "0     [business, description, mauro, co, owns, resta...  0.001262  0.024441   \n",
       "1     [rosa, iris, brilliant, entrepreneur, sell, si...  0.001079  0.000682   \n",
       "2     [sirote, married, six, child, two, child, marr...  0.001046  0.000661   \n",
       "3     [david, mwangi, kimani, year, old, married, on...  0.994863  0.000829   \n",
       "4     [nilda, persistent, woman, learned, strive, be...  0.001173  0.000742   \n",
       "...                                                 ...       ...       ...   \n",
       "5449  [mary, kanyi, married, five, child, attended, ...  0.001238  0.383899   \n",
       "5450  [irene, general, store, sell, clothes, school,...  0.000779  0.000493   \n",
       "5451  [kevin, year, old, orphan, lost, parent, hiv, ...  0.491629  0.348973   \n",
       "5452  [business, description, last, twelve, year, se...  0.000870  0.000550   \n",
       "5453  [elida, luis, year, old, living, without, job,...  0.000798  0.000504   \n",
       "\n",
       "       Topic_3   Topic_4   Topic_5 Dominant_Topic  \n",
       "0     0.001353  0.000504  0.972439        Topic_5  \n",
       "1     0.001158  0.000431  0.996649        Topic_5  \n",
       "2     0.995980  0.000418  0.001896        Topic_3  \n",
       "3     0.001406  0.000524  0.002378        Topic_1  \n",
       "4     0.047621  0.000469  0.949994        Topic_5  \n",
       "...        ...       ...       ...            ...  \n",
       "5449  0.612124  0.000495  0.002244        Topic_3  \n",
       "5450  0.000836  0.000311  0.997581        Topic_5  \n",
       "5451  0.154791  0.000832  0.003775        Topic_1  \n",
       "5452  0.000933  0.043122  0.954524        Topic_5  \n",
       "5453  0.660693  0.000319  0.337685        Topic_3  \n",
       "\n",
       "[5454 rows x 7 columns]"
      ]
     },
     "execution_count": 15,
     "metadata": {},
     "output_type": "execute_result"
    }
   ],
   "source": [
    "# Get the topic distribution for each document\n",
    "topic_distributions = []\n",
    "for bow in corpus:\n",
    "    topic_distribution = lda_model.get_document_topics(bow, minimum_probability=0)\n",
    "    topic_distributions.append([weight for _, weight in topic_distribution])\n",
    "\n",
    "# Create a DataFrame\n",
    "topic_df = pd.DataFrame(topic_distributions, columns=[f'Topic_{i+1}' for i in range(lda_model.num_topics)])\n",
    "\n",
    "# Add the processed text to the DataFrame\n",
    "topic_df.insert(0, 'Processed_Text', data['processed_en'])\n",
    "\n",
    "# Add a \"Dominant_Topic\" column with the name of the topic with the highest weight\n",
    "topic_df['Dominant_Topic'] = topic_df.iloc[:, 1:].idxmax(axis=1)\n",
    "\n",
    "topic_df"
   ]
  },
  {
   "cell_type": "code",
   "execution_count": 16,
   "metadata": {},
   "outputs": [
    {
     "data": {
      "text/plain": [
       "Dominant_Topic\n",
       "Topic_5    2618\n",
       "Topic_1    1233\n",
       "Topic_3     881\n",
       "Topic_2     596\n",
       "Topic_4     126\n",
       "Name: count, dtype: int64"
      ]
     },
     "execution_count": 16,
     "metadata": {},
     "output_type": "execute_result"
    }
   ],
   "source": [
    "topic_df['Dominant_Topic'].value_counts()"
   ]
  },
  {
   "cell_type": "code",
   "execution_count": null,
   "metadata": {},
   "outputs": [],
   "source": []
  }
 ],
 "metadata": {
  "kernelspec": {
   "display_name": "mmai891",
   "language": "python",
   "name": "python3"
  },
  "language_info": {
   "codemirror_mode": {
    "name": "ipython",
    "version": 3
   },
   "file_extension": ".py",
   "mimetype": "text/x-python",
   "name": "python",
   "nbconvert_exporter": "python",
   "pygments_lexer": "ipython3",
   "version": "3.11.9"
  }
 },
 "nbformat": 4,
 "nbformat_minor": 2
}
