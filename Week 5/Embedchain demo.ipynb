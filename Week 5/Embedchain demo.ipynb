{
 "cells": [
  {
   "cell_type": "code",
   "execution_count": 2,
   "metadata": {},
   "outputs": [],
   "source": [
    "import os\n",
    "os.environ[\"OPENAI_API_KEY\"] = \" \"\n"
   ]
  },
  {
   "cell_type": "code",
   "execution_count": 3,
   "metadata": {},
   "outputs": [],
   "source": [
    "from embedchain import Pipeline as App\n",
    "elon_bot = App()"
   ]
  },
  {
   "cell_type": "code",
   "execution_count": 4,
   "metadata": {},
   "outputs": [
    {
     "name": "stderr",
     "output_type": "stream",
     "text": [
      "Inserting batches in chromadb: 100%|██████████| 2/2 [00:03<00:00,  1.51s/it]\n",
      "Inserting batches in chromadb: 100%|██████████| 1/1 [00:00<00:00,  3.89it/s]\n"
     ]
    },
    {
     "data": {
      "text/plain": [
       "'8cf46026cabf9b05394a2658bd1fe890'"
      ]
     },
     "execution_count": 4,
     "metadata": {},
     "output_type": "execute_result"
    }
   ],
   "source": [
    "elon_bot.add(\"https://en.wikipedia.org/wiki/Elon_Musk\")\n",
    "elon_bot.add(\"https://www.forbes.com/profile/elon-musk\")"
   ]
  },
  {
   "cell_type": "code",
   "execution_count": 5,
   "metadata": {},
   "outputs": [
    {
     "name": "stderr",
     "output_type": "stream",
     "text": [
      "2024-12-03 10:54:24,067 - 35988 - embedchain.py-embedchain:547 - WARNING: Starting from v0.1.125 the return type of query method will be changed to tuple containing `answer`.\n"
     ]
    },
    {
     "data": {
      "text/plain": [
       "'Elon Musk runs seven companies, including Tesla, SpaceX, and xAI.'"
      ]
     },
     "execution_count": 5,
     "metadata": {},
     "output_type": "execute_result"
    }
   ],
   "source": [
    "elon_bot.query(\"How many companies does Elon Musk run and name those?\")"
   ]
  },
  {
   "cell_type": "code",
   "execution_count": 6,
   "metadata": {},
   "outputs": [
    {
     "name": "stderr",
     "output_type": "stream",
     "text": [
      "Inserting batches in chromadb: 100%|██████████| 1/1 [00:00<00:00,  1.80it/s]\n",
      "Inserting batches in chromadb: 100%|██████████| 1/1 [00:00<00:00,  3.50it/s]\n"
     ]
    },
    {
     "data": {
      "text/plain": [
       "'54c4bb4dfb8f126928c665247f6a6b95'"
      ]
     },
     "execution_count": 6,
     "metadata": {},
     "output_type": "execute_result"
    }
   ],
   "source": [
    "mma_bot = App()\n",
    "mma_bot.add('https://smith.queensu.ca/grad_studies/mma/index.php')\n",
    "mma_bot.add('https://smith.queensu.ca/grad_studies/mma/program-details/curriculum.php')"
   ]
  },
  {
   "cell_type": "code",
   "execution_count": 7,
   "metadata": {},
   "outputs": [
    {
     "name": "stderr",
     "output_type": "stream",
     "text": [
      "2024-12-03 10:54:29,701 - 35988 - embedchain.py-embedchain:547 - WARNING: Starting from v0.1.125 the return type of query method will be changed to tuple containing `answer`.\n"
     ]
    },
    {
     "data": {
      "text/plain": [
       "'The ideal audience for the MMA program includes individuals who are looking to understand how to use data for business needs, manage complex projects, and lead high-performance teams. This program is designed for those who want to unleash the potential of data analytics to generate competitive advantage, improve customer experience, identify risks, and more.'"
      ]
     },
     "execution_count": 7,
     "metadata": {},
     "output_type": "execute_result"
    }
   ],
   "source": [
    "mma_bot.query('What is the ideal audience for MMA program?')"
   ]
  },
  {
   "cell_type": "code",
   "execution_count": 8,
   "metadata": {},
   "outputs": [
    {
     "name": "stderr",
     "output_type": "stream",
     "text": [
      "2024-12-03 10:54:32,149 - 35988 - embedchain.py-embedchain:547 - WARNING: Starting from v0.1.125 the return type of query method will be changed to tuple containing `answer`.\n"
     ]
    },
    {
     "data": {
      "text/plain": [
       "'You will learn a variety of technical skills in this program, including tools and programming languages such as Python, SQL, R, Tableau, SAS, Hadoop, and Spark.'"
      ]
     },
     "execution_count": 8,
     "metadata": {},
     "output_type": "execute_result"
    }
   ],
   "source": [
    "mma_bot.query('What kind of technical skills I will learn in this program?')"
   ]
  },
  {
   "cell_type": "code",
   "execution_count": 9,
   "metadata": {},
   "outputs": [
    {
     "name": "stderr",
     "output_type": "stream",
     "text": [
      "2024-12-03 10:54:34,796 - 35988 - embedchain.py-embedchain:547 - WARNING: Starting from v0.1.125 the return type of query method will be changed to tuple containing `answer`.\n"
     ]
    },
    {
     "data": {
      "text/plain": [
       "'No pre-requisite technical knowledge such as Python is required to apply for this program.'"
      ]
     },
     "execution_count": 9,
     "metadata": {},
     "output_type": "execute_result"
    }
   ],
   "source": [
    "mma_bot.query('Do I need to have any pre-requisite technical knowledge such as Python to apply for this program?')"
   ]
  },
  {
   "cell_type": "code",
   "execution_count": null,
   "metadata": {},
   "outputs": [],
   "source": []
  }
 ],
 "metadata": {
  "kernelspec": {
   "display_name": "mma865",
   "language": "python",
   "name": "python3"
  },
  "language_info": {
   "codemirror_mode": {
    "name": "ipython",
    "version": 3
   },
   "file_extension": ".py",
   "mimetype": "text/x-python",
   "name": "python",
   "nbconvert_exporter": "python",
   "pygments_lexer": "ipython3",
   "version": "3.11.9"
  }
 },
 "nbformat": 4,
 "nbformat_minor": 2
}
